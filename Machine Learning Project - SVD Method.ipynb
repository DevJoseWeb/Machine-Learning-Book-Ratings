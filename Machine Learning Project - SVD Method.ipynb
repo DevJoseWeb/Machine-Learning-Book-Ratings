{
 "cells": [
  {
   "cell_type": "code",
   "execution_count": 3,
   "metadata": {},
   "outputs": [],
   "source": [
    "import pandas as pd\n",
    "import numpy as np\n",
    "import matplotlib.pyplot as plt\n",
    "import pickle\n",
    "import warnings\n",
    "from surprise import Reader, Dataset, SVD, model_selection, accuracy\n",
    "from surprise.model_selection import GridSearchCV\n",
    "from joblib import Parallel, delayed\n",
    "import multiprocessing"
   ]
  },
  {
   "cell_type": "code",
   "execution_count": 4,
   "metadata": {},
   "outputs": [],
   "source": [
    "reduced_books_users_ratings = pd.read_csv(\"data/clean/reduced_books_users_ratings.csv\")"
   ]
  },
  {
   "cell_type": "code",
   "execution_count": 5,
   "metadata": {},
   "outputs": [],
   "source": [
    "books_users_ratings = pd.read_csv(\"data/clean/books_users_ratings.csv\")"
   ]
  },
  {
   "cell_type": "code",
   "execution_count": 6,
   "metadata": {},
   "outputs": [
    {
     "data": {
      "text/html": [
       "<div>\n",
       "<style scoped>\n",
       "    .dataframe tbody tr th:only-of-type {\n",
       "        vertical-align: middle;\n",
       "    }\n",
       "\n",
       "    .dataframe tbody tr th {\n",
       "        vertical-align: top;\n",
       "    }\n",
       "\n",
       "    .dataframe thead th {\n",
       "        text-align: right;\n",
       "    }\n",
       "</style>\n",
       "<table border=\"1\" class=\"dataframe\">\n",
       "  <thead>\n",
       "    <tr style=\"text-align: right;\">\n",
       "      <th></th>\n",
       "      <th>user_id</th>\n",
       "      <th>unique_isbn</th>\n",
       "      <th>book_rating</th>\n",
       "    </tr>\n",
       "  </thead>\n",
       "  <tbody>\n",
       "    <tr>\n",
       "      <th>0</th>\n",
       "      <td>11676</td>\n",
       "      <td>044023722X</td>\n",
       "      <td>10</td>\n",
       "    </tr>\n",
       "    <tr>\n",
       "      <th>1</th>\n",
       "      <td>11676</td>\n",
       "      <td>044023722X</td>\n",
       "      <td>8</td>\n",
       "    </tr>\n",
       "    <tr>\n",
       "      <th>2</th>\n",
       "      <td>11676</td>\n",
       "      <td>0671537458</td>\n",
       "      <td>8</td>\n",
       "    </tr>\n",
       "    <tr>\n",
       "      <th>3</th>\n",
       "      <td>11676</td>\n",
       "      <td>0671537458</td>\n",
       "      <td>5</td>\n",
       "    </tr>\n",
       "    <tr>\n",
       "      <th>4</th>\n",
       "      <td>11676</td>\n",
       "      <td>0679776818</td>\n",
       "      <td>8</td>\n",
       "    </tr>\n",
       "  </tbody>\n",
       "</table>\n",
       "</div>"
      ],
      "text/plain": [
       "   user_id unique_isbn  book_rating\n",
       "0    11676  044023722X           10\n",
       "1    11676  044023722X            8\n",
       "2    11676  0671537458            8\n",
       "3    11676  0671537458            5\n",
       "4    11676  0679776818            8"
      ]
     },
     "execution_count": 6,
     "metadata": {},
     "output_type": "execute_result"
    }
   ],
   "source": [
    "user_item_rating = reduced_books_users_ratings[['user_id', 'unique_isbn', 'book_rating']]\n",
    "user_item_rating.head()"
   ]
  },
  {
   "cell_type": "code",
   "execution_count": 54,
   "metadata": {},
   "outputs": [],
   "source": [
    "reader = Reader(rating_scale=(1, 10))\n",
    "data = Dataset.load_from_df(user_item_rating, reader)"
   ]
  },
  {
   "cell_type": "code",
   "execution_count": 55,
   "metadata": {},
   "outputs": [],
   "source": [
    "# splitting into train and test\n",
    "train_data, test_data = model_selection.train_test_split(data, test_size=0.2)"
   ]
  },
  {
   "cell_type": "code",
   "execution_count": 10,
   "metadata": {},
   "outputs": [],
   "source": [
    "param_grid = {'n_factors': [80, 100, 120], 'lr_all': [0.001, 0.005, 0.01], 'reg_all': [0.01, 0.02, 0.04]}\n",
    "\n",
    "# Optimize SVD algorithm for both root mean squared error ('rmse') and mean average error ('mae')\n",
    "gs = GridSearchCV(SVD, param_grid, measures=['rmse', 'mae'], cv=5, n_jobs=-1)"
   ]
  },
  {
   "cell_type": "code",
   "execution_count": 11,
   "metadata": {},
   "outputs": [
    {
     "name": "stdout",
     "output_type": "stream",
     "text": [
      "CPU times: user 4min 36s, sys: 3.54 s, total: 4min 40s\n",
      "Wall time: 4min 49s\n"
     ]
    }
   ],
   "source": [
    "# Fit the gridsearch result on the entire dataset\n",
    "%time gs.fit(data)"
   ]
  },
  {
   "cell_type": "code",
   "execution_count": 83,
   "metadata": {},
   "outputs": [
    {
     "name": "stdout",
     "output_type": "stream",
     "text": [
      "SVD : Train Set\n",
      "1.571631504460259\n",
      "{'n_factors': 80, 'lr_all': 0.005, 'reg_all': 0.04}\n"
     ]
    }
   ],
   "source": [
    "# Return the best version of the SVD algorithm\n",
    "model = gs.best_estimator['rmse']\n",
    "print(\"SVD : Train Set\")\n",
    "print(gs.best_score['rmse'])\n",
    "print(gs.best_params['rmse'])"
   ]
  },
  {
   "cell_type": "code",
   "execution_count": 13,
   "metadata": {},
   "outputs": [
    {
     "name": "stdout",
     "output_type": "stream",
     "text": [
      "Evaluating RMSE, MAE of algorithm SVD on 5 split(s).\n",
      "\n",
      "                  Fold 1  Fold 2  Fold 3  Fold 4  Fold 5  Mean    Std     \n",
      "RMSE (testset)    1.5674  1.5807  1.5764  1.5634  1.5705  1.5717  0.0062  \n",
      "MAE (testset)     1.2103  1.2210  1.2108  1.2065  1.2129  1.2123  0.0048  \n",
      "Fit time          4.67    4.31    3.99    3.92    3.93    4.16    0.29    \n",
      "Test time         0.14    0.13    0.13    0.21    0.21    0.16    0.04    \n",
      "CPU times: user 22.8 s, sys: 168 ms, total: 22.9 s\n",
      "Wall time: 23 s\n"
     ]
    },
    {
     "data": {
      "text/plain": [
       "{'test_rmse': array([1.56744588, 1.58074355, 1.57641501, 1.56339161, 1.57048343]),\n",
       " 'test_mae': array([1.2103069 , 1.22097135, 1.21084417, 1.20648728, 1.2129418 ]),\n",
       " 'fit_time': (4.67155385017395,\n",
       "  4.3136162757873535,\n",
       "  3.987733840942383,\n",
       "  3.9196579456329346,\n",
       "  3.9300460815429688),\n",
       " 'test_time': (0.136749267578125,\n",
       "  0.12555909156799316,\n",
       "  0.12606501579284668,\n",
       "  0.21379685401916504,\n",
       "  0.21386218070983887)}"
      ]
     },
     "execution_count": 13,
     "metadata": {},
     "output_type": "execute_result"
    }
   ],
   "source": [
    "%time model_selection.cross_validate(model, data, measures=['rmse', 'mae'], cv=5, verbose=True)"
   ]
  },
  {
   "cell_type": "code",
   "execution_count": 14,
   "metadata": {},
   "outputs": [
    {
     "name": "stdout",
     "output_type": "stream",
     "text": [
      "SVD : Test Set\n",
      "RMSE: 1.5708\n"
     ]
    },
    {
     "data": {
      "text/plain": [
       "1.5707678866750148"
      ]
     },
     "execution_count": 14,
     "metadata": {},
     "output_type": "execute_result"
    }
   ],
   "source": [
    "# Use the new parameters with the training set\n",
    "model = SVD(n_factors=80, lr_all=0.005, reg_all=0.04)\n",
    "model.fit(train_data) # re-fit on only the training data using the best hyperparameters\n",
    "test_pred = model.test(test_data)\n",
    "print(\"SVD : Test Set\")\n",
    "accuracy.rmse(test_pred, verbose=True)"
   ]
  },
  {
   "cell_type": "markdown",
   "metadata": {},
   "source": [
    "# Parameter Relationships\n",
    "`try_param` takes a dictionary of parameters with one parameter changing while the rest are held constant. The output is a data frame. The function runs in parallel and selects the minimum cores between the parameter sets (how many iterations are performed) and the number of cores available on the machine."
   ]
  },
  {
   "cell_type": "code",
   "execution_count": 66,
   "metadata": {},
   "outputs": [],
   "source": [
    "def try_param(param_grid, param):\n",
    "    num_cores = multiprocessing.cpu_count()\n",
    "    length_dict = {key: len(value) for key, value in param_grid.items()}\n",
    "    max_length = max(length_dict.values())\n",
    "    for key, value in param_grid.items():\n",
    "        if len(value) == 1:\n",
    "            param_grid[key] = list(np.repeat(value[0], max_length))\n",
    "    param_sets = list(zip(*param_grid.values()))\n",
    "    if param == \"n_factors\":\n",
    "        p_indx = 0\n",
    "    elif param == \"lr_all\":\n",
    "        p_indx = 1\n",
    "    else:\n",
    "        p_indx = 2\n",
    "    r = Parallel(n_jobs=min(len(param_sets), num_cores))(delayed(fit_model_return)(param_set, param, p_indx) for param_set in param_sets)            \n",
    "    return(pd.DataFrame(r))"
   ]
  },
  {
   "cell_type": "code",
   "execution_count": 65,
   "metadata": {},
   "outputs": [],
   "source": [
    "def fit_model_return(param_set, param, p_indx):\n",
    "    model = SVD(n_factors=param_set[0], lr_all=param_set[1], reg_all=param_set[2])\n",
    "    model.fit(train_data) # re-fit on only the training data using the best hyperparameters\n",
    "    test_pred = model.test(test_data)\n",
    "    rmse = (accuracy.rmse(test_pred, verbose=True))\n",
    "    results_dict = {\"parameter\": param, \"value\": param_set[p_indx], \"rmse\": rmse}\n",
    "    return(results_dict)"
   ]
  },
  {
   "cell_type": "code",
   "execution_count": 63,
   "metadata": {},
   "outputs": [
    {
     "name": "stdout",
     "output_type": "stream",
     "text": [
      "RMSE: 1.5682\n"
     ]
    },
    {
     "data": {
      "text/plain": [
       "1.568231355660561"
      ]
     },
     "execution_count": 63,
     "metadata": {},
     "output_type": "execute_result"
    }
   ],
   "source": [
    "test_pred = model.test(test_data)\n",
    "(accuracy.rmse(test_pred, verbose=True))"
   ]
  },
  {
   "cell_type": "code",
   "execution_count": 22,
   "metadata": {},
   "outputs": [
    {
     "data": {
      "text/plain": [
       "{'n_factors': [50,\n",
       "  55,\n",
       "  60,\n",
       "  65,\n",
       "  70,\n",
       "  75,\n",
       "  80,\n",
       "  85,\n",
       "  90,\n",
       "  95,\n",
       "  100,\n",
       "  105,\n",
       "  110,\n",
       "  115,\n",
       "  120,\n",
       "  125,\n",
       "  130,\n",
       "  135,\n",
       "  140,\n",
       "  145,\n",
       "  150,\n",
       "  155,\n",
       "  160,\n",
       "  165,\n",
       "  170,\n",
       "  175,\n",
       "  180,\n",
       "  185,\n",
       "  190,\n",
       "  195],\n",
       " 'lr_all': [0.005],\n",
       " 'reg_all': [0.04]}"
      ]
     },
     "execution_count": 22,
     "metadata": {},
     "output_type": "execute_result"
    }
   ],
   "source": [
    "param_grid = {'n_factors': list(range(50, 200, 5)), 'lr_all': [.005], 'reg_all': [0.04]}\n",
    "param_grid"
   ]
  },
  {
   "cell_type": "code",
   "execution_count": 67,
   "metadata": {},
   "outputs": [
    {
     "name": "stdout",
     "output_type": "stream",
     "text": [
      "CPU times: user 59.2 s, sys: 574 ms, total: 59.7 s\n",
      "Wall time: 1min 9s\n"
     ]
    }
   ],
   "source": [
    "%time param_results = try_param(param_grid, \"n_factors\")"
   ]
  },
  {
   "cell_type": "code",
   "execution_count": 78,
   "metadata": {},
   "outputs": [
    {
     "data": {
      "image/png": "[encoded data removed]",
      "text/plain": [
       "<Figure size 432x288 with 1 Axes>"
      ]
     },
     "metadata": {
      "needs_background": "light"
     },
     "output_type": "display_data"
    }
   ],
   "source": [
    "fig = plt.scatter(param_results.rmse, param_results.value)\n",
    "plt.title(f\"Comparing {param_results.parameter[0]}\")\n",
    "plt.ylim([0, max(param_results.value) + 2 * (list(param_results.value)[-1] - list(param_results.value)[-2])])\n",
    "plt.xlabel(\"RMSE\")\n",
    "plt.ylabel(param_results.parameter[0])\n",
    "plt.show()"
   ]
  },
  {
   "cell_type": "markdown",
   "metadata": {},
   "source": [
    "# Print Recommendations"
   ]
  },
  {
   "cell_type": "code",
   "execution_count": 80,
   "metadata": {},
   "outputs": [],
   "source": [
    "from collections import defaultdict\n",
    "\n",
    "def get_top_n(predictions, n=10):\n",
    "    '''Return the top-N recommendation for each user from a set of predictions.\n",
    "\n",
    "    Args:\n",
    "        predictions(list of Prediction objects): The list of predictions, as\n",
    "            returned by the test method of an algorithm.\n",
    "        n(int): The number of recommendation to output for each user. Default\n",
    "            is 10.\n",
    "\n",
    "    Returns:\n",
    "    A dict where keys are user (raw) ids and values are lists of tuples:\n",
    "        [(raw item id, rating estimation), ...] of size n.\n",
    "    '''\n",
    "\n",
    "    # First map the predictions to each user.\n",
    "    top_n = defaultdict(list)\n",
    "    for uid, iid, true_r, est, _ in predictions:\n",
    "        top_n[uid].append((iid, est))\n",
    "\n",
    "    # Then sort the predictions for each user and retrieve the k highest ones.\n",
    "    for uid, user_ratings in top_n.items():\n",
    "        user_ratings.sort(key=lambda x: x[1], reverse=True)\n",
    "        top_n[uid] = user_ratings[:n]\n",
    "        \n",
    "    return top_n"
   ]
  },
  {
   "cell_type": "code",
   "execution_count": 81,
   "metadata": {},
   "outputs": [],
   "source": [
    "def get_reading_list(userid, predictions):\n",
    "    \"\"\"\n",
    "    Retrieve full book titles from full 'books_users_ratings' dataframe\n",
    "    \"\"\"\n",
    "    reading_list = defaultdict(list)\n",
    "    top_n = get_top_n(predictions, n=10)\n",
    "    for n in top_n[userid]:\n",
    "        book, rating = n\n",
    "        title = books_users_ratings.loc[books_users_ratings.unique_isbn == book].book_title.unique()[0]\n",
    "        reading_list[title] = rating\n",
    "    return reading_list"
   ]
  },
  {
   "cell_type": "code",
   "execution_count": 82,
   "metadata": {},
   "outputs": [
    {
     "data": {
      "text/plain": [
       "defaultdict(list,\n",
       "            {'morality for beautiful girls (no.1 ladies detective agency)': 7.796701654522468,\n",
       "             \"the no. 1 ladies' detective agency (today show book club #8)\": 7.149651295613182,\n",
       "             \"a cup of tea (ballantine reader's circle)\": 6.765917809313971,\n",
       "             'falling angels': 6.67336722933543})"
      ]
     },
     "execution_count": 82,
     "metadata": {},
     "output_type": "execute_result"
    }
   ],
   "source": [
    "get_reading_list(111637, test_pred)"
   ]
  }
 ],
 "metadata": {
  "kernelspec": {
   "display_name": "Python 3",
   "language": "python",
   "name": "python3"
  },
  "language_info": {
   "codemirror_mode": {
    "name": "ipython",
    "version": 3
   },
   "file_extension": ".py",
   "mimetype": "text/x-python",
   "name": "python",
   "nbconvert_exporter": "python",
   "pygments_lexer": "ipython3",
   "version": "3.6.7"
  },
  "latex_envs": {
   "LaTeX_envs_menu_present": true,
   "autoclose": false,
   "autocomplete": true,
   "bibliofile": "biblio.bib",
   "cite_by": "apalike",
   "current_citInitial": 1,
   "eqLabelWithNumbers": true,
   "eqNumInitial": 1,
   "hotkeys": {
    "equation": "Ctrl-E",
    "itemize": "Ctrl-I"
   },
   "labels_anchors": false,
   "latex_user_defs": false,
   "report_style_numbering": false,
   "user_envs_cfg": false
  },
  "varInspector": {
   "cols": {
    "lenName": 16,
    "lenType": 16,
    "lenVar": 40
   },
   "kernels_config": {
    "python": {
     "delete_cmd_postfix": "",
     "delete_cmd_prefix": "del ",
     "library": "var_list.py",
     "varRefreshCmd": "print(var_dic_list())"
    },
    "r": {
     "delete_cmd_postfix": ") ",
     "delete_cmd_prefix": "rm(",
     "library": "var_list.r",
     "varRefreshCmd": "cat(var_dic_list()) "
    }
   },
   "position": {
    "height": "137.3333282470703px",
    "left": "751px",
    "right": "19px",
    "top": "120px",
    "width": "350px"
   },
   "types_to_exclude": [
    "module",
    "function",
    "builtin_function_or_method",
    "instance",
    "_Feature"
   ],
   "window_display": true
  }
 },
 "nbformat": 4,
 "nbformat_minor": 2
}
