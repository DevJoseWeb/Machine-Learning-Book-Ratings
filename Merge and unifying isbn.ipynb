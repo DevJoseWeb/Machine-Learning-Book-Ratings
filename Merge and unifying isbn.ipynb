{
 "cells": [
  {
   "cell_type": "code",
   "execution_count": 1,
   "metadata": {},
   "outputs": [],
   "source": [
    "import pandas as pd\n",
    "import numpy as np\n",
    "import matplotlib.pyplot as plt\n",
    "import pickle\n",
    "from fuzzywuzzy import fuzz, process\n",
    "import itertools\n",
    "import warnings\n",
    "from bs4 import BeautifulSoup as bs\n",
    "from requests import get\n",
    "import json\n",
    "import time\n",
    "from concurrent.futures import ProcessPoolExecutor, as_completed\n",
    "from tqdm import tqdm"
   ]
  },
  {
   "cell_type": "code",
   "execution_count": 2,
   "metadata": {},
   "outputs": [],
   "source": [
    "books = pd.read_csv(\"data/clean/books_clean.csv\")\n",
    "ratings = pd.read_csv(\"data/clean/ratings_clean.csv\")\n",
    "users = pd.read_csv(\"data/clean/users_clean.csv\")"
   ]
  },
  {
   "cell_type": "markdown",
   "metadata": {},
   "source": [
    "# Webscrape to fill missing data\n",
    "Google only permits 1000 hits a day, so this method is not feasible. The code may be useful for other cases though."
   ]
  },
  {
   "cell_type": "code",
   "execution_count": null,
   "metadata": {},
   "outputs": [],
   "source": [
    "isbn = isbns_to_loop[5]\n",
    "url = f\"https://www.googleapis.com/books/v1/volumes?q=isbn:{isbn}&key={api_key}\"\n",
    "response = get(url)\n",
    "dict_response = json.loads(response.text)"
   ]
  },
  {
   "cell_type": "code",
   "execution_count": null,
   "metadata": {},
   "outputs": [],
   "source": [
    "# Used to test function get_book_details\n",
    "dict_response[\"totalItems\"]\n",
    "check_isbn = [[i, resp_sub[\"identifier\"] == isbn] \n",
    "  for i, resp in enumerate(dict_response[\"items\"]) \n",
    "  for j, resp_sub in enumerate(dict_response[\"items\"][i][\"volumeInfo\"][\"industryIdentifiers\"])]\n",
    "\n",
    "correct_book_index = [value[0] for value in check_isbn if value[1] is True]\n",
    "correct_book_index"
   ]
  },
  {
   "cell_type": "code",
   "execution_count": null,
   "metadata": {
    "code_folding": [
     0
    ]
   },
   "outputs": [],
   "source": [
    "def get_book_details(isbn):\n",
    "    url = f\"https://www.googleapis.com/books/v1/volumes?q=isbn:{isbn}&key={api_key}\"\n",
    "    response = get(url)\n",
    "    dict_response = json.loads(response.text)\n",
    "    title, author, year_of_publication, publisher = [], [], [], []\n",
    "    total_items = dict_response[\"totalItems\"]\n",
    "    \n",
    "    if dict_response[\"totalItems\"]:\n",
    "        total_items = dict_response[\"totalItems\"]\n",
    "    \n",
    "        if total_items >= 1:    \n",
    "\n",
    "            book_details = dict_response[\"items\"][0][\"volumeInfo\"]\n",
    "\n",
    "            try:\n",
    "                title.append(book_details[\"title\"])\n",
    "            except:\n",
    "                title.append(np.nan)\n",
    "            try:\n",
    "                author.append(book_details[\"authors\"][0])\n",
    "            except:\n",
    "                author.append(np.nan)\n",
    "            try:\n",
    "                year_of_publication.append(book_details[\"publishedDate\"])\n",
    "            except:\n",
    "                year_of_publication.append(np.nan)\n",
    "            try:\n",
    "                publisher.append(book_details[\"publisher\"])\n",
    "            except:\n",
    "                publisher.append(np.nan)\n",
    "\n",
    "            book_df = pd.DataFrame(title, columns=[\"book_title\"])\n",
    "            book_df[\"isbn\"] = isbn\n",
    "            book_df[\"book_author\"] = author\n",
    "            book_df[\"year_of_publication\"] = year_of_publication\n",
    "            book_df[\"publisher\"] = publisher\n",
    "            return(book_df)"
   ]
  },
  {
   "cell_type": "code",
   "execution_count": null,
   "metadata": {},
   "outputs": [],
   "source": [
    "books_with_ratings_dirty = pd.merge(ratings, books, how=\"left\", on=\"isbn\")\n",
    "missing_books = books_with_ratings_dirty.loc[books_with_ratings_dirty.book_title.isnull()].drop_duplicates(subset=\"isbn\")\n",
    "isbns_to_loop = missing_books.isbn.values[963:(963+159)] # [0:975]\n",
    "isbns_to_loop.shape"
   ]
  },
  {
   "cell_type": "code",
   "execution_count": null,
   "metadata": {
    "code_folding": []
   },
   "outputs": [],
   "source": [
    "# isbns_to_loop = missing_books.sample(n=2).isbn.values\n",
    "books_retrieved = pd.DataFrame(columns=[\"book_title\", \"isbn\", \"book_author\", \"year_of_publication\", \"publisher\"])\n",
    "for i in tqdm(range(0, len(isbns_to_loop))):\n",
    "    if i is 0:\n",
    "        books_retrieved = pd.concat([books_retrieved, get_book_details(isbns_to_loop[i])])\n",
    "    else:\n",
    "        books_retrieved = pd.concat([books_retrieved, get_book_details(isbns_to_loop[i])], ignore_index=True)\n",
    "    time.sleep(1)"
   ]
  },
  {
   "cell_type": "code",
   "execution_count": null,
   "metadata": {},
   "outputs": [],
   "source": [
    "# books_retrieved.to_csv(\"books_retrieved_0_through_961.csv\", index=False)"
   ]
  },
  {
   "cell_type": "markdown",
   "metadata": {},
   "source": [
    "# Data cleaning\n",
    "Above is for filling in missing data with webscraping\n",
    "\n",
    "__Key problems:__\n",
    "\n",
    "1. Duplicate ISBNs for same book due to different editions\n",
    "\n",
    "1. Typos in author name\n",
    "\n",
    "We will address the duplicate ISBNs by cleaning the author names with text processing methods, including lower case to avoid case-sensitive differences, tokenizing, and removal of special characters (for the purposes of normalizing author names). Once the author names are clean, we will join to `rating` to `books` and normalize the author names with fuzzy string matching using the __fuzzywuzzy__ (no pun intended). The normalization is achieved by selecting the author name that is the most prevelant in `rating`. If only one author name exists, the record is ignored."
   ]
  },
  {
   "cell_type": "code",
   "execution_count": 3,
   "metadata": {},
   "outputs": [],
   "source": [
    "min_publication_df = pd.merge(books.groupby([\"book_title\", \"book_author\"]).agg({\"year_of_publication\": np.min}), \n",
    "         books.drop(\"year_of_publication\", axis=1), on=[\"book_title\", \"book_author\"])\n",
    "clean_pub_year_df = min_publication_df.assign(year_of_publication=min_publication_df.year_of_publication.astype(\"int\"))\n",
    "pub_year_df = clean_pub_year_df.drop([\"publisher\"], axis=1)\n",
    "books_with_ratings = pd.merge(ratings, pub_year_df, on=\"isbn\")\n",
    "\n",
    "books_with_ratings.book_title = books_with_ratings.book_title.str.lower()\n",
    "books_with_ratings.book_author = books_with_ratings.book_author.str.lower()\n",
    "books.book_title = books.book_title.str.lower()\n",
    "books.book_author = books.book_author.str.lower()"
   ]
  },
  {
   "cell_type": "code",
   "execution_count": 4,
   "metadata": {},
   "outputs": [
    {
     "data": {
      "text/plain": [
       "(132021,)"
      ]
     },
     "execution_count": 4,
     "metadata": {},
     "output_type": "execute_result"
    }
   ],
   "source": [
    "author_count_df = books_with_ratings.groupby([\"book_author\", \"book_title\"]).nunique().drop([\"book_title\", \"book_author\"], axis=1).reset_index(level=0).reset_index(level=0)\n",
    "titles_to_loop = author_count_df.book_title.unique()\n",
    "titles_to_loop.shape"
   ]
  },
  {
   "cell_type": "code",
   "execution_count": 5,
   "metadata": {
    "code_folding": [
     1
    ]
   },
   "outputs": [],
   "source": [
    "# http://danshiebler.com/2016-09-14-parallel-progress-bar/\n",
    "def parallel_process(array, function, n_jobs=16, use_kwargs=False, front_num=3):\n",
    "    \"\"\"\n",
    "        A parallel version of the map function with a progress bar. \n",
    "\n",
    "        Args:\n",
    "            array (array-like): An array to iterate over.\n",
    "            function (function): A python function to apply to the elements of array\n",
    "            n_jobs (int, default=16): The number of cores to use\n",
    "            use_kwargs (boolean, default=False): Whether to consider the elements of array as dictionaries of \n",
    "                keyword arguments to function \n",
    "            front_num (int, default=3): The number of iterations to run serially before kicking off the parallel job. \n",
    "                Useful for catching bugs\n",
    "        Returns:\n",
    "            [function(array[0]), function(array[1]), ...]\n",
    "    \"\"\"\n",
    "    # We run the first few iterations serially to catch bugs\n",
    "    if front_num > 0:\n",
    "        front = [function(**a) if use_kwargs else function(a) for a in array[:front_num]]\n",
    "    # If we set n_jobs to 1, just run a list comprehension. This is useful for benchmarking and debugging.\n",
    "    if n_jobs==1:\n",
    "        return front + [function(**a) if use_kwargs else function(a) for a in tqdm(array[front_num:])]\n",
    "    # Assemble the workers\n",
    "    with ProcessPoolExecutor(max_workers=n_jobs) as pool:\n",
    "        # Pass the elements of array into function\n",
    "        if use_kwargs:\n",
    "            futures = [pool.submit(function, **a) for a in array[front_num:]]\n",
    "        else:\n",
    "            futures = [pool.submit(function, a) for a in array[front_num:]]\n",
    "        kwargs = {\n",
    "            'total': len(futures),\n",
    "            'unit': 'it',\n",
    "            'unit_scale': True,\n",
    "            'leave': True\n",
    "        }\n",
    "        # Print out the progress as tasks complete\n",
    "        for f in tqdm(as_completed(futures), **kwargs):\n",
    "            pass\n",
    "    out = []\n",
    "    # Get the results from the futures. \n",
    "    for i, future in tqdm(enumerate(futures)):\n",
    "        try:\n",
    "            out.append(future.result())\n",
    "        except Exception as e:\n",
    "            out.append(e)\n",
    "    return front + out"
   ]
  },
  {
   "cell_type": "code",
   "execution_count": 6,
   "metadata": {
    "code_folding": [
     0
    ]
   },
   "outputs": [],
   "source": [
    "def match_author(title, df=author_count_df):\n",
    "    df = df.loc[df.book_title == title]\n",
    "    popular_author = df[df.user_id == df.user_id.max()].book_author.values[0]\n",
    "    check_authors = df[~(df.user_id == df.user_id.max())].book_author\n",
    "    returned_scores = process.extract(popular_author, check_authors)\n",
    "    match_dict = {}\n",
    "    high_matches = [match[0] for match in returned_scores if match[1] >= 90]\n",
    "    if high_matches:\n",
    "        match_dict[popular_author] = high_matches\n",
    "        return(match_dict)"
   ]
  },
  {
   "cell_type": "markdown",
   "metadata": {},
   "source": [
    "## Process Author Names\n",
    "This loop takes about 10-15 minutes depending on the local machine. Defaulted to eight cores."
   ]
  },
  {
   "cell_type": "code",
   "execution_count": 7,
   "metadata": {},
   "outputs": [
    {
     "name": "stderr",
     "output_type": "stream",
     "text": [
      "100%|██████████| 132k/132k [12:13<00:00, 180it/s]    \n",
      "132018it [00:00, 462406.64it/s]\n"
     ]
    }
   ],
   "source": [
    "job_results = parallel_process(titles_to_loop, match_author, n_jobs=8)"
   ]
  },
  {
   "cell_type": "code",
   "execution_count": 9,
   "metadata": {},
   "outputs": [],
   "source": [
    "removed_none_results = [result for result in job_results if result is not None]\n",
    "mapped_authors = {k: v for result in removed_none_results for k, v in result.items()}"
   ]
  },
  {
   "cell_type": "code",
   "execution_count": 10,
   "metadata": {},
   "outputs": [
    {
     "data": {
      "text/plain": [
       "{'a. a. milne': ['a.a. milne'],\n",
       " 'a.a. milne': ['a. a. milne'],\n",
       " 'a.c. crispin': ['a. c. crispin'],\n",
       " 'a.j. jacobs': ['a. j. jacobs'],\n",
       " 'a.s.  byatt': ['a. s. byatt'],\n",
       " 'aaron elkins': ['aaron j. elkins'],\n",
       " 'edward abbey': ['abbey'],\n",
       " 'adã¨le geras': ['adele geras'],\n",
       " 'adriana trigiana': ['adriana trigiani'],\n",
       " 'agatha christie': ['christie'],\n",
       " 'aidan, macfarlane': ['aidan macfarlane'],\n",
       " 'alan lightman': ['alan p. lightman'],\n",
       " 'albert camus': ['albert  camus'],\n",
       " 'gore albert': ['albert gore'],\n",
       " 'louisa may alcott': ['louisa m. alcott'],\n",
       " 'leopold': ['aldo leopold'],\n",
       " 'aleksandr solzhenitsyn': ['aleksandr isaevich solzhenitsyn'],\n",
       " 'alexis de tocqueville': ['alexis de tocquevil'],\n",
       " 'alistair maclean': ['maclean'],\n",
       " 'amelie nothomb': ['amã©lie nothomb'],\n",
       " 'andrew': ['brother andrew'],\n",
       " 'andrew a. rooney': ['andrew rooney'],\n",
       " 'andrew vachss': ['andrew h. vachss'],\n",
       " 'andrew m. greeley': ['andrew m greeley'],\n",
       " 'andrew weil m.d.': ['andrew weil'],\n",
       " 'v.c. andrews': ['v. c. andrews'],\n",
       " 'ann margret': ['ann-margaret'],\n",
       " 'fynn': ['anna fynn'],\n",
       " 'anne frank': ['frank'],\n",
       " 'anne mccaffrey': ['mccaffrey'],\n",
       " 'mccaffrey': ['anne mccaffrey'],\n",
       " 'anne perry': ['perry'],\n",
       " 'anne rice': ['rice'],\n",
       " 'e. annie proulx': ['annie proulx'],\n",
       " 'annie proulx': ['e. annie proulx'],\n",
       " 'anonymous': ['anon.'],\n",
       " 'anthony piers': ['piers anthony'],\n",
       " 'antoine de saint-exupã©ry': ['antoine de saint-exupery'],\n",
       " 'antoine de saint-exupery': ['antoine de saint-exupã©ry'],\n",
       " 'jeffrey archer': ['archer'],\n",
       " 'arlene j chai': ['arlene j. chai'],\n",
       " 'arthur c. clarke': ['arthur clarke'],\n",
       " 'arthur conan, sir doyle': ['arthur conan doyle'],\n",
       " 'sir arthur conan doyle': ['arthur conan, sir doyle'],\n",
       " 'arthur golden': ['arthur s. golden'],\n",
       " 'arturo perez reverte': ['arturo pã©rez-reverte'],\n",
       " 'arturo perez-reverte': ['arturo reverte perez'],\n",
       " 'arturo pã©rez-reverte': ['arturo perez-reverte'],\n",
       " 'ayi kewi armah': ['ayi kwei armah'],\n",
       " 'b kliban': ['b. kliban'],\n",
       " 'barbara bradford taylor': ['barbara taylor bradford'],\n",
       " 'barbara de angelis': ['barbara, ph.d. de angelis'],\n",
       " 'barbara deangelis': ['barbara de angelis'],\n",
       " 'barbara m. joosse': ['barbara m joosse'],\n",
       " 'emmuska orczy orczy': ['baroness orczy emmuska'],\n",
       " 'bates': ['h. e bates'],\n",
       " 'beatrice small': ['bertrice small'],\n",
       " 'pierre augustin beaumarchais': ['beaumarchais'],\n",
       " 'benjamin, m.d. spock': ['benjamin spock'],\n",
       " 'rubens': ['bernice rubens'],\n",
       " 'bertrand r brinley': ['bertrand r. brinley'],\n",
       " 'bette lord': ['bette bao lord'],\n",
       " 'beverley donofrio': ['beverly donofrio'],\n",
       " 'beverly cleary': ['cleary'],\n",
       " 'bill d. moyers': ['bill moyers'],\n",
       " 'robert bloch': ['bloch robert'],\n",
       " 'bram stoker': ['bram stocker'],\n",
       " 'ray bradbury': ['bradbury'],\n",
       " 'bret lott': ['brett lott'],\n",
       " 'leon uris': ['uris'],\n",
       " 'terry brooks': ['brooks'],\n",
       " 'bruce robinson': ['bruce e. robinson'],\n",
       " 'ernest buckler': ['buckler'],\n",
       " 'c.j. cherryh': ['c. j. cherryh'],\n",
       " 'c. s. lewis': ['c.s. lewis'],\n",
       " 'c.s. lewis': ['c. s. lewis'],\n",
       " 'camron wright': ['camron steve wright'],\n",
       " \"scott o'grady\": [\"captain scott o'grady\"],\n",
       " 'carl hiaasen': ['carl haasen'],\n",
       " 'gaite carmen martin': ['carmen martin gaite'],\n",
       " 'carol f. karlsen': ['carol f., karlsen'],\n",
       " 'carolyn g. hart': ['carolyn hart'],\n",
       " 'catherine clement': ['catharine clement'],\n",
       " 'u.s. catholic church': ['catholic church'],\n",
       " 'celeste deblasis': ['celeste de blasis'],\n",
       " 'celeste, ph.d. yarnall': ['celeste yarnall'],\n",
       " 'dean r. koontz': ['dean koontz'],\n",
       " 'charles sheldon': ['charles m. sheldon'],\n",
       " 'charles r swindoll': ['charles r. swindoll'],\n",
       " 'charlotte bronte': ['charlotte brontã?â«'],\n",
       " 'choderlos de laclos': ['pierre choderlos de laclos',\n",
       "  'pierre-ambroise-franã?â§ois choderlos de laclos'],\n",
       " 'chopra': ['deepak chopra'],\n",
       " 'christiane northrup': ['christiane, md. northrup'],\n",
       " 'christina crawford': ['christinia crawford'],\n",
       " 'tom clancy': ['clancy tom'],\n",
       " 'clavell': ['james clavell'],\n",
       " 'clifford simak': ['clifford d. simak'],\n",
       " 'robert mccammon': ['robert r. mccammon'],\n",
       " 'conrad n. hilton': ['conrad hilton'],\n",
       " 't. coraghessan boyle': ['t.coraghessan boyle'],\n",
       " 'cynthia voight': ['cynthia voigt'],\n",
       " 'cynthia voigt': ['cynthia voight'],\n",
       " 'd. h. lawrence': ['d.h. lawrence'],\n",
       " 'd.w. buffa': ['d. w. buffa'],\n",
       " 'd. w. buffa': ['d.w. buffa'],\n",
       " 'dbc pierre': ['d.b.c pierre'],\n",
       " 'roald dahl': ['dahl'],\n",
       " 'daniel defoe': ['daniel de foe'],\n",
       " 'daniel manus pinkwater': ['daniel pinkwater'],\n",
       " 'dante alighieri': ['dante'],\n",
       " 'maurice g. dantec': ['dantec'],\n",
       " 'daphne du maurier': ['daphne dumaurier', 'daphnã?â© du maurier'],\n",
       " 'david daniel  kennedy': ['david daniel kennedy'],\n",
       " 'wilbur a. smith': ['wilbur smith'],\n",
       " 'david larkin': ['david e. larkin'],\n",
       " 'david guterson': ['david gutterson', 'david g. uterson'],\n",
       " 'margery williams': ['margery williams bianco'],\n",
       " 'david morrell': ['david morell'],\n",
       " 'david t. suzuki': ['david suzuki'],\n",
       " 'dean koontz': ['dean r. koontz'],\n",
       " 'debbi kempton smith': ['debbie kempton smith'],\n",
       " 'dianna l. paxson': ['diana l. paxson'],\n",
       " 'diana palmer': ['diane palmer'],\n",
       " 'dianna wynne jones': ['diana wynne jones'],\n",
       " 'frances hodgson burnett': ['frances hodgson  burnett'],\n",
       " 'dick francis': ['francis'],\n",
       " 'francis': ['dick francis'],\n",
       " 'dog mary crow': ['mary crow dog'],\n",
       " 'donald johanson': ['donald c johanson'],\n",
       " 'donald m. vickery': ['donald vickery'],\n",
       " 'donald s. passman': ['donald s passman'],\n",
       " 'doris may lessing': ['doris lessing'],\n",
       " 'dorothy gilman': ['gilman'],\n",
       " 'dorothy l. sayers': ['dorothy l sayers'],\n",
       " 'douglas, dr. ubelaker': ['douglas h. ubelaker'],\n",
       " 'tony campolo': ['dr, tony campolo'],\n",
       " 'dr. seuss': ['seuss'],\n",
       " 'e.d., jr. hirsch': ['e. d. hirsch'],\n",
       " 'e. l. doctorow': ['e.l. doctorow'],\n",
       " 'e.l. konigsburg': ['e. l. konigsburg'],\n",
       " 'e. m forster': ['e. m. forster'],\n",
       " 'e. nesbit': ['nesbit'],\n",
       " 'wade davis': ['e. wade davis'],\n",
       " 'edgar burroughs': ['edgar rice burroughs'],\n",
       " 'edith forbes': ['eidth forbes'],\n",
       " 'edmond rostand': ['edmond rostland'],\n",
       " 'edmund hobson': ['edmund s. hobson'],\n",
       " 'eduardo mendoza': ['edwardo mendoza'],\n",
       " 'edward r.f. sheehan': ['edward r. f. sheehan'],\n",
       " 'edward rutherford': ['edward rutherfurd'],\n",
       " 'eleanor porter': ['eleanor h. porter'],\n",
       " 'elena poniatowksa': ['elena poniatowska'],\n",
       " 'john lescroart': ['john t. lescroart'],\n",
       " 'elizabeth l post': ['elizabeth l. post'],\n",
       " 'elliott hester': ['elliot hester'],\n",
       " 'eric l. harry': ['eric harry'],\n",
       " 'eric lustbader': ['eric van lustbader'],\n",
       " 'ernest hemingway': ['ernest heminway'],\n",
       " 'lina  ethel white': ['ethel lina white'],\n",
       " 'ethel wilson': ['wilson'],\n",
       " 'yevgeny zamyatin': ['yevgeny zamiatin'],\n",
       " 'eva ibbotson': ['eva ebbotson'],\n",
       " 'forward eve': ['eve forward'],\n",
       " 'f. batmanhelidj': ['f. batmanghelidj'],\n",
       " 'f. paul wilson': ['paul f. wilson'],\n",
       " 'f. scott fitzgerald': ['f. scott fritzgerald'],\n",
       " 'judith michaels': ['judith michael'],\n",
       " 'federico garcia lorca': ['frederico garcia lorca'],\n",
       " 'flora rheta schreiber': ['flora rhea schreiber'],\n",
       " 'francis hodgson burnett': ['frances hodgson burnett'],\n",
       " 'frank b. gilbreth': ['frank b., jr. gilbreth'],\n",
       " 'frank b., jr. gilbreth': ['frank b., jr gilbreth',\n",
       "  'frank b. gilbreth',\n",
       "  'frank b. gilbreth sr.'],\n",
       " 'grace frank baum': ['frank baum'],\n",
       " 'frank e. peretti': ['frank peretti'],\n",
       " 'frank l. baum': ['l. frank baum'],\n",
       " 'l. frank baum': ['frank l. baum'],\n",
       " 'frederik pohl': ['pohl. frederick'],\n",
       " 'fyodor dostoevsky': ['fyodor dostoyevsky'],\n",
       " 'g. b. trudeau': ['g. b trudeau'],\n",
       " 'g. p. taylor': ['g.p. taylor'],\n",
       " 'gabriel garcia marquez': ['gabriel garcã\\xada mã¡rquez'],\n",
       " 'gabriel garacia marquez': ['gabriel garcia marquez',\n",
       "  'gabriel garcia marques'],\n",
       " 'gabriel garcã\\xada mã¡rquez': ['gabriel garcia marquez'],\n",
       " 'gabriel gracia marquez': ['gabriel garcia marquez'],\n",
       " 'john champlin gardner': ['gardner'],\n",
       " 'gary  mccord': ['gary mccord'],\n",
       " 'george ritchie': ['george g ritchie'],\n",
       " 'george r.r. martin': ['george martin'],\n",
       " 'george r. r. martin': ['george r.r. martin'],\n",
       " 'george r. stewart': ['stewart'],\n",
       " 'gibran': ['khalil gibran'],\n",
       " 'giovanni pico della mirandola': ['giovanni'],\n",
       " 'goldman': ['william goldman'],\n",
       " 'john martel': ['john s. martel'],\n",
       " 'grass': ['gunter grass'],\n",
       " 'gã?â¼nter grass': ['grass'],\n",
       " 'kate grenville': ['grenville kate'],\n",
       " 'judith guest': ['guest'],\n",
       " 'h.a. rey': ['h. a. rey'],\n",
       " 'h. jackson, jr. brown': ['h. jackson brown'],\n",
       " 'hank searles': ['hank searls'],\n",
       " 'harold s. kushner': ['harold kushner'],\n",
       " 'robbins': ['harold robbins'],\n",
       " 'harry harrison': ['harry, jr. harrison'],\n",
       " 'harvard lampoon staff': ['harvard lampoon'],\n",
       " 'heather graham pozzessere': ['heather graham'],\n",
       " 'helen hooven santmyer': ['helen hoover santmyer'],\n",
       " 'joseph heller': ['heller'],\n",
       " 'henry james': ['henery james'],\n",
       " 'henry, dr. cloud': ['henry cloud'],\n",
       " 'william hope hodgson': ['hodgson, william hope'],\n",
       " 'hyemeyohsts storm': ['hyemyohsts storm'],\n",
       " 'iain banks': ['iain m banks'],\n",
       " 'l.m. montgomery': ['l. m. montgomery'],\n",
       " 'immanuel kant': ['kant'],\n",
       " 'irma s. rombauer': ['irma rombauer'],\n",
       " 'john irving': ['irving john'],\n",
       " 'j. r. r. tolkien': ['j.r.r. tolkien'],\n",
       " 'j. d. robb': ['j.d. robb'],\n",
       " 'j.d. salinger': ['j. d. salinger'],\n",
       " 'j. g. ballard': ['j. g ballard'],\n",
       " 'j. m. dillard': ['j.m. dillard'],\n",
       " 'j.r.r. tolkien': ['j. r. r. tolkien'],\n",
       " 'j.s. borthwick': ['j. s. borthwick'],\n",
       " 'j. t. leroy': ['j.t. leroy'],\n",
       " 'j.m. dillard': ['j.m. dilliard'],\n",
       " 'james a. michener': ['james michener'],\n",
       " 'james a michener': ['james a. michener'],\n",
       " 'james michener': ['james a. michener'],\n",
       " 'james c dobson': ['james dobson'],\n",
       " 'james dobson': ['james c dobson'],\n",
       " 'james c. dobson': ['james dobson'],\n",
       " 'james cain': ['james m cain'],\n",
       " 'james d lester': ['james d. lester'],\n",
       " 'james grippando': ['james m. grippando'],\n",
       " 'james huston': ['james w. huston'],\n",
       " 'jean auel': ['jean m. auel'],\n",
       " 'jean sasson': ['jean p. sasson'],\n",
       " 'jean p. sasson': ['jean sasson'],\n",
       " 'jean-christophe grange': ['jean-christophe grangã?â©'],\n",
       " 'jeffrey deaver': ['jeffery deaver'],\n",
       " 'jeffrey a. carver': ['jeffrey carver'],\n",
       " 'jennifer lee carrell': ['jennifer carrell'],\n",
       " 'jennifer crusie': ['jennifer crusi'],\n",
       " 'jennifer roberson': ['jennifer robertson'],\n",
       " 'jerzy kosinski': ['jerzy n kosinski'],\n",
       " 'jill davis': ['jill a. davis'],\n",
       " 'jim  carrier': ['jim carrier'],\n",
       " 'jim catfish hunter': ['jim \\\\catfish\\\\\" hunter\"'],\n",
       " 'joanna trollope': ['joanne trollope'],\n",
       " 'joe mcginniss': ['joe mcginnis'],\n",
       " 'johanna spyri': ['spyri'],\n",
       " 'john  davidson': ['john davidson'],\n",
       " 'john gardner': ['john c. gardner'],\n",
       " 'john d. macdonald': ['john macdonald'],\n",
       " 'john d macdonald': ['john d. macdonald'],\n",
       " 'john edward': ['john j. edward'],\n",
       " 'john lecarre': ['john le carre'],\n",
       " 'john le carre': ['john lecarre'],\n",
       " 'john t. lescroart': ['john lescroart'],\n",
       " 'pope john paul ii': ['pope, ii john paul', 'john paul'],\n",
       " 'john sandford': ['john sanford'],\n",
       " 'john skipp': ['skipp'],\n",
       " 'john treadwell nichols': ['nichols'],\n",
       " 'updike': ['john updike'],\n",
       " 'jose luis sampedro': ['josã© luis sampedro'],\n",
       " 'joseph mccormick': ['joseph b mccormick'],\n",
       " 'joseph f girzone': ['joseph girzone'],\n",
       " 'joseph f. girzone': ['joseph girzone'],\n",
       " 'joseph girzone': ['joseph f. girzone'],\n",
       " 'joseph l. heller': ['joseph heller'],\n",
       " 'judi barrett': ['judith barrett'],\n",
       " 'kurtz': ['katherine kurtz'],\n",
       " 'katheryn paulsen': ['kathryn paulsen'],\n",
       " 'kenize mourad': ['kenize mourat'],\n",
       " 'kenneth blanchard': ['kenneth h. blanchard'],\n",
       " 'kenneth graham': ['kenneth grahame'],\n",
       " 'kevin dr. leman': ['kevin leman'],\n",
       " 'kevin phillips': ['kevin p. phillips'],\n",
       " 'kuhn': ['thomas s. kuhn'],\n",
       " 'kurt d. bruner': ['kurt bruner'],\n",
       " 'kurt, jr. vonnegut': ['kurt vonnegut'],\n",
       " \"madeleine l'engle\": [\"l'engle madelein\"],\n",
       " 'l. ron hubbard': ['ron l. hubbard'],\n",
       " 'lao tzu': ['lao-tzu'],\n",
       " 'laura shaine cunningham': ['laura cunningham'],\n",
       " 'laura ingalls wilder': ['laura ingall wilder'],\n",
       " 'laura nathanson walther': ['laura nathanson'],\n",
       " 'laurie r. king': ['laurie king'],\n",
       " 'lee iacocca': ['lee a. iacocca'],\n",
       " 'leigh w. rutledge': ['leigh rutledge'],\n",
       " 'leil  lowndes': ['leil lowndes'],\n",
       " 'leo f. buscaglia': ['leo buscaglia'],\n",
       " 'lewis': ['roy lewis'],\n",
       " 'lois battle': ['lois. battle'],\n",
       " 'louis d giannetti': ['louis d. giannetti', 'louis giannetti'],\n",
       " \"louis l'amour\": ['louis lamour'],\n",
       " 'lucian k. truscott': ['lucian k., iv truscott'],\n",
       " 'lucy parker': ['lucy v. parker'],\n",
       " 'luis martin-santos': ['luis martinâ\\xadsantos'],\n",
       " 'luther blissett': ['luther blisset'],\n",
       " 'lynne reid banks': ['lynn reid banks'],\n",
       " 'm.h. abrams': ['m. h. abrams', 'm. h abrams'],\n",
       " 'm. m. kaye': ['m. m kaye'],\n",
       " 'majorie shostak': ['marjorie shostak'],\n",
       " 'manuela dunn mascetti': ['manuela dunn-mascetti'],\n",
       " 'mariama ba': ['mariama bã¢'],\n",
       " 'marilynne robinson': ['marilynn robinson', 'marilyn robinson'],\n",
       " 'mario f. triola': ['triola'],\n",
       " 'mark h. mccormack': ['mark h mccormack'],\n",
       " 'mark j., ph.d. plotkin': ['mark j. plotkin'],\n",
       " 'p. d. james': ['p.d. james'],\n",
       " 'martin schenk': ['martin schnek'],\n",
       " 'mary pipher': ['mary bray pipher'],\n",
       " 'mary higgins clark': ['mary higgins-clark'],\n",
       " 'mary wollstonecraft shelley': ['wollstonecraft mary shelley'],\n",
       " 'richard matheson': ['matheson richard'],\n",
       " 'mattie j. t. stepanek': ['mattie stepanek'],\n",
       " 'michael j. fox': ['michael  j. fox'],\n",
       " 'michael mcclelland': ['michael mccelland'],\n",
       " 'robert heinlein': ['robert a. heinlein'],\n",
       " 'miguel de cervantes saavedra': ['miguel de cervantes'],\n",
       " 'milans kundera': ['milan kundera'],\n",
       " 'miriam e. nelson': ['miriam e. nelson ph.d.'],\n",
       " 'monica furlong': ['monica fulong'],\n",
       " 'montaque summers': ['montague summer'],\n",
       " 'the moosewood collective': ['moosewood collective'],\n",
       " 'morris west': ['morris l. west'],\n",
       " 'phyllis reynolds naylor': ['naylor'],\n",
       " 'thomas block': ['thomas h. block'],\n",
       " 'nevil shute norway': ['nevil shute'],\n",
       " 'sun tzu': ['sun-tzu'],\n",
       " 'nikos kazantzakis': ['nikos kazantzakes'],\n",
       " 'norman f. maclean': ['norman maclean'],\n",
       " \"scott o'dell\": [\"o'dell scott\"],\n",
       " 'oliver sacks': ['oliver w sacks'],\n",
       " 'oliver w. sacks': ['oliver sacks'],\n",
       " 'p.d. james': ['p. d. james'],\n",
       " \"p. j. o'rourke\": [\"p.j. o'rourke\"],\n",
       " \"p.j. o'rourke\": [\"p. j. o'rourke\"],\n",
       " 'p.n. elrod': ['p. n. elrod'],\n",
       " 'patricia cornwell': ['patricia daniels cornwell'],\n",
       " 'patricia daniels cornwell': ['patricia cornwell'],\n",
       " 'patrick f. mcmanus': ['patrick mcmanus'],\n",
       " 'patrick mcmanus': ['patrick f. mcmanus'],\n",
       " 'patrick r. mcmanus': ['patrick f. mcmanus'],\n",
       " 'paul j. mcauley': ['paul mcauley'],\n",
       " 'paul maier': ['paul l. maier'],\n",
       " 'paulo coelho': ['paulo coehlo'],\n",
       " 'penelope j. stokes': ['penelope stokes'],\n",
       " 'peter hoeg': ['peter heg'],\n",
       " 'philip k. dick': ['philip dick'],\n",
       " 'phillip margolin': ['philip margolin'],\n",
       " 'phillip m. margolin': ['phillip margolin'],\n",
       " 'poppy brite': ['poppy z. brite'],\n",
       " 'red stanglano': ['red stangland'],\n",
       " 'ruth rendell': ['ruth rendall'],\n",
       " 'renã?â© barjavel': ['rene barjavel'],\n",
       " 'richard lederer': ['richard, lederer'],\n",
       " 'tom robbins': ['robbins'],\n",
       " 'robert a. heinlein': ['robert heinlein'],\n",
       " 'robert asprin': ['robert aprin'],\n",
       " 'robert parker': ['robert b. parker'],\n",
       " 'robert n. bramson': ['robert bramson'],\n",
       " 'robert c. atkins': ['robert c., md. atkins'],\n",
       " 'robert l. shapiro': ['robert shapiro'],\n",
       " 'robert m pirsig': ['robert m. pirsig', 'robert pirsig'],\n",
       " 'robert pirsig': ['robert m. pirsig'],\n",
       " 'robert n. munsch': ['robert munsch'],\n",
       " 'rosamunde pilcher': ['rosamunde. pilcher'],\n",
       " 'rudolfo anaya': ['rudolfo a. anaya'],\n",
       " 'rudolph w. giuliani': ['rudolph giuliani'],\n",
       " 's.e. hinton': ['s. e. hinton'],\n",
       " 's.m. stirling': ['s. m. stirling'],\n",
       " 'sa shan': ['shan sa'],\n",
       " 'sandra shevey': ['sandra shevy'],\n",
       " 'shirley maclaine': ['shirley mcclaine'],\n",
       " 'sir walter scott': ['walter scott', 'walter, sir scott'],\n",
       " 'stanislaw lem': ['stanislav lem'],\n",
       " 'stanley, m.d. turecki': ['stanley turecki'],\n",
       " 'stephanie s. tolan': ['stephanie tolan'],\n",
       " 'stephen w. frey': ['stephen frey'],\n",
       " 'stephen frey': ['stephen w. frey'],\n",
       " 'stephen hawking': ['stephen w. hawking'],\n",
       " 'stephen r. donaldson': ['stephen r donaldson'],\n",
       " 'steven boyett': ['steven r. boyett'],\n",
       " 'susan elizabeth phillips': ['susan elizabrth phillips'],\n",
       " 'susan forward': ['susan, dr. forward'],\n",
       " 'susan mccutcheon': ['susan mccutcheon-rosegg'],\n",
       " 'susanna tamaro': ['susana tamaro'],\n",
       " 'suzanne schlosberg': ['suzanne  schlosberg'],\n",
       " 't. a barron': ['t. a. barron'],\n",
       " 't.d. jakes': ['t. d. jakes'],\n",
       " 'thich nhat hahn': ['thich nhat hanh'],\n",
       " 'timonthy findley': ['timothy findley'],\n",
       " 'torey hayden': ['torey l. hayden'],\n",
       " 'upton beall sinclair': ['upton sinclair'],\n",
       " 'ursula k. le guin': ['ursula le guin'],\n",
       " 'v. c. andrews': ['v.c. andrews'],\n",
       " 'v.s. naipaul': ['v. s. naipaul'],\n",
       " 'v. s naipaul': ['v.s. naipaul'],\n",
       " 'v. s. naipaul': ['v.s. naipaul'],\n",
       " 'viktor e. frankl': ['victor e. frankl'],\n",
       " 'vã\\xadctor e. villaseã±or': ['victor e. villasenor'],\n",
       " 'vonda n. mcintyre': ['vonda mcintyre'],\n",
       " 'w. michael gear': ['w.michael gear'],\n",
       " 'walter j. williams': ['walter jon williams'],\n",
       " 'walter wangerin': ['walter jr. wangerin'],\n",
       " 'walter m., jr. miller': ['walter m miller'],\n",
       " 'wayne w. dyer': ['wayne w., dr. dyer'],\n",
       " 'william faulkner': ['william  faulkner'],\n",
       " 'william coughlin': ['william j. coughlin'],\n",
       " 'william gerald golding': ['william golding'],\n",
       " 'william j. kennedy': ['william kennedy'],\n",
       " 'william least-heat moon': ['william least heat moon'],\n",
       " 'william r. maples': ['william maples'],\n",
       " 'william maxwell': ['william, maxwell'],\n",
       " 'x. j. kennedy': ['x. j kennedy'],\n",
       " 'yukio mishima': ['yukio pseud mishima']}"
      ]
     },
     "execution_count": 10,
     "metadata": {},
     "output_type": "execute_result"
    }
   ],
   "source": [
    "mapped_authors"
   ]
  },
  {
   "cell_type": "code",
   "execution_count": 11,
   "metadata": {},
   "outputs": [],
   "source": [
    "def replace_book_author(df, key, value):\n",
    "    return(df[df.book_author.isin(value)].assign(book_author=key))"
   ]
  },
  {
   "cell_type": "code",
   "execution_count": 12,
   "metadata": {},
   "outputs": [
    {
     "data": {
      "text/html": [
       "<div>\n",
       "<style scoped>\n",
       "    .dataframe tbody tr th:only-of-type {\n",
       "        vertical-align: middle;\n",
       "    }\n",
       "\n",
       "    .dataframe tbody tr th {\n",
       "        vertical-align: top;\n",
       "    }\n",
       "\n",
       "    .dataframe thead th {\n",
       "        text-align: right;\n",
       "    }\n",
       "</style>\n",
       "<table border=\"1\" class=\"dataframe\">\n",
       "  <thead>\n",
       "    <tr style=\"text-align: right;\">\n",
       "      <th></th>\n",
       "      <th>user_id</th>\n",
       "      <th>isbn</th>\n",
       "      <th>book_rating</th>\n",
       "      <th>book_title</th>\n",
       "      <th>book_author</th>\n",
       "      <th>year_of_publication</th>\n",
       "    </tr>\n",
       "  </thead>\n",
       "  <tbody>\n",
       "    <tr>\n",
       "      <th>216069</th>\n",
       "      <td>36907</td>\n",
       "      <td>0140361219</td>\n",
       "      <td>10</td>\n",
       "      <td>winnie-the-pooh</td>\n",
       "      <td>a. a. milne</td>\n",
       "      <td>1992</td>\n",
       "    </tr>\n",
       "    <tr>\n",
       "      <th>216070</th>\n",
       "      <td>46690</td>\n",
       "      <td>0140361219</td>\n",
       "      <td>10</td>\n",
       "      <td>winnie-the-pooh</td>\n",
       "      <td>a. a. milne</td>\n",
       "      <td>1992</td>\n",
       "    </tr>\n",
       "    <tr>\n",
       "      <th>216071</th>\n",
       "      <td>76499</td>\n",
       "      <td>0140361219</td>\n",
       "      <td>10</td>\n",
       "      <td>winnie-the-pooh</td>\n",
       "      <td>a. a. milne</td>\n",
       "      <td>1992</td>\n",
       "    </tr>\n",
       "    <tr>\n",
       "      <th>216072</th>\n",
       "      <td>94347</td>\n",
       "      <td>0140361219</td>\n",
       "      <td>8</td>\n",
       "      <td>winnie-the-pooh</td>\n",
       "      <td>a. a. milne</td>\n",
       "      <td>1992</td>\n",
       "    </tr>\n",
       "    <tr>\n",
       "      <th>216073</th>\n",
       "      <td>128696</td>\n",
       "      <td>0140361219</td>\n",
       "      <td>10</td>\n",
       "      <td>winnie-the-pooh</td>\n",
       "      <td>a. a. milne</td>\n",
       "      <td>1992</td>\n",
       "    </tr>\n",
       "  </tbody>\n",
       "</table>\n",
       "</div>"
      ],
      "text/plain": [
       "        user_id        isbn  book_rating       book_title  book_author  \\\n",
       "216069    36907  0140361219           10  winnie-the-pooh  a. a. milne   \n",
       "216070    46690  0140361219           10  winnie-the-pooh  a. a. milne   \n",
       "216071    76499  0140361219           10  winnie-the-pooh  a. a. milne   \n",
       "216072    94347  0140361219            8  winnie-the-pooh  a. a. milne   \n",
       "216073   128696  0140361219           10  winnie-the-pooh  a. a. milne   \n",
       "\n",
       "        year_of_publication  \n",
       "216069                 1992  \n",
       "216070                 1992  \n",
       "216071                 1992  \n",
       "216072                 1992  \n",
       "216073                 1992  "
      ]
     },
     "execution_count": 12,
     "metadata": {},
     "output_type": "execute_result"
    }
   ],
   "source": [
    "author_mapped_df = pd.concat([replace_book_author(books_with_ratings, key, value) for key, value, in mapped_authors.items()])\n",
    "author_mapped_df.head()"
   ]
  },
  {
   "cell_type": "code",
   "execution_count": 75,
   "metadata": {
    "scrolled": true
   },
   "outputs": [
    {
     "data": {
      "text/html": [
       "<div>\n",
       "<style scoped>\n",
       "    .dataframe tbody tr th:only-of-type {\n",
       "        vertical-align: middle;\n",
       "    }\n",
       "\n",
       "    .dataframe tbody tr th {\n",
       "        vertical-align: top;\n",
       "    }\n",
       "\n",
       "    .dataframe thead th {\n",
       "        text-align: right;\n",
       "    }\n",
       "</style>\n",
       "<table border=\"1\" class=\"dataframe\">\n",
       "  <thead>\n",
       "    <tr style=\"text-align: right;\">\n",
       "      <th></th>\n",
       "      <th>user_id</th>\n",
       "      <th>isbn</th>\n",
       "      <th>book_rating</th>\n",
       "      <th>book_title</th>\n",
       "      <th>book_author</th>\n",
       "      <th>year_of_publication</th>\n",
       "    </tr>\n",
       "  </thead>\n",
       "  <tbody>\n",
       "    <tr>\n",
       "      <th>0</th>\n",
       "      <td>276726</td>\n",
       "      <td>0155061224</td>\n",
       "      <td>5</td>\n",
       "      <td>rites of passage</td>\n",
       "      <td>judith rae</td>\n",
       "      <td>2001</td>\n",
       "    </tr>\n",
       "    <tr>\n",
       "      <th>1</th>\n",
       "      <td>276729</td>\n",
       "      <td>052165615X</td>\n",
       "      <td>3</td>\n",
       "      <td>help!: level 1</td>\n",
       "      <td>philip prowse</td>\n",
       "      <td>1999</td>\n",
       "    </tr>\n",
       "    <tr>\n",
       "      <th>2</th>\n",
       "      <td>276729</td>\n",
       "      <td>0521795028</td>\n",
       "      <td>6</td>\n",
       "      <td>the amsterdam connection : level 4 (cambridge ...</td>\n",
       "      <td>sue leather</td>\n",
       "      <td>2001</td>\n",
       "    </tr>\n",
       "    <tr>\n",
       "      <th>3</th>\n",
       "      <td>276744</td>\n",
       "      <td>038550120X</td>\n",
       "      <td>7</td>\n",
       "      <td>a painted house</td>\n",
       "      <td>john grisham</td>\n",
       "      <td>2001</td>\n",
       "    </tr>\n",
       "    <tr>\n",
       "      <th>4</th>\n",
       "      <td>11676</td>\n",
       "      <td>038550120X</td>\n",
       "      <td>10</td>\n",
       "      <td>a painted house</td>\n",
       "      <td>john grisham</td>\n",
       "      <td>2001</td>\n",
       "    </tr>\n",
       "  </tbody>\n",
       "</table>\n",
       "</div>"
      ],
      "text/plain": [
       "   user_id        isbn  book_rating  \\\n",
       "0   276726  0155061224            5   \n",
       "1   276729  052165615X            3   \n",
       "2   276729  0521795028            6   \n",
       "3   276744  038550120X            7   \n",
       "4    11676  038550120X           10   \n",
       "\n",
       "                                          book_title    book_author  \\\n",
       "0                                   rites of passage     judith rae   \n",
       "1                                     help!: level 1  philip prowse   \n",
       "2  the amsterdam connection : level 4 (cambridge ...    sue leather   \n",
       "3                                    a painted house   john grisham   \n",
       "4                                    a painted house   john grisham   \n",
       "\n",
       "   year_of_publication  \n",
       "0                 2001  \n",
       "1                 1999  \n",
       "2                 2001  \n",
       "3                 2001  \n",
       "4                 2001  "
      ]
     },
     "execution_count": 75,
     "metadata": {},
     "output_type": "execute_result"
    }
   ],
   "source": [
    "books_with_ratings_ex_dirty_authors = books_with_ratings[~books_with_ratings.isbn.isin(author_mapped_df.isbn)]\n",
    "books_with_ratings_author_clean = pd.concat([books_with_ratings_ex_dirty_authors, author_mapped_df])\n",
    "books_with_ratings_author_clean.head()"
   ]
  },
  {
   "cell_type": "code",
   "execution_count": 76,
   "metadata": {},
   "outputs": [],
   "source": [
    "unique_books = books.drop_duplicates(subset=[\"book_title\", \"book_author\"]).sort_values(by=[\"book_title\", \"book_author\"])\n",
    "books_with_ratings_unique_isbn = pd.merge(books_with_ratings_author_clean, unique_books.drop([\"year_of_publication\", \"publisher\"], axis=1), \n",
    "         on=[\"book_title\", \"book_author\"], suffixes=[\"_original\", \"_unique\"])"
   ]
  },
  {
   "cell_type": "code",
   "execution_count": 77,
   "metadata": {},
   "outputs": [],
   "source": [
    "data_sets = {\"books_with_ratings_unique_isbn\": books_with_ratings_unique_isbn.iloc[:, 2:4].drop_duplicates().shape[0],\n",
    "            \"books_with_ratings_author_clean\": books_with_ratings_author_clean.iloc[:, 2:4].drop_duplicates().shape[0],\n",
    "            \"books\": books.iloc[:, 1:3].drop_duplicates().shape[0]}"
   ]
  },
  {
   "cell_type": "code",
   "execution_count": 61,
   "metadata": {},
   "outputs": [
    {
     "data": {
      "text/plain": [
       "{'books_with_ratings_unique_isbn': 213889,\n",
       " 'books_with_ratings_author_clean': 220709,\n",
       " 'books': 244389}"
      ]
     },
     "execution_count": 61,
     "metadata": {},
     "output_type": "execute_result"
    }
   ],
   "source": [
    "data_sets"
   ]
  },
  {
   "cell_type": "code",
   "execution_count": 78,
   "metadata": {},
   "outputs": [
    {
     "name": "stdout",
     "output_type": "stream",
     "text": [
      "The `books_with_ratings_unique_isbn` dataset is now 213889 rows, down 6820 and 30500 from `books_with_ratings_author_clean` and `books` datasets, respectively.\n"
     ]
    }
   ],
   "source": [
    "print(f\"The `books_with_ratings_unique_isbn` dataset is now {data_sets['books_with_ratings_unique_isbn']} rows, down {data_sets['books_with_ratings_author_clean'] - data_sets['books_with_ratings_unique_isbn']} and {data_sets['books'] - data_sets['books_with_ratings_unique_isbn']} from `books_with_ratings_author_clean` and `books` datasets, respectively.\")"
   ]
  },
  {
   "cell_type": "code",
   "execution_count": 80,
   "metadata": {},
   "outputs": [
    {
     "data": {
      "text/html": [
       "<div>\n",
       "<style scoped>\n",
       "    .dataframe tbody tr th:only-of-type {\n",
       "        vertical-align: middle;\n",
       "    }\n",
       "\n",
       "    .dataframe tbody tr th {\n",
       "        vertical-align: top;\n",
       "    }\n",
       "\n",
       "    .dataframe thead th {\n",
       "        text-align: right;\n",
       "    }\n",
       "</style>\n",
       "<table border=\"1\" class=\"dataframe\">\n",
       "  <thead>\n",
       "    <tr style=\"text-align: right;\">\n",
       "      <th></th>\n",
       "      <th>user_id</th>\n",
       "      <th>isbn_original</th>\n",
       "      <th>book_rating</th>\n",
       "      <th>book_title</th>\n",
       "      <th>book_author</th>\n",
       "      <th>year_of_publication</th>\n",
       "      <th>isbn_unique</th>\n",
       "    </tr>\n",
       "  </thead>\n",
       "  <tbody>\n",
       "    <tr>\n",
       "      <th>48097</th>\n",
       "      <td>387</td>\n",
       "      <td>1590071212</td>\n",
       "      <td>9</td>\n",
       "      <td>jane eyre</td>\n",
       "      <td>charlotte bronte</td>\n",
       "      <td>1976</td>\n",
       "      <td>0451518845</td>\n",
       "    </tr>\n",
       "    <tr>\n",
       "      <th>48098</th>\n",
       "      <td>2718</td>\n",
       "      <td>0451518845</td>\n",
       "      <td>10</td>\n",
       "      <td>jane eyre</td>\n",
       "      <td>charlotte bronte</td>\n",
       "      <td>1976</td>\n",
       "      <td>0451518845</td>\n",
       "    </tr>\n",
       "    <tr>\n",
       "      <th>48099</th>\n",
       "      <td>70205</td>\n",
       "      <td>0451518845</td>\n",
       "      <td>9</td>\n",
       "      <td>jane eyre</td>\n",
       "      <td>charlotte bronte</td>\n",
       "      <td>1976</td>\n",
       "      <td>0451518845</td>\n",
       "    </tr>\n",
       "    <tr>\n",
       "      <th>48100</th>\n",
       "      <td>218121</td>\n",
       "      <td>0451518845</td>\n",
       "      <td>10</td>\n",
       "      <td>jane eyre</td>\n",
       "      <td>charlotte bronte</td>\n",
       "      <td>1976</td>\n",
       "      <td>0451518845</td>\n",
       "    </tr>\n",
       "    <tr>\n",
       "      <th>48101</th>\n",
       "      <td>8370</td>\n",
       "      <td>0451523326</td>\n",
       "      <td>8</td>\n",
       "      <td>jane eyre</td>\n",
       "      <td>charlotte bronte</td>\n",
       "      <td>1976</td>\n",
       "      <td>0451518845</td>\n",
       "    </tr>\n",
       "  </tbody>\n",
       "</table>\n",
       "</div>"
      ],
      "text/plain": [
       "       user_id isbn_original  book_rating book_title       book_author  \\\n",
       "48097      387    1590071212            9  jane eyre  charlotte bronte   \n",
       "48098     2718    0451518845           10  jane eyre  charlotte bronte   \n",
       "48099    70205    0451518845            9  jane eyre  charlotte bronte   \n",
       "48100   218121    0451518845           10  jane eyre  charlotte bronte   \n",
       "48101     8370    0451523326            8  jane eyre  charlotte bronte   \n",
       "\n",
       "       year_of_publication isbn_unique  \n",
       "48097                 1976  0451518845  \n",
       "48098                 1976  0451518845  \n",
       "48099                 1976  0451518845  \n",
       "48100                 1976  0451518845  \n",
       "48101                 1976  0451518845  "
      ]
     },
     "execution_count": 80,
     "metadata": {},
     "output_type": "execute_result"
    }
   ],
   "source": [
    "# checking an example to see that the unique column has been added \n",
    "books_with_ratings_unique_isbn[books_with_ratings_unique_isbn.book_title == \"jane eyre\"].head()"
   ]
  },
  {
   "cell_type": "markdown",
   "metadata": {},
   "source": [
    "## Explort data"
   ]
  },
  {
   "cell_type": "code",
   "execution_count": null,
   "metadata": {},
   "outputs": [],
   "source": [
    "books_with_ratings_unique_isbn_export = books_with_ratings_unique_isbn.rename(\n",
    "    columns={'isbn_original':'isbn', 'isbn_unique':'unique_isbn'})"
   ]
  },
  {
   "cell_type": "code",
   "execution_count": 86,
   "metadata": {},
   "outputs": [
    {
     "data": {
      "text/plain": [
       "Index(['user_id', 'isbn', 'book_rating', 'book_title', 'book_author',\n",
       "       'year_of_publication', 'unique_isbn'],\n",
       "      dtype='object')"
      ]
     },
     "execution_count": 86,
     "metadata": {},
     "output_type": "execute_result"
    }
   ],
   "source": [
    "books_with_ratings_unique_isbn_export.columns"
   ]
  },
  {
   "cell_type": "code",
   "execution_count": 88,
   "metadata": {},
   "outputs": [],
   "source": [
    "books_with_ratings_unique_isbn_export.to_csv(\"data/clean/books_users_ratings.csv\", index=False)"
   ]
  },
  {
   "cell_type": "markdown",
   "metadata": {},
   "source": [
    "# Deprecated\n",
    "The section below is deprecated until further review."
   ]
  },
  {
   "cell_type": "code",
   "execution_count": null,
   "metadata": {},
   "outputs": [],
   "source": [
    "books_with_ratings_unique_isbn.head()"
   ]
  },
  {
   "cell_type": "code",
   "execution_count": null,
   "metadata": {},
   "outputs": [],
   "source": [
    "books_with_ratings_unique_isbn.where(books_with_ratings_unique_isbn.isbn_original == \"0001048082\").dropna()"
   ]
  },
  {
   "cell_type": "code",
   "execution_count": null,
   "metadata": {},
   "outputs": [],
   "source": [
    "books_check = pd.read_csv(\"data/clean/books_clean.csv\")"
   ]
  },
  {
   "cell_type": "code",
   "execution_count": null,
   "metadata": {},
   "outputs": [],
   "source": [
    "books_check.where(books_check.book_title == \"Made in America\").dropna()"
   ]
  },
  {
   "cell_type": "code",
   "execution_count": null,
   "metadata": {},
   "outputs": [],
   "source": [
    "books[books.duplicated([\"book_title\", \"book_author\"])]"
   ]
  },
  {
   "cell_type": "code",
   "execution_count": null,
   "metadata": {},
   "outputs": [],
   "source": [
    "pd.DataFrame(books.book_title.value_counts()[books.book_title.value_counts() > 1]).shape"
   ]
  },
  {
   "cell_type": "code",
   "execution_count": null,
   "metadata": {},
   "outputs": [],
   "source": [
    "books.groupby([\"book_title\", \"book_author\"]).count().sort_values(by=\"isbn\", ascending=False)"
   ]
  },
  {
   "cell_type": "code",
   "execution_count": null,
   "metadata": {},
   "outputs": [],
   "source": [
    "count_books = books.groupby([\"book_title\", \"book_author\"]).count().sort_values(by=\"isbn\", ascending=False)"
   ]
  },
  {
   "cell_type": "code",
   "execution_count": null,
   "metadata": {},
   "outputs": [],
   "source": [
    "duplicate_books = count_books[count_books.isbn > 1].index.values"
   ]
  },
  {
   "cell_type": "code",
   "execution_count": null,
   "metadata": {
    "code_folding": [
     0,
     11
    ]
   },
   "outputs": [],
   "source": [
    "def closest_matches(author, author_list):\n",
    "    unique_authors = np.unique([b.lower() for b in author_list])\n",
    "    unique_exclude_searching_author = [ua != author.lower() for ua in unique_authors]\n",
    "    processed_authors = list(itertools.compress(unique_authors, unique_exclude_searching_author))\n",
    "    len_authors = [len(a) for a in processed_authors]\n",
    "    len_check = [(len(author) - 8) <= l_authors <= (8 + len(author)) for l_authors in len_authors]\n",
    "    first_letter_check = [author_c[0] == author.lower()[0] for author_c in processed_authors]\n",
    "    combined_check = [(letter is True) & (length is True) for length, letter in zip(len_check, first_letter_check)]\n",
    "    authors_to_check = list(itertools.compress(processed_authors, combined_check))\n",
    "    return(process.extract(author, authors_to_check, scorer=fuzz.partial_ratio))\n",
    "\n",
    "def clean_author(author, author_list):\n",
    "    author_matches = closest_matches(author, author_list)\n",
    "    results = [returned_author for returned_author, score in author_matches if score >= 90]\n",
    "    if results:\n",
    "        return({author: results})\n",
    "    else:\n",
    "        return(False)"
   ]
  },
  {
   "cell_type": "code",
   "execution_count": null,
   "metadata": {},
   "outputs": [],
   "source": [
    "test_dict = clean_author(\"Stephen King\", books.book_author)"
   ]
  },
  {
   "cell_type": "code",
   "execution_count": null,
   "metadata": {
    "scrolled": true
   },
   "outputs": [],
   "source": [
    "u_authors = sorted(np.unique([b.lower() for b in books.book_author]))[0:10]\n",
    "u_authors"
   ]
  },
  {
   "cell_type": "code",
   "execution_count": null,
   "metadata": {
    "code_folding": [
     0
    ]
   },
   "outputs": [],
   "source": [
    "for auth in u_authors:\n",
    "    if clean_author(auth, books.book_author) is None:\n",
    "        continue\n",
    "    else:\n",
    "        auth_results = clean_author(auth, books.book_author)\n",
    "        ba = books.book_author[~books.book_author.isin(auth_results[auth])]\n",
    "        book_authors = books.book_author[books.book_author]"
   ]
  },
  {
   "cell_type": "code",
   "execution_count": null,
   "metadata": {},
   "outputs": [],
   "source": [
    "# Checking if there are any rows with title/author missing\n",
    "books_with_ratings.book_title.isnull().sum()"
   ]
  },
  {
   "cell_type": "code",
   "execution_count": null,
   "metadata": {},
   "outputs": [],
   "source": [
    "books_with_ratings.book_author.isnull().sum()"
   ]
  },
  {
   "cell_type": "code",
   "execution_count": null,
   "metadata": {},
   "outputs": [],
   "source": [
    "books_with_ratings.head()"
   ]
  },
  {
   "cell_type": "code",
   "execution_count": null,
   "metadata": {},
   "outputs": [],
   "source": [
    "# unifying ISBN numbers\n",
    "# looking the number of books with multiple isbn numbers\n",
    "multiple_isbns = books_with_ratings_clean.groupby([\"book_title\"]).isbn.nunique()\n",
    "multiple_isbns.value_counts()"
   ]
  },
  {
   "cell_type": "code",
   "execution_count": null,
   "metadata": {},
   "outputs": [],
   "source": [
    "has_multiple_isbns = multiple_isbns.where(multiple_isbns > 1) # sets NaN for those with just 1 isb"
   ]
  },
  {
   "cell_type": "code",
   "execution_count": null,
   "metadata": {},
   "outputs": [],
   "source": [
    "# removing the ones with just one isbn\n",
    "has_multiple_isbns.dropna(inplace=True)"
   ]
  },
  {
   "cell_type": "code",
   "execution_count": null,
   "metadata": {},
   "outputs": [],
   "source": [
    "len(has_multiple_isbns)"
   ]
  },
  {
   "cell_type": "code",
   "execution_count": null,
   "metadata": {},
   "outputs": [],
   "source": [
    "# Create dictionary for books with multiple isbns\n",
    "def make_isbn_dict(df):\n",
    "    title_isbn_dict = {}\n",
    "    for title in has_multiple_isbns.index:\n",
    "        isbn_series = df.loc[df.book_title == title].isbn.unique() # returns only the unique ISBNs\n",
    "        title_isbn_dict[title] = isbn_series.tolist()\n",
    "    return title_isbn_dict\n",
    "\n",
    "%time dict_unique_isbn = make_isbn_dict(books_with_ratings)"
   ]
  },
  {
   "cell_type": "code",
   "execution_count": null,
   "metadata": {},
   "outputs": [],
   "source": [
    "with open('multiple_isbn_dict.pickle', 'wb') as handle:\n",
    "    pickle.dump(dict_unique_isbn, handle, protocol=pickle.HIGHEST_PROTOCOL)"
   ]
  },
  {
   "cell_type": "code",
   "execution_count": null,
   "metadata": {},
   "outputs": [],
   "source": [
    "# LOAD isbn_dict back into namespace\n",
    "with open('multiple_isbn_dict.pickle', 'rb') as handle:\n",
    "    multiple_isbn_dict = pickle.load(handle)"
   ]
  },
  {
   "cell_type": "code",
   "execution_count": null,
   "metadata": {},
   "outputs": [],
   "source": [
    "# checking the number of entries in the dictiionaries\n",
    "len(multiple_isbn_dict)"
   ]
  },
  {
   "cell_type": "code",
   "execution_count": null,
   "metadata": {},
   "outputs": [],
   "source": [
    "# Adding 'unique_isbn' column to 'books_with_ratings' dataframe that includes the first ISBN if multiple ISBNS,\n",
    "# or the single unique isbn\n",
    "def add_unique_isbn_col(df):\n",
    "    df['unique_isbn'] = df.apply(lambda row: multiple_isbn_dict[row.book_title][0] if row.book_title in multiple_isbn_dict.keys() else row.isbn, axis=1)\n",
    "    return df\n",
    "\n",
    "%time books_with_ratings = add_unique_isbn_col(books_with_ratings)"
   ]
  },
  {
   "cell_type": "code",
   "execution_count": null,
   "metadata": {},
   "outputs": [],
   "source": [
    "# checking an example to see that the unique column has been added \n",
    "books_with_ratings[books_with_ratings.book_title == \"Jane Eyre\"].head()"
   ]
  },
  {
   "cell_type": "code",
   "execution_count": null,
   "metadata": {},
   "outputs": [],
   "source": [
    "# joining the users table on the user_id field\n",
    "books_users_ratings = books_with_ratings.merge(users, on='user_id')"
   ]
  },
  {
   "cell_type": "code",
   "execution_count": null,
   "metadata": {},
   "outputs": [],
   "source": [
    "books_users_ratings.head()"
   ]
  },
  {
   "cell_type": "code",
   "execution_count": null,
   "metadata": {},
   "outputs": [],
   "source": [
    "books_users_ratings.to_csv(\"data/clean/books_users_ratings.csv\", index=False)"
   ]
  }
 ],
 "metadata": {
  "kernelspec": {
   "display_name": "Python 3",
   "language": "python",
   "name": "python3"
  },
  "language_info": {
   "codemirror_mode": {
    "name": "ipython",
    "version": 3
   },
   "file_extension": ".py",
   "mimetype": "text/x-python",
   "name": "python",
   "nbconvert_exporter": "python",
   "pygments_lexer": "ipython3",
   "version": "3.6.7"
  },
  "latex_envs": {
   "LaTeX_envs_menu_present": true,
   "autoclose": false,
   "autocomplete": true,
   "bibliofile": "biblio.bib",
   "cite_by": "apalike",
   "current_citInitial": 1,
   "eqLabelWithNumbers": true,
   "eqNumInitial": 1,
   "hotkeys": {
    "equation": "Ctrl-E",
    "itemize": "Ctrl-I"
   },
   "labels_anchors": false,
   "latex_user_defs": false,
   "report_style_numbering": false,
   "user_envs_cfg": false
  },
  "varInspector": {
   "cols": {
    "lenName": 16,
    "lenType": 16,
    "lenVar": 40
   },
   "kernels_config": {
    "python": {
     "delete_cmd_postfix": "",
     "delete_cmd_prefix": "del ",
     "library": "var_list.py",
     "varRefreshCmd": "print(var_dic_list())"
    },
    "r": {
     "delete_cmd_postfix": ") ",
     "delete_cmd_prefix": "rm(",
     "library": "var_list.r",
     "varRefreshCmd": "cat(var_dic_list()) "
    }
   },
   "position": {
    "height": "137.3333282470703px",
    "left": "750px",
    "right": "20px",
    "top": "121px",
    "width": "350px"
   },
   "types_to_exclude": [
    "module",
    "function",
    "builtin_function_or_method",
    "instance",
    "_Feature"
   ],
   "window_display": true
  }
 },
 "nbformat": 4,
 "nbformat_minor": 2
}
