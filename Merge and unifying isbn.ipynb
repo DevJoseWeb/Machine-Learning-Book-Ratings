{
 "cells": [
  {
   "cell_type": "code",
   "execution_count": 1,
   "metadata": {},
   "outputs": [],
   "source": [
    "import pandas as pd\n",
    "import numpy as np\n",
    "import matplotlib.pyplot as plt\n",
    "import pickle\n",
    "import warnings"
   ]
  },
  {
   "cell_type": "code",
   "execution_count": 2,
   "metadata": {},
   "outputs": [],
   "source": [
    "books = pd.read_csv(\"data/clean/books_clean.csv\")\n",
    "ratings = pd.read_csv(\"data/clean/ratings_clean.csv\")\n",
    "users = pd.read_csv(\"data/clean/users_clean.csv\")"
   ]
  },
  {
   "cell_type": "code",
   "execution_count": 3,
   "metadata": {},
   "outputs": [
    {
     "data": {
      "text/plain": [
       "4543"
      ]
     },
     "execution_count": 3,
     "metadata": {},
     "output_type": "execute_result"
    }
   ],
   "source": [
    "users.country.isnull().sum()"
   ]
  },
  {
   "cell_type": "code",
   "execution_count": 4,
   "metadata": {},
   "outputs": [
    {
     "data": {
      "text/plain": [
       "266732"
      ]
     },
     "execution_count": 4,
     "metadata": {},
     "output_type": "execute_result"
    }
   ],
   "source": [
    "#unifying the books with ratings tables on isbn field\n",
    "#number of entries in books table\n",
    "len(books)"
   ]
  },
  {
   "cell_type": "code",
   "execution_count": 16,
   "metadata": {
    "scrolled": true
   },
   "outputs": [
    {
     "data": {
      "text/plain": [
       "433671"
      ]
     },
     "execution_count": 16,
     "metadata": {},
     "output_type": "execute_result"
    }
   ],
   "source": [
    "#ratings table size\n",
    "len(ratings)"
   ]
  },
  {
   "cell_type": "code",
   "execution_count": 17,
   "metadata": {},
   "outputs": [],
   "source": [
    "books_with_ratings = pd.merge(ratings, books, on='isbn')"
   ]
  },
  {
   "cell_type": "code",
   "execution_count": 18,
   "metadata": {},
   "outputs": [
    {
     "data": {
      "text/plain": [
       "0"
      ]
     },
     "execution_count": 18,
     "metadata": {},
     "output_type": "execute_result"
    }
   ],
   "source": [
    "#Checking if there are any rows with title/author missing\n",
    "books_with_ratings.book_title.isnull().sum()"
   ]
  },
  {
   "cell_type": "code",
   "execution_count": 19,
   "metadata": {},
   "outputs": [
    {
     "data": {
      "text/plain": [
       "0"
      ]
     },
     "execution_count": 19,
     "metadata": {},
     "output_type": "execute_result"
    }
   ],
   "source": [
    "books_with_ratings.book_author.isnull().sum()"
   ]
  },
  {
   "cell_type": "code",
   "execution_count": 20,
   "metadata": {},
   "outputs": [
    {
     "data": {
      "text/html": [
       "<div>\n",
       "<style scoped>\n",
       "    .dataframe tbody tr th:only-of-type {\n",
       "        vertical-align: middle;\n",
       "    }\n",
       "\n",
       "    .dataframe tbody tr th {\n",
       "        vertical-align: top;\n",
       "    }\n",
       "\n",
       "    .dataframe thead th {\n",
       "        text-align: right;\n",
       "    }\n",
       "</style>\n",
       "<table border=\"1\" class=\"dataframe\">\n",
       "  <thead>\n",
       "    <tr style=\"text-align: right;\">\n",
       "      <th></th>\n",
       "      <th>user_id</th>\n",
       "      <th>isbn</th>\n",
       "      <th>book_rating</th>\n",
       "      <th>book_title</th>\n",
       "      <th>book_author</th>\n",
       "      <th>year_of_publication</th>\n",
       "      <th>publisher</th>\n",
       "    </tr>\n",
       "  </thead>\n",
       "  <tbody>\n",
       "    <tr>\n",
       "      <th>0</th>\n",
       "      <td>276726</td>\n",
       "      <td>0155061224</td>\n",
       "      <td>5</td>\n",
       "      <td>Rites of Passage</td>\n",
       "      <td>Judith Rae</td>\n",
       "      <td>2001.0</td>\n",
       "      <td>Heinle</td>\n",
       "    </tr>\n",
       "    <tr>\n",
       "      <th>1</th>\n",
       "      <td>276729</td>\n",
       "      <td>052165615X</td>\n",
       "      <td>3</td>\n",
       "      <td>Help!: Level 1</td>\n",
       "      <td>Philip Prowse</td>\n",
       "      <td>1999.0</td>\n",
       "      <td>Cambridge University Press</td>\n",
       "    </tr>\n",
       "    <tr>\n",
       "      <th>2</th>\n",
       "      <td>276729</td>\n",
       "      <td>0521795028</td>\n",
       "      <td>6</td>\n",
       "      <td>The Amsterdam Connection : Level 4 (Cambridge ...</td>\n",
       "      <td>Sue Leather</td>\n",
       "      <td>2001.0</td>\n",
       "      <td>Cambridge University Press</td>\n",
       "    </tr>\n",
       "    <tr>\n",
       "      <th>3</th>\n",
       "      <td>276744</td>\n",
       "      <td>038550120X</td>\n",
       "      <td>7</td>\n",
       "      <td>A Painted House</td>\n",
       "      <td>JOHN GRISHAM</td>\n",
       "      <td>2001.0</td>\n",
       "      <td>Doubleday</td>\n",
       "    </tr>\n",
       "    <tr>\n",
       "      <th>4</th>\n",
       "      <td>11676</td>\n",
       "      <td>038550120X</td>\n",
       "      <td>10</td>\n",
       "      <td>A Painted House</td>\n",
       "      <td>JOHN GRISHAM</td>\n",
       "      <td>2001.0</td>\n",
       "      <td>Doubleday</td>\n",
       "    </tr>\n",
       "  </tbody>\n",
       "</table>\n",
       "</div>"
      ],
      "text/plain": [
       "   user_id        isbn  book_rating  \\\n",
       "0   276726  0155061224            5   \n",
       "1   276729  052165615X            3   \n",
       "2   276729  0521795028            6   \n",
       "3   276744  038550120X            7   \n",
       "4    11676  038550120X           10   \n",
       "\n",
       "                                          book_title    book_author  \\\n",
       "0                                   Rites of Passage     Judith Rae   \n",
       "1                                     Help!: Level 1  Philip Prowse   \n",
       "2  The Amsterdam Connection : Level 4 (Cambridge ...    Sue Leather   \n",
       "3                                    A Painted House   JOHN GRISHAM   \n",
       "4                                    A Painted House   JOHN GRISHAM   \n",
       "\n",
       "   year_of_publication                   publisher  \n",
       "0               2001.0                      Heinle  \n",
       "1               1999.0  Cambridge University Press  \n",
       "2               2001.0  Cambridge University Press  \n",
       "3               2001.0                   Doubleday  \n",
       "4               2001.0                   Doubleday  "
      ]
     },
     "execution_count": 20,
     "metadata": {},
     "output_type": "execute_result"
    }
   ],
   "source": [
    "books_with_ratings.head()"
   ]
  },
  {
   "cell_type": "code",
   "execution_count": 21,
   "metadata": {},
   "outputs": [
    {
     "data": {
      "text/plain": [
       "1     123409\n",
       "2       7733\n",
       "3       1426\n",
       "4        457\n",
       "5        179\n",
       "6         81\n",
       "7         37\n",
       "8         24\n",
       "9          8\n",
       "10         6\n",
       "16         2\n",
       "15         2\n",
       "14         2\n",
       "13         2\n",
       "12         2\n",
       "11         2\n",
       "Name: isbn, dtype: int64"
      ]
     },
     "execution_count": 21,
     "metadata": {},
     "output_type": "execute_result"
    }
   ],
   "source": [
    "#unifying ISBN numbers\n",
    "#looking the number of books with multiple isbn numbers\n",
    "multiple_isbns = books_with_ratings.groupby('book_title').isbn.nunique()\n",
    "multiple_isbns.value_counts()"
   ]
  },
  {
   "cell_type": "code",
   "execution_count": 22,
   "metadata": {},
   "outputs": [],
   "source": [
    "has_multiple_isbns = multiple_isbns.where(multiple_isbns > 1) #sets NaN for those with just 1 isb"
   ]
  },
  {
   "cell_type": "code",
   "execution_count": 23,
   "metadata": {},
   "outputs": [],
   "source": [
    "#removing the ones with just one isbn\n",
    "has_multiple_isbns.dropna(inplace=True)"
   ]
  },
  {
   "cell_type": "code",
   "execution_count": 25,
   "metadata": {},
   "outputs": [
    {
     "data": {
      "text/plain": [
       "9963"
      ]
     },
     "execution_count": 25,
     "metadata": {},
     "output_type": "execute_result"
    }
   ],
   "source": [
    "len(has_multiple_isbns)"
   ]
  },
  {
   "cell_type": "code",
   "execution_count": 26,
   "metadata": {},
   "outputs": [
    {
     "name": "stdout",
     "output_type": "stream",
     "text": [
      "CPU times: user 5min 41s, sys: 1.79 s, total: 5min 43s\n",
      "Wall time: 5min 45s\n"
     ]
    }
   ],
   "source": [
    "#Create dictionary for books with multiple isbns\n",
    "def make_isbn_dict(df):\n",
    "    title_isbn_dict = {}\n",
    "    for title in has_multiple_isbns.index:\n",
    "        isbn_series = df.loc[df.book_title == title].isbn.unique() # returns only the unique ISBNs\n",
    "        title_isbn_dict[title] = isbn_series.tolist()\n",
    "    return title_isbn_dict\n",
    "\n",
    "%time dict_unique_isbn = make_isbn_dict(books_with_ratings)"
   ]
  },
  {
   "cell_type": "code",
   "execution_count": 27,
   "metadata": {},
   "outputs": [],
   "source": [
    "with open('multiple_isbn_dict.pickle', 'wb') as handle:\n",
    "    pickle.dump(dict_unique_isbn, handle, protocol=pickle.HIGHEST_PROTOCOL)"
   ]
  },
  {
   "cell_type": "code",
   "execution_count": 28,
   "metadata": {},
   "outputs": [],
   "source": [
    "# LOAD isbn_dict back into namespace\n",
    "with open('multiple_isbn_dict.pickle', 'rb') as handle:\n",
    "    multiple_isbn_dict = pickle.load(handle)"
   ]
  },
  {
   "cell_type": "code",
   "execution_count": 29,
   "metadata": {},
   "outputs": [
    {
     "data": {
      "text/plain": [
       "9963"
      ]
     },
     "execution_count": 29,
     "metadata": {},
     "output_type": "execute_result"
    }
   ],
   "source": [
    "#checking the number of entries in the dictiionaries\n",
    "len(multiple_isbn_dict)"
   ]
  },
  {
   "cell_type": "code",
   "execution_count": 30,
   "metadata": {},
   "outputs": [
    {
     "name": "stdout",
     "output_type": "stream",
     "text": [
      "CPU times: user 9.28 s, sys: 101 ms, total: 9.39 s\n",
      "Wall time: 9.51 s\n"
     ]
    }
   ],
   "source": [
    "# Adding 'unique_isbn' column to 'books_with_ratings' dataframe that includes the first ISBN if multiple ISBNS,or the single unique isbn\n",
    "def add_unique_isbn_col(df):\n",
    "    df['unique_isbn'] = df.apply(lambda row: multiple_isbn_dict[row.book_title][0] if row.book_title in multiple_isbn_dict.keys() else row.isbn, axis=1)\n",
    "    return df\n",
    "\n",
    "%time books_with_ratings = add_unique_isbn_col(books_with_ratings)"
   ]
  },
  {
   "cell_type": "code",
   "execution_count": 31,
   "metadata": {},
   "outputs": [
    {
     "data": {
      "text/html": [
       "<div>\n",
       "<style scoped>\n",
       "    .dataframe tbody tr th:only-of-type {\n",
       "        vertical-align: middle;\n",
       "    }\n",
       "\n",
       "    .dataframe tbody tr th {\n",
       "        vertical-align: top;\n",
       "    }\n",
       "\n",
       "    .dataframe thead th {\n",
       "        text-align: right;\n",
       "    }\n",
       "</style>\n",
       "<table border=\"1\" class=\"dataframe\">\n",
       "  <thead>\n",
       "    <tr style=\"text-align: right;\">\n",
       "      <th></th>\n",
       "      <th>user_id</th>\n",
       "      <th>isbn</th>\n",
       "      <th>book_rating</th>\n",
       "      <th>book_title</th>\n",
       "      <th>book_author</th>\n",
       "      <th>year_of_publication</th>\n",
       "      <th>publisher</th>\n",
       "      <th>unique_isbn</th>\n",
       "    </tr>\n",
       "  </thead>\n",
       "  <tbody>\n",
       "    <tr>\n",
       "      <th>40062</th>\n",
       "      <td>387</td>\n",
       "      <td>1590071212</td>\n",
       "      <td>9</td>\n",
       "      <td>Jane Eyre</td>\n",
       "      <td>Charlotte Bronte</td>\n",
       "      <td>2002.0</td>\n",
       "      <td>New Millenium Audio</td>\n",
       "      <td>1590071212</td>\n",
       "    </tr>\n",
       "    <tr>\n",
       "      <th>65551</th>\n",
       "      <td>2718</td>\n",
       "      <td>0451518845</td>\n",
       "      <td>10</td>\n",
       "      <td>Jane Eyre</td>\n",
       "      <td>Charlotte Bronte</td>\n",
       "      <td>1999.0</td>\n",
       "      <td>New Amer Library Classics</td>\n",
       "      <td>1590071212</td>\n",
       "    </tr>\n",
       "    <tr>\n",
       "      <th>65552</th>\n",
       "      <td>70205</td>\n",
       "      <td>0451518845</td>\n",
       "      <td>9</td>\n",
       "      <td>Jane Eyre</td>\n",
       "      <td>Charlotte Bronte</td>\n",
       "      <td>1999.0</td>\n",
       "      <td>New Amer Library Classics</td>\n",
       "      <td>1590071212</td>\n",
       "    </tr>\n",
       "    <tr>\n",
       "      <th>65553</th>\n",
       "      <td>218121</td>\n",
       "      <td>0451518845</td>\n",
       "      <td>10</td>\n",
       "      <td>Jane Eyre</td>\n",
       "      <td>Charlotte Bronte</td>\n",
       "      <td>1999.0</td>\n",
       "      <td>New Amer Library Classics</td>\n",
       "      <td>1590071212</td>\n",
       "    </tr>\n",
       "    <tr>\n",
       "      <th>109854</th>\n",
       "      <td>8370</td>\n",
       "      <td>0451523326</td>\n",
       "      <td>8</td>\n",
       "      <td>Jane Eyre</td>\n",
       "      <td>Charlotte Bronte</td>\n",
       "      <td>1988.0</td>\n",
       "      <td>Signet Classics</td>\n",
       "      <td>1590071212</td>\n",
       "    </tr>\n",
       "  </tbody>\n",
       "</table>\n",
       "</div>"
      ],
      "text/plain": [
       "        user_id        isbn  book_rating book_title       book_author  \\\n",
       "40062       387  1590071212            9  Jane Eyre  Charlotte Bronte   \n",
       "65551      2718  0451518845           10  Jane Eyre  Charlotte Bronte   \n",
       "65552     70205  0451518845            9  Jane Eyre  Charlotte Bronte   \n",
       "65553    218121  0451518845           10  Jane Eyre  Charlotte Bronte   \n",
       "109854     8370  0451523326            8  Jane Eyre  Charlotte Bronte   \n",
       "\n",
       "        year_of_publication                  publisher unique_isbn  \n",
       "40062                2002.0        New Millenium Audio  1590071212  \n",
       "65551                1999.0  New Amer Library Classics  1590071212  \n",
       "65552                1999.0  New Amer Library Classics  1590071212  \n",
       "65553                1999.0  New Amer Library Classics  1590071212  \n",
       "109854               1988.0            Signet Classics  1590071212  "
      ]
     },
     "execution_count": 31,
     "metadata": {},
     "output_type": "execute_result"
    }
   ],
   "source": [
    "#checking an example to see that the unique column has been added \n",
    "books_with_ratings[books_with_ratings.book_title == \"Jane Eyre\"].head()"
   ]
  },
  {
   "cell_type": "code",
   "execution_count": 32,
   "metadata": {},
   "outputs": [],
   "source": [
    "#joining the users table on hte user_id field\n",
    "books_users_ratings = books_with_ratings.merge(users, on='user_id')"
   ]
  },
  {
   "cell_type": "code",
   "execution_count": 33,
   "metadata": {},
   "outputs": [
    {
     "data": {
      "text/html": [
       "<div>\n",
       "<style scoped>\n",
       "    .dataframe tbody tr th:only-of-type {\n",
       "        vertical-align: middle;\n",
       "    }\n",
       "\n",
       "    .dataframe tbody tr th {\n",
       "        vertical-align: top;\n",
       "    }\n",
       "\n",
       "    .dataframe thead th {\n",
       "        text-align: right;\n",
       "    }\n",
       "</style>\n",
       "<table border=\"1\" class=\"dataframe\">\n",
       "  <thead>\n",
       "    <tr style=\"text-align: right;\">\n",
       "      <th></th>\n",
       "      <th>user_id</th>\n",
       "      <th>isbn</th>\n",
       "      <th>book_rating</th>\n",
       "      <th>book_title</th>\n",
       "      <th>book_author</th>\n",
       "      <th>year_of_publication</th>\n",
       "      <th>publisher</th>\n",
       "      <th>unique_isbn</th>\n",
       "      <th>age</th>\n",
       "      <th>city</th>\n",
       "      <th>state</th>\n",
       "      <th>country</th>\n",
       "    </tr>\n",
       "  </thead>\n",
       "  <tbody>\n",
       "    <tr>\n",
       "      <th>0</th>\n",
       "      <td>276726</td>\n",
       "      <td>0155061224</td>\n",
       "      <td>5</td>\n",
       "      <td>Rites of Passage</td>\n",
       "      <td>Judith Rae</td>\n",
       "      <td>2001.0</td>\n",
       "      <td>Heinle</td>\n",
       "      <td>0155061224</td>\n",
       "      <td>34.786876</td>\n",
       "      <td>seattle</td>\n",
       "      <td>washington</td>\n",
       "      <td>usa</td>\n",
       "    </tr>\n",
       "    <tr>\n",
       "      <th>1</th>\n",
       "      <td>276729</td>\n",
       "      <td>052165615X</td>\n",
       "      <td>3</td>\n",
       "      <td>Help!: Level 1</td>\n",
       "      <td>Philip Prowse</td>\n",
       "      <td>1999.0</td>\n",
       "      <td>Cambridge University Press</td>\n",
       "      <td>052165615X</td>\n",
       "      <td>16.000000</td>\n",
       "      <td>rijeka</td>\n",
       "      <td>n/a</td>\n",
       "      <td>croatia</td>\n",
       "    </tr>\n",
       "    <tr>\n",
       "      <th>2</th>\n",
       "      <td>276729</td>\n",
       "      <td>0521795028</td>\n",
       "      <td>6</td>\n",
       "      <td>The Amsterdam Connection : Level 4 (Cambridge ...</td>\n",
       "      <td>Sue Leather</td>\n",
       "      <td>2001.0</td>\n",
       "      <td>Cambridge University Press</td>\n",
       "      <td>0521795028</td>\n",
       "      <td>16.000000</td>\n",
       "      <td>rijeka</td>\n",
       "      <td>n/a</td>\n",
       "      <td>croatia</td>\n",
       "    </tr>\n",
       "    <tr>\n",
       "      <th>3</th>\n",
       "      <td>276744</td>\n",
       "      <td>038550120X</td>\n",
       "      <td>7</td>\n",
       "      <td>A Painted House</td>\n",
       "      <td>JOHN GRISHAM</td>\n",
       "      <td>2001.0</td>\n",
       "      <td>Doubleday</td>\n",
       "      <td>038550120X</td>\n",
       "      <td>34.786876</td>\n",
       "      <td>torrance</td>\n",
       "      <td>california</td>\n",
       "      <td>usa</td>\n",
       "    </tr>\n",
       "    <tr>\n",
       "      <th>4</th>\n",
       "      <td>11676</td>\n",
       "      <td>038550120X</td>\n",
       "      <td>10</td>\n",
       "      <td>A Painted House</td>\n",
       "      <td>JOHN GRISHAM</td>\n",
       "      <td>2001.0</td>\n",
       "      <td>Doubleday</td>\n",
       "      <td>038550120X</td>\n",
       "      <td>34.786876</td>\n",
       "      <td>NaN</td>\n",
       "      <td>n/a</td>\n",
       "      <td>n/a</td>\n",
       "    </tr>\n",
       "  </tbody>\n",
       "</table>\n",
       "</div>"
      ],
      "text/plain": [
       "   user_id        isbn  book_rating  \\\n",
       "0   276726  0155061224            5   \n",
       "1   276729  052165615X            3   \n",
       "2   276729  0521795028            6   \n",
       "3   276744  038550120X            7   \n",
       "4    11676  038550120X           10   \n",
       "\n",
       "                                          book_title    book_author  \\\n",
       "0                                   Rites of Passage     Judith Rae   \n",
       "1                                     Help!: Level 1  Philip Prowse   \n",
       "2  The Amsterdam Connection : Level 4 (Cambridge ...    Sue Leather   \n",
       "3                                    A Painted House   JOHN GRISHAM   \n",
       "4                                    A Painted House   JOHN GRISHAM   \n",
       "\n",
       "   year_of_publication                   publisher unique_isbn        age  \\\n",
       "0               2001.0                      Heinle  0155061224  34.786876   \n",
       "1               1999.0  Cambridge University Press  052165615X  16.000000   \n",
       "2               2001.0  Cambridge University Press  0521795028  16.000000   \n",
       "3               2001.0                   Doubleday  038550120X  34.786876   \n",
       "4               2001.0                   Doubleday  038550120X  34.786876   \n",
       "\n",
       "       city        state   country  \n",
       "0   seattle   washington       usa  \n",
       "1    rijeka          n/a   croatia  \n",
       "2    rijeka          n/a   croatia  \n",
       "3  torrance   california       usa  \n",
       "4       NaN          n/a       n/a  "
      ]
     },
     "execution_count": 33,
     "metadata": {},
     "output_type": "execute_result"
    }
   ],
   "source": [
    "books_users_ratings.head()"
   ]
  },
  {
   "cell_type": "code",
   "execution_count": 34,
   "metadata": {},
   "outputs": [],
   "source": [
    "books_users_ratings.to_csv(\"data/clean/books_users_ratings.csv\", index=False)"
   ]
  }
 ],
 "metadata": {
  "kernelspec": {
   "display_name": "Python 3",
   "language": "python",
   "name": "python3"
  },
  "language_info": {
   "codemirror_mode": {
    "name": "ipython",
    "version": 3
   },
   "file_extension": ".py",
   "mimetype": "text/x-python",
   "name": "python",
   "nbconvert_exporter": "python",
   "pygments_lexer": "ipython3",
   "version": "3.7.1"
  },
  "latex_envs": {
   "LaTeX_envs_menu_present": true,
   "autoclose": false,
   "autocomplete": true,
   "bibliofile": "biblio.bib",
   "cite_by": "apalike",
   "current_citInitial": 1,
   "eqLabelWithNumbers": true,
   "eqNumInitial": 1,
   "hotkeys": {
    "equation": "Ctrl-E",
    "itemize": "Ctrl-I"
   },
   "labels_anchors": false,
   "latex_user_defs": false,
   "report_style_numbering": false,
   "user_envs_cfg": false
  },
  "varInspector": {
   "cols": {
    "lenName": 16,
    "lenType": 16,
    "lenVar": 40
   },
   "kernels_config": {
    "python": {
     "delete_cmd_postfix": "",
     "delete_cmd_prefix": "del ",
     "library": "var_list.py",
     "varRefreshCmd": "print(var_dic_list())"
    },
    "r": {
     "delete_cmd_postfix": ") ",
     "delete_cmd_prefix": "rm(",
     "library": "var_list.r",
     "varRefreshCmd": "cat(var_dic_list()) "
    }
   },
   "types_to_exclude": [
    "module",
    "function",
    "builtin_function_or_method",
    "instance",
    "_Feature"
   ],
   "window_display": true
  }
 },
 "nbformat": 4,
 "nbformat_minor": 2
}
