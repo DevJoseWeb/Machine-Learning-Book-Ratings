{
 "cells": [
  {
   "cell_type": "code",
   "execution_count": 4,
   "metadata": {},
   "outputs": [],
   "source": [
    "import pandas as pd\n",
    "import numpy as np\n",
    "import matplotlib.pyplot as plt\n",
    "import pickle\n",
    "import warnings"
   ]
  },
  {
   "cell_type": "code",
   "execution_count": 10,
   "metadata": {},
   "outputs": [],
   "source": [
    "books = pd.read_csv(\"data/clean/books_clean.csv\")\n",
    "ratings = pd.read_csv(\"data/clean/ratings_clean.csv\")\n",
    "users = pd.read_csv(\"data/clean/users_clean.csv\")\n",
    "books_users_ratings = pd.read_csv(\"data/clean/books_users_ratings.csv\")"
   ]
  },
  {
   "cell_type": "markdown",
   "metadata": {},
   "source": [
    "**Recommendations based on correlations**"
   ]
  },
  {
   "cell_type": "code",
   "execution_count": 11,
   "metadata": {},
   "outputs": [],
   "source": [
    "#dropping books with one review to reduce size of dataset\n",
    "average_ratings = pd.DataFrame(books_users_ratings.groupby('unique_isbn')['book_rating'].mean())\n",
    "average_ratings['rating_count'] = pd.DataFrame(books_users_ratings.groupby('unique_isbn')['book_rating'].count())\n",
    "average_ratings.sort_values('rating_count', ascending=False).head()\n",
    "average_ratings['greater1'] = (average_ratings.rating_count > 9)"
   ]
  },
  {
   "cell_type": "code",
   "execution_count": 12,
   "metadata": {},
   "outputs": [
    {
     "data": {
      "text/html": [
       "<div>\n",
       "<style scoped>\n",
       "    .dataframe tbody tr th:only-of-type {\n",
       "        vertical-align: middle;\n",
       "    }\n",
       "\n",
       "    .dataframe tbody tr th {\n",
       "        vertical-align: top;\n",
       "    }\n",
       "\n",
       "    .dataframe thead th {\n",
       "        text-align: right;\n",
       "    }\n",
       "</style>\n",
       "<table border=\"1\" class=\"dataframe\">\n",
       "  <thead>\n",
       "    <tr style=\"text-align: right;\">\n",
       "      <th></th>\n",
       "      <th>book_rating</th>\n",
       "      <th>rating_count</th>\n",
       "      <th>greater1</th>\n",
       "    </tr>\n",
       "    <tr>\n",
       "      <th>unique_isbn</th>\n",
       "      <th></th>\n",
       "      <th></th>\n",
       "      <th></th>\n",
       "    </tr>\n",
       "  </thead>\n",
       "  <tbody>\n",
       "    <tr>\n",
       "      <th>0000913154</th>\n",
       "      <td>8.0</td>\n",
       "      <td>1</td>\n",
       "      <td>False</td>\n",
       "    </tr>\n",
       "    <tr>\n",
       "      <th>000104687X</th>\n",
       "      <td>6.0</td>\n",
       "      <td>1</td>\n",
       "      <td>False</td>\n",
       "    </tr>\n",
       "    <tr>\n",
       "      <th>0001047213</th>\n",
       "      <td>9.0</td>\n",
       "      <td>1</td>\n",
       "      <td>False</td>\n",
       "    </tr>\n",
       "    <tr>\n",
       "      <th>000104799X</th>\n",
       "      <td>7.5</td>\n",
       "      <td>2</td>\n",
       "      <td>False</td>\n",
       "    </tr>\n",
       "    <tr>\n",
       "      <th>0001061127</th>\n",
       "      <td>8.0</td>\n",
       "      <td>1</td>\n",
       "      <td>False</td>\n",
       "    </tr>\n",
       "  </tbody>\n",
       "</table>\n",
       "</div>"
      ],
      "text/plain": [
       "             book_rating  rating_count  greater1\n",
       "unique_isbn                                     \n",
       "0000913154           8.0             1     False\n",
       "000104687X           6.0             1     False\n",
       "0001047213           9.0             1     False\n",
       "000104799X           7.5             2     False\n",
       "0001061127           8.0             1     False"
      ]
     },
     "execution_count": 12,
     "metadata": {},
     "output_type": "execute_result"
    }
   ],
   "source": [
    "average_ratings.head()"
   ]
  },
  {
   "cell_type": "code",
   "execution_count": 13,
   "metadata": {},
   "outputs": [],
   "source": [
    "books_users_ratings['dropornot'] = [average_ratings.greater1[x] == False for x in books_users_ratings.unique_isbn]"
   ]
  },
  {
   "cell_type": "code",
   "execution_count": 14,
   "metadata": {
    "scrolled": true
   },
   "outputs": [],
   "source": [
    "reduced_books_users_ratings = books_users_ratings[books_users_ratings.dropornot == False]"
   ]
  },
  {
   "cell_type": "code",
   "execution_count": 17,
   "metadata": {},
   "outputs": [
    {
     "name": "stderr",
     "output_type": "stream",
     "text": [
      "/Users/joshuagoldberg/anaconda3/lib/python3.6/site-packages/ipykernel_launcher.py:3: SettingWithCopyWarning: \n",
      "A value is trying to be set on a copy of a slice from a DataFrame.\n",
      "Try using .loc[row_indexer,col_indexer] = value instead\n",
      "\n",
      "See the caveats in the documentation: http://pandas.pydata.org/pandas-docs/stable/indexing.html#indexing-view-versus-copy\n",
      "  This is separate from the ipykernel package so we can avoid doing imports until\n"
     ]
    }
   ],
   "source": [
    "# dropping users with one review\n",
    "userdrop = reduced_books_users_ratings.groupby('user_id')['book_rating'].count() <= 2\n",
    "reduced_books_users_ratings['dropuser'] = [userdrop[x] for x in reduced_books_users_ratings['user_id']]"
   ]
  },
  {
   "cell_type": "code",
   "execution_count": 25,
   "metadata": {},
   "outputs": [
    {
     "data": {
      "text/html": [
       "<div>\n",
       "<style scoped>\n",
       "    .dataframe tbody tr th:only-of-type {\n",
       "        vertical-align: middle;\n",
       "    }\n",
       "\n",
       "    .dataframe tbody tr th {\n",
       "        vertical-align: top;\n",
       "    }\n",
       "\n",
       "    .dataframe thead th {\n",
       "        text-align: right;\n",
       "    }\n",
       "</style>\n",
       "<table border=\"1\" class=\"dataframe\">\n",
       "  <thead>\n",
       "    <tr style=\"text-align: right;\">\n",
       "      <th></th>\n",
       "      <th>user_id</th>\n",
       "      <th>isbn</th>\n",
       "      <th>book_rating</th>\n",
       "      <th>book_title</th>\n",
       "      <th>book_author</th>\n",
       "      <th>year_of_publication</th>\n",
       "      <th>unique_isbn</th>\n",
       "      <th>dropornot</th>\n",
       "      <th>dropuser</th>\n",
       "      <th>age</th>\n",
       "      <th>city</th>\n",
       "      <th>state</th>\n",
       "      <th>country</th>\n",
       "    </tr>\n",
       "  </thead>\n",
       "  <tbody>\n",
       "    <tr>\n",
       "      <th>0</th>\n",
       "      <td>276744</td>\n",
       "      <td>038550120X</td>\n",
       "      <td>7</td>\n",
       "      <td>a painted house</td>\n",
       "      <td>john grisham</td>\n",
       "      <td>2001</td>\n",
       "      <td>044023722X</td>\n",
       "      <td>False</td>\n",
       "      <td>True</td>\n",
       "      <td>34.786876</td>\n",
       "      <td>torrance</td>\n",
       "      <td>california</td>\n",
       "      <td>usa</td>\n",
       "    </tr>\n",
       "    <tr>\n",
       "      <th>1</th>\n",
       "      <td>11676</td>\n",
       "      <td>038550120X</td>\n",
       "      <td>10</td>\n",
       "      <td>a painted house</td>\n",
       "      <td>john grisham</td>\n",
       "      <td>2001</td>\n",
       "      <td>044023722X</td>\n",
       "      <td>False</td>\n",
       "      <td>False</td>\n",
       "      <td>34.786876</td>\n",
       "      <td>NaN</td>\n",
       "      <td>n/a</td>\n",
       "      <td>n/a</td>\n",
       "    </tr>\n",
       "    <tr>\n",
       "      <th>2</th>\n",
       "      <td>11676</td>\n",
       "      <td>044023722X</td>\n",
       "      <td>8</td>\n",
       "      <td>a painted house</td>\n",
       "      <td>john grisham</td>\n",
       "      <td>2001</td>\n",
       "      <td>044023722X</td>\n",
       "      <td>False</td>\n",
       "      <td>False</td>\n",
       "      <td>34.786876</td>\n",
       "      <td>NaN</td>\n",
       "      <td>n/a</td>\n",
       "      <td>n/a</td>\n",
       "    </tr>\n",
       "    <tr>\n",
       "      <th>3</th>\n",
       "      <td>11676</td>\n",
       "      <td>0671537458</td>\n",
       "      <td>8</td>\n",
       "      <td>waiting to exhale</td>\n",
       "      <td>terry mcmillan</td>\n",
       "      <td>1992</td>\n",
       "      <td>0671537458</td>\n",
       "      <td>False</td>\n",
       "      <td>False</td>\n",
       "      <td>34.786876</td>\n",
       "      <td>NaN</td>\n",
       "      <td>n/a</td>\n",
       "      <td>n/a</td>\n",
       "    </tr>\n",
       "    <tr>\n",
       "      <th>4</th>\n",
       "      <td>11676</td>\n",
       "      <td>0671864173</td>\n",
       "      <td>5</td>\n",
       "      <td>waiting to exhale</td>\n",
       "      <td>terry mcmillan</td>\n",
       "      <td>1993</td>\n",
       "      <td>0671537458</td>\n",
       "      <td>False</td>\n",
       "      <td>False</td>\n",
       "      <td>34.786876</td>\n",
       "      <td>NaN</td>\n",
       "      <td>n/a</td>\n",
       "      <td>n/a</td>\n",
       "    </tr>\n",
       "  </tbody>\n",
       "</table>\n",
       "</div>"
      ],
      "text/plain": [
       "   user_id        isbn  book_rating         book_title     book_author  \\\n",
       "0   276744  038550120X            7    a painted house    john grisham   \n",
       "1    11676  038550120X           10    a painted house    john grisham   \n",
       "2    11676  044023722X            8    a painted house    john grisham   \n",
       "3    11676  0671537458            8  waiting to exhale  terry mcmillan   \n",
       "4    11676  0671864173            5  waiting to exhale  terry mcmillan   \n",
       "\n",
       "   year_of_publication unique_isbn  dropornot  dropuser        age      city  \\\n",
       "0                 2001  044023722X      False      True  34.786876  torrance   \n",
       "1                 2001  044023722X      False     False  34.786876       NaN   \n",
       "2                 2001  044023722X      False     False  34.786876       NaN   \n",
       "3                 1992  0671537458      False     False  34.786876       NaN   \n",
       "4                 1993  0671537458      False     False  34.786876       NaN   \n",
       "\n",
       "         state country  \n",
       "0   california     usa  \n",
       "1          n/a     n/a  \n",
       "2          n/a     n/a  \n",
       "3          n/a     n/a  \n",
       "4          n/a     n/a  "
      ]
     },
     "execution_count": 25,
     "metadata": {},
     "output_type": "execute_result"
    }
   ],
   "source": [
    "reduced_books_users_ratings = pd.merge(reduced_books_users_ratings, users, on=\"user_id\")\n",
    "reduced_books_users_ratings.head()"
   ]
  },
  {
   "cell_type": "code",
   "execution_count": 26,
   "metadata": {},
   "outputs": [],
   "source": [
    "reduced_books_users_ratings = reduced_books_users_ratings[reduced_books_users_ratings.dropuser == False]"
   ]
  },
  {
   "cell_type": "code",
   "execution_count": 27,
   "metadata": {},
   "outputs": [],
   "source": [
    "reduced_books_users_ratings.to_csv(\"data/clean/reduced_books_users_ratings.csv\", index=False)"
   ]
  },
  {
   "cell_type": "code",
   "execution_count": 67,
   "metadata": {},
   "outputs": [
    {
     "data": {
      "text/html": [
       "<div>\n",
       "<style scoped>\n",
       "    .dataframe tbody tr th:only-of-type {\n",
       "        vertical-align: middle;\n",
       "    }\n",
       "\n",
       "    .dataframe tbody tr th {\n",
       "        vertical-align: top;\n",
       "    }\n",
       "\n",
       "    .dataframe thead th {\n",
       "        text-align: right;\n",
       "    }\n",
       "</style>\n",
       "<table border=\"1\" class=\"dataframe\">\n",
       "  <thead>\n",
       "    <tr style=\"text-align: right;\">\n",
       "      <th></th>\n",
       "      <th>user_id</th>\n",
       "      <th>unique_isbn</th>\n",
       "      <th>book_rating</th>\n",
       "    </tr>\n",
       "  </thead>\n",
       "  <tbody>\n",
       "    <tr>\n",
       "      <th>4</th>\n",
       "      <td>11676</td>\n",
       "      <td>038550120X</td>\n",
       "      <td>10</td>\n",
       "    </tr>\n",
       "    <tr>\n",
       "      <th>5</th>\n",
       "      <td>11676</td>\n",
       "      <td>0671537458</td>\n",
       "      <td>8</td>\n",
       "    </tr>\n",
       "    <tr>\n",
       "      <th>6</th>\n",
       "      <td>11676</td>\n",
       "      <td>0679776818</td>\n",
       "      <td>8</td>\n",
       "    </tr>\n",
       "    <tr>\n",
       "      <th>7</th>\n",
       "      <td>11676</td>\n",
       "      <td>0684867621</td>\n",
       "      <td>3</td>\n",
       "    </tr>\n",
       "    <tr>\n",
       "      <th>9</th>\n",
       "      <td>11676</td>\n",
       "      <td>8437606322</td>\n",
       "      <td>8</td>\n",
       "    </tr>\n",
       "  </tbody>\n",
       "</table>\n",
       "</div>"
      ],
      "text/plain": [
       "   user_id unique_isbn  book_rating\n",
       "4    11676  038550120X           10\n",
       "5    11676  0671537458            8\n",
       "6    11676  0679776818            8\n",
       "7    11676  0684867621            3\n",
       "9    11676  8437606322            8"
      ]
     },
     "execution_count": 67,
     "metadata": {},
     "output_type": "execute_result"
    }
   ],
   "source": [
    "user_item_rating = reduced_books_users_ratings[['user_id', 'unique_isbn', 'book_rating']]\n",
    "user_item_rating.head()"
   ]
  },
  {
   "cell_type": "code",
   "execution_count": 68,
   "metadata": {
    "scrolled": true
   },
   "outputs": [],
   "source": [
    "#dividing into test and train\n",
    "from sklearn import model_selection\n",
    "train_data, test_data = model_selection.train_test_split(user_item_rating, test_size=0.40)"
   ]
  },
  {
   "cell_type": "code",
   "execution_count": 69,
   "metadata": {},
   "outputs": [],
   "source": [
    "train_users= len(train_data['user_id'].unique())\n",
    "train_books =len(train_data['unique_isbn'].unique()) "
   ]
  },
  {
   "cell_type": "code",
   "execution_count": 171,
   "metadata": {},
   "outputs": [
    {
     "data": {
      "text/plain": [
       "10851"
      ]
     },
     "execution_count": 171,
     "metadata": {},
     "output_type": "execute_result"
    }
   ],
   "source": [
    "train_users"
   ]
  },
  {
   "cell_type": "code",
   "execution_count": 172,
   "metadata": {},
   "outputs": [
    {
     "data": {
      "text/plain": [
       "5572"
      ]
     },
     "execution_count": 172,
     "metadata": {},
     "output_type": "execute_result"
    }
   ],
   "source": [
    "train_books"
   ]
  },
  {
   "cell_type": "code",
   "execution_count": 70,
   "metadata": {},
   "outputs": [],
   "source": [
    "test_users = len(test_data['user_id'].unique())\n",
    "test_books = len(test_data['unique_isbn'].unique())"
   ]
  },
  {
   "cell_type": "code",
   "execution_count": 173,
   "metadata": {},
   "outputs": [
    {
     "data": {
      "text/plain": [
       "10085"
      ]
     },
     "execution_count": 173,
     "metadata": {},
     "output_type": "execute_result"
    }
   ],
   "source": [
    "test_users"
   ]
  },
  {
   "cell_type": "code",
   "execution_count": 174,
   "metadata": {},
   "outputs": [
    {
     "data": {
      "text/plain": [
       "5519"
      ]
     },
     "execution_count": 174,
     "metadata": {},
     "output_type": "execute_result"
    }
   ],
   "source": [
    "test_books"
   ]
  },
  {
   "cell_type": "code",
   "execution_count": 71,
   "metadata": {
    "scrolled": true
   },
   "outputs": [],
   "source": [
    "#creating a user-item matrix to calculate similarity between users\n"
   ]
  },
  {
   "cell_type": "code",
   "execution_count": 72,
   "metadata": {},
   "outputs": [],
   "source": [
    "train_matrix = np.zeros((train_users,train_books))"
   ]
  },
  {
   "cell_type": "code",
   "execution_count": 73,
   "metadata": {},
   "outputs": [],
   "source": [
    "#Map the user_id and unique_isbn fields to sequential integers for matrix processing\n",
    "u_unique_train = train_data.user_id.unique()  # create a 'set' (i.e. all unique) list of vals\n",
    "train_data_user2idx = {o:i for i, o in enumerate(u_unique_train)}\n",
    "# Get int mapping for unique_isbn\n",
    "b_unique_train = train_data.unique_isbn.unique()  # create a 'set' (i.e. all unique) list of vals\n",
    "train_data_book2idx= {o:i for i, o in enumerate(b_unique_train)}\n",
    "\n",
    "### TESTING SET\n",
    "# Get int mapping for user_id\n",
    "u_unique_test = test_data.user_id.unique()  # create a 'set' (i.e. all unique) list of vals\n",
    "test_data_user2idx = {o:i for i, o in enumerate(u_unique_test)}\n",
    "# Get int mapping for unique_isbn\n",
    "b_unique_test = test_data.unique_isbn.unique()  # create a 'set' (i.e. all unique) list of vals\n",
    "test_data_book2idx = {o:i for i, o in enumerate(b_unique_test)}"
   ]
  },
  {
   "cell_type": "code",
   "execution_count": 77,
   "metadata": {
    "scrolled": true
   },
   "outputs": [
    {
     "name": "stderr",
     "output_type": "stream",
     "text": [
      "C:\\Users\\Ami\\Anaconda3\\lib\\site-packages\\ipykernel_launcher.py:1: SettingWithCopyWarning: \n",
      "A value is trying to be set on a copy of a slice from a DataFrame.\n",
      "Try using .loc[row_indexer,col_indexer] = value instead\n",
      "\n",
      "See the caveats in the documentation: http://pandas.pydata.org/pandas-docs/stable/indexing.html#indexing-view-versus-copy\n",
      "  \"\"\"Entry point for launching an IPython kernel.\n",
      "C:\\Users\\Ami\\Anaconda3\\lib\\site-packages\\ipykernel_launcher.py:2: SettingWithCopyWarning: \n",
      "A value is trying to be set on a copy of a slice from a DataFrame.\n",
      "Try using .loc[row_indexer,col_indexer] = value instead\n",
      "\n",
      "See the caveats in the documentation: http://pandas.pydata.org/pandas-docs/stable/indexing.html#indexing-view-versus-copy\n",
      "  \n",
      "C:\\Users\\Ami\\Anaconda3\\lib\\site-packages\\ipykernel_launcher.py:5: SettingWithCopyWarning: \n",
      "A value is trying to be set on a copy of a slice from a DataFrame.\n",
      "Try using .loc[row_indexer,col_indexer] = value instead\n",
      "\n",
      "See the caveats in the documentation: http://pandas.pydata.org/pandas-docs/stable/indexing.html#indexing-view-versus-copy\n",
      "  \"\"\"\n",
      "C:\\Users\\Ami\\Anaconda3\\lib\\site-packages\\ipykernel_launcher.py:6: SettingWithCopyWarning: \n",
      "A value is trying to be set on a copy of a slice from a DataFrame.\n",
      "Try using .loc[row_indexer,col_indexer] = value instead\n",
      "\n",
      "See the caveats in the documentation: http://pandas.pydata.org/pandas-docs/stable/indexing.html#indexing-view-versus-copy\n",
      "  \n"
     ]
    }
   ],
   "source": [
    "train_data['u_unique'] = train_data['user_id'].map(train_data_user2idx)\n",
    "train_data['b_unique'] = train_data['unique_isbn'].map(train_data_book2idx)\n",
    "\n",
    "### TESTING SET\n",
    "test_data['u_unique'] = test_data['user_id'].map(test_data_user2idx)\n",
    "test_data['b_unique'] = test_data['unique_isbn'].map(test_data_book2idx)\n",
    "\n"
   ]
  },
  {
   "cell_type": "code",
   "execution_count": 78,
   "metadata": {},
   "outputs": [],
   "source": [
    "### Convert back to 3-column df\n",
    "train_data_new = train_data[['u_unique', 'b_unique', 'book_rating']]\n",
    "test_data_new = test_data[['u_unique', 'b_unique', 'book_rating']]"
   ]
  },
  {
   "cell_type": "code",
   "execution_count": 79,
   "metadata": {},
   "outputs": [],
   "source": [
    "for entry in train_data_new.itertuples(): # entry[1] is the user-id, entry[2] is the book-isbn\n",
    "    train_matrix[entry[1]-1, entry[2]-1] = entry[3] # -1 is to counter 0-based indexing"
   ]
  },
  {
   "cell_type": "code",
   "execution_count": 80,
   "metadata": {},
   "outputs": [
    {
     "data": {
      "text/plain": [
       "array([[10.,  0.,  0., ...,  0.,  0.,  0.],\n",
       "       [ 0., 10.,  0., ...,  0.,  0.,  0.],\n",
       "       [ 0.,  0., 10., ...,  0.,  0.,  0.],\n",
       "       ...,\n",
       "       [ 0.,  0.,  0., ...,  0.,  0.,  0.],\n",
       "       [ 0.,  0.,  0., ...,  0.,  0.,  0.],\n",
       "       [ 0.,  0.,  0., ...,  0.,  0.,  8.]])"
      ]
     },
     "execution_count": 80,
     "metadata": {},
     "output_type": "execute_result"
    }
   ],
   "source": [
    "train_matrix"
   ]
  },
  {
   "cell_type": "code",
   "execution_count": 109,
   "metadata": {},
   "outputs": [],
   "source": [
    "#Calculating cosine similarity\n",
    "from sklearn.metrics.pairwise import pairwise_distances\n",
    "user_similarity = pairwise_distances(train_matrix, metric='cosine')\n",
    "item_similarity = pairwise_distances(train_matrix.T, metric='cosine') # .T transposes the matrix (NumPy)"
   ]
  },
  {
   "cell_type": "code",
   "execution_count": 110,
   "metadata": {},
   "outputs": [],
   "source": [
    "def predict(ratings, similarity, type='user'): # default type is 'user'\n",
    "    if type == 'user':\n",
    "        mean_user_rating = ratings.mean(axis=1)\n",
    "        # Use np.newaxis so that mean_user_rating has the same format as ratings\n",
    "        ratings_diff = (ratings - mean_user_rating[:, np.newaxis])\n",
    "        pred = mean_user_rating[:, np.newaxis] + similarity.dot(ratings_diff) / np.array([np.abs(similarity).sum(axis=1)]).T\n",
    "    elif type == 'item':\n",
    "        pred = ratings.dot(similarity) / np.array([np.abs(similarity).sum(axis=1)])\n",
    "    return pred"
   ]
  },
  {
   "cell_type": "code",
   "execution_count": 111,
   "metadata": {},
   "outputs": [],
   "source": [
    "#predicts ratings for every book and every user\n",
    "item_prediction = predict(train_matrix, item_similarity, type='item')\n",
    "user_prediction = predict(train_matrix, user_similarity, type='user')"
   ]
  },
  {
   "cell_type": "code",
   "execution_count": 267,
   "metadata": {},
   "outputs": [],
   "source": [
    "#function to get top ten recommendations for a given user id based on user similarity scores\n",
    "def predict_user(user_id, user_prediction, books_users_ratings):\n",
    "    uniqueuser = train_data_user2idx[user_id]\n",
    "    ranks = pd.DataFrame(user_prediction[uniqueuser])\n",
    "    ranks['uniquebook'] = [i for i,o in enumerate(ranks[0])]\n",
    "    ranks.columns = ['rating', 'uniquebook']\n",
    "    ranks= ranks.sort_values(by=['rating'],ascending=False)\n",
    "    isbn = []\n",
    "    for i,v in enumerate(ranks.uniquebook):\n",
    "        for key, value in train_data_book2idx.items():\n",
    "            if v == value:\n",
    "                isbn.append(key)\n",
    "    ranks['unique_isbn'] = isbn\n",
    "    ranks['rated'] = [1 if x in reduced_books_users_ratings[reduced_books_users_ratings.user_id == user_id].unique_isbn.tolist() else 0 for x in ranks.unique_isbn]\n",
    "    ranks = ranks[ranks.rated==0]\n",
    "    ranks=ranks.head(10)\n",
    "    recommendations = [books_users_ratings[books_users_ratings.unique_isbn==x].book_title.tolist()[1] for x in ranks.unique_isbn]\n",
    "    ranks['titles'] =recommendations\n",
    "    print(ranks)"
   ]
  },
  {
   "cell_type": "code",
   "execution_count": 268,
   "metadata": {},
   "outputs": [
    {
     "name": "stdout",
     "output_type": "stream",
     "text": [
      "       rating  uniquebook unique_isbn  rated  \\\n",
      "365  0.241631         365  0553569155      0   \n",
      "539  0.195143         539  0440236819      0   \n",
      "248  0.171858         248  0553569031      0   \n",
      "43   0.156430          43  0060977493      0   \n",
      "211  0.146043         211  0688177751      0   \n",
      "738  0.141077         738  0380725835      0   \n",
      "11   0.139725          11  0451525795      0   \n",
      "306  0.137516         306  0515116750      0   \n",
      "552  0.137500         552  0060002050      0   \n",
      "407  0.129629         407  0811813401      0   \n",
      "\n",
      "                                                titles  \n",
      "365                                       Seinlanguage  \n",
      "539                                        The Cottage  \n",
      "248                             Gone But Not Forgotten  \n",
      "43                             The God of Small Things  \n",
      "211               Miss Julia Speaks Her Mind : A Novel  \n",
      "738  Endangered Species (Anna Pigeon Mysteries (Pap...  \n",
      "11                         My Antonia (Signet Classic)  \n",
      "306                                        Born in Ice  \n",
      "552                  On a Wicked Dawn (Cynster Novels)  \n",
      "407                                             Beauty  \n"
     ]
    }
   ],
   "source": [
    "#example prediction of ten books for a given user based on user similarity scores\n",
    "predict_user(161882,user_prediction,books_users_ratings)"
   ]
  },
  {
   "cell_type": "code",
   "execution_count": 269,
   "metadata": {},
   "outputs": [],
   "source": [
    "#function to get top ten recommendations for a given user id based on item similarity scores\n",
    "def predict_user(user_id, item_prediction, books_users_ratings):\n",
    "    uniqueuser = train_data_user2idx[user_id]\n",
    "    ranks = pd.DataFrame(item_prediction[uniqueuser])\n",
    "    ranks['uniquebook'] = [i for i,o in enumerate(ranks[0])]\n",
    "    ranks.columns = ['rating', 'uniquebook']\n",
    "    ranks= ranks.sort_values(by=['rating'],ascending=False)\n",
    "    isbn = []\n",
    "    for i,v in enumerate(ranks.uniquebook):\n",
    "        for key, value in train_data_book2idx.items():\n",
    "            if v == value:\n",
    "                isbn.append(key)\n",
    "    ranks['unique_isbn'] = isbn\n",
    "    ranks['rated'] = [1 if x in reduced_books_users_ratings[reduced_books_users_ratings.user_id == user_id].unique_isbn.tolist() else 0 for x in ranks.unique_isbn]\n",
    "    ranks = ranks[ranks.rated==0]\n",
    "    ranks=ranks.head(10)\n",
    "    recommendations = [books_users_ratings[books_users_ratings.unique_isbn==x].book_title.tolist()[1] for x in ranks.unique_isbn]\n",
    "    ranks['titles'] =recommendations\n",
    "    print(ranks)"
   ]
  },
  {
   "cell_type": "code",
   "execution_count": 271,
   "metadata": {},
   "outputs": [
    {
     "name": "stdout",
     "output_type": "stream",
     "text": [
      "        rating  uniquebook unique_isbn  rated  \\\n",
      "4784  0.037389        4784  0062554468      0   \n",
      "906   0.037325         906  0689817851      0   \n",
      "2887  0.037310        2887  0060975547      0   \n",
      "620   0.037305         620  0142002267      0   \n",
      "4266  0.037302        4266  0312852487      0   \n",
      "5275  0.037290        5275  087542127X      0   \n",
      "2621  0.037276        2621  0446530077      0   \n",
      "4057  0.037256        4057  0743467191      0   \n",
      "1782  0.037247        1782  0553211757      0   \n",
      "5456  0.037246        5456  0440501601      0   \n",
      "\n",
      "                                                 titles  \n",
      "4784  Codependent No More: How to Stop Controlling O...  \n",
      "906                                        Go Ask Alice  \n",
      "2887                                      Love Medicine  \n",
      "620   Word Freak: Heartbreak, Triumph, Genius, and O...  \n",
      "4266      The Dragon Reborn (The Wheel of Time, Book 3)  \n",
      "5275  The Truth About Witchcraft Today (Llewellyn's ...  \n",
      "2621                                            Find Me  \n",
      "4057                                     Wildest Hearts  \n",
      "1782      Crime and Punishment (Crime &amp; Punishment)  \n",
      "5456  Do What You Love, The Money Will Follow : Disc...  \n"
     ]
    }
   ],
   "source": [
    "#example prediction of ten books for a given user based on item similarity scores\n",
    "predict_user(161882,item_prediction,books_users_ratings)"
   ]
  },
  {
   "cell_type": "code",
   "execution_count": 275,
   "metadata": {},
   "outputs": [],
   "source": [
    "### Testing the prediction methods bases on rmse\n",
    "# Create user-item matrices\n",
    "n_users = test_data['u_unique'].nunique()\n",
    "n_books = test_data['b_unique'].nunique()\n",
    "\n",
    "# First, create an empty matrix of size USERS x BOOKS (this speeds up the later steps)\n",
    "test_matrix = np.zeros((n_users, n_books))\n"
   ]
  },
  {
   "cell_type": "code",
   "execution_count": 276,
   "metadata": {},
   "outputs": [
    {
     "data": {
      "text/html": [
       "<div>\n",
       "<style scoped>\n",
       "    .dataframe tbody tr th:only-of-type {\n",
       "        vertical-align: middle;\n",
       "    }\n",
       "\n",
       "    .dataframe tbody tr th {\n",
       "        vertical-align: top;\n",
       "    }\n",
       "\n",
       "    .dataframe thead th {\n",
       "        text-align: right;\n",
       "    }\n",
       "</style>\n",
       "<table border=\"1\" class=\"dataframe\">\n",
       "  <thead>\n",
       "    <tr style=\"text-align: right;\">\n",
       "      <th></th>\n",
       "      <th>user_id</th>\n",
       "      <th>unique_isbn</th>\n",
       "      <th>book_rating</th>\n",
       "      <th>u_unique</th>\n",
       "      <th>b_unique</th>\n",
       "    </tr>\n",
       "  </thead>\n",
       "  <tbody>\n",
       "    <tr>\n",
       "      <th>97905</th>\n",
       "      <td>227836</td>\n",
       "      <td>0515131229</td>\n",
       "      <td>8</td>\n",
       "      <td>0</td>\n",
       "      <td>0</td>\n",
       "    </tr>\n",
       "    <tr>\n",
       "      <th>155656</th>\n",
       "      <td>232052</td>\n",
       "      <td>034540288X</td>\n",
       "      <td>10</td>\n",
       "      <td>1</td>\n",
       "      <td>1</td>\n",
       "    </tr>\n",
       "    <tr>\n",
       "      <th>271929</th>\n",
       "      <td>154788</td>\n",
       "      <td>0689711522</td>\n",
       "      <td>9</td>\n",
       "      <td>2</td>\n",
       "      <td>2</td>\n",
       "    </tr>\n",
       "    <tr>\n",
       "      <th>50917</th>\n",
       "      <td>182053</td>\n",
       "      <td>0786817070</td>\n",
       "      <td>10</td>\n",
       "      <td>3</td>\n",
       "      <td>3</td>\n",
       "    </tr>\n",
       "    <tr>\n",
       "      <th>69251</th>\n",
       "      <td>243720</td>\n",
       "      <td>002542730X</td>\n",
       "      <td>5</td>\n",
       "      <td>4</td>\n",
       "      <td>4</td>\n",
       "    </tr>\n",
       "  </tbody>\n",
       "</table>\n",
       "</div>"
      ],
      "text/plain": [
       "        user_id unique_isbn  book_rating  u_unique  b_unique\n",
       "97905    227836  0515131229            8         0         0\n",
       "155656   232052  034540288X           10         1         1\n",
       "271929   154788  0689711522            9         2         2\n",
       "50917    182053  0786817070           10         3         3\n",
       "69251    243720  002542730X            5         4         4"
      ]
     },
     "execution_count": 276,
     "metadata": {},
     "output_type": "execute_result"
    }
   ],
   "source": [
    "test_data.head()"
   ]
  },
  {
   "cell_type": "code",
   "execution_count": 277,
   "metadata": {},
   "outputs": [],
   "source": [
    "\n",
    "# Then, add the appropriate vals to the matrix by extracting them from the df with itertuples\n",
    "for entry in test_data_new.itertuples(): # entry[1] is the user-id, entry[2] is the book-isbn\n",
    "    test_matrix[entry[1]-1, entry[2]-1] = entry[3] # -1 is to counter 0-based indexing"
   ]
  },
  {
   "cell_type": "code",
   "execution_count": 278,
   "metadata": {},
   "outputs": [
    {
     "name": "stdout",
     "output_type": "stream",
     "text": [
      "User-based CF RMSE: 7.973753170432789\n",
      "Item-based CF RMSE: 7.976354848069027\n"
     ]
    }
   ],
   "source": [
    "from sklearn.metrics import mean_squared_error\n",
    "from math import sqrt\n",
    "\n",
    "def rmse(prediction, test_matrix):\n",
    "    prediction = prediction[test_matrix.nonzero()].flatten()\n",
    "    test_matrix = test_matrix[test_matrix.nonzero()].flatten()\n",
    "    return sqrt(mean_squared_error(prediction, test_matrix))\n",
    "\n",
    "# Call on test set to get error from each approach ('user' or 'item')\n",
    "print(f'User-based CF RMSE: {rmse(user_prediction, test_matrix)}')\n",
    "print(f'Item-based CF RMSE: {rmse(item_prediction, test_matrix)}')"
   ]
  }
 ],
 "metadata": {
  "kernelspec": {
   "display_name": "Python 3",
   "language": "python",
   "name": "python3"
  },
  "language_info": {
   "codemirror_mode": {
    "name": "ipython",
    "version": 3
   },
   "file_extension": ".py",
   "mimetype": "text/x-python",
   "name": "python",
   "nbconvert_exporter": "python",
   "pygments_lexer": "ipython3",
   "version": "3.6.7"
  },
  "latex_envs": {
   "LaTeX_envs_menu_present": true,
   "autoclose": false,
   "autocomplete": true,
   "bibliofile": "biblio.bib",
   "cite_by": "apalike",
   "current_citInitial": 1,
   "eqLabelWithNumbers": true,
   "eqNumInitial": 1,
   "hotkeys": {
    "equation": "Ctrl-E",
    "itemize": "Ctrl-I"
   },
   "labels_anchors": false,
   "latex_user_defs": false,
   "report_style_numbering": false,
   "user_envs_cfg": false
  },
  "varInspector": {
   "cols": {
    "lenName": 16,
    "lenType": 16,
    "lenVar": 40
   },
   "kernels_config": {
    "python": {
     "delete_cmd_postfix": "",
     "delete_cmd_prefix": "del ",
     "library": "var_list.py",
     "varRefreshCmd": "print(var_dic_list())"
    },
    "r": {
     "delete_cmd_postfix": ") ",
     "delete_cmd_prefix": "rm(",
     "library": "var_list.r",
     "varRefreshCmd": "cat(var_dic_list()) "
    }
   },
   "types_to_exclude": [
    "module",
    "function",
    "builtin_function_or_method",
    "instance",
    "_Feature"
   ],
   "window_display": true
  }
 },
 "nbformat": 4,
 "nbformat_minor": 2
}
