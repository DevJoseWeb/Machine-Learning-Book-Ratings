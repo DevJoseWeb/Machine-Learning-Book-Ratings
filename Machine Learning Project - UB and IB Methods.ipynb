{
 "cells": [
  {
   "cell_type": "code",
   "execution_count": 67,
   "metadata": {},
   "outputs": [],
   "source": [
    "import pandas as pd\n",
    "import numpy as np\n",
    "import matplotlib.pyplot as plt\n",
    "import pickle\n",
    "import warnings"
   ]
  },
  {
   "cell_type": "code",
   "execution_count": 68,
   "metadata": {},
   "outputs": [],
   "source": [
    "books = pd.read_csv(\"data/clean/books_clean.csv\")\n",
    "ratings = pd.read_csv(\"data/clean/ratings_clean.csv\")\n",
    "users = pd.read_csv(\"data/clean/users_clean.csv\")\n",
    "books_users_ratings = pd.read_csv(\"data/clean/books_users_ratings.csv\")"
   ]
  },
  {
   "cell_type": "code",
   "execution_count": null,
   "metadata": {},
   "outputs": [],
   "source": []
  },
  {
   "cell_type": "markdown",
   "metadata": {},
   "source": [
    "**Recommendations based on correlations**"
   ]
  },
  {
   "cell_type": "code",
   "execution_count": 31,
   "metadata": {},
   "outputs": [],
   "source": [
    "#dropping books with one review to reduce size of dataset\n",
    "average_ratings = pd.DataFrame(books_users_ratings.groupby('unique_isbn')['book_rating'].mean())\n",
    "average_ratings['rating_count'] = pd.DataFrame(books_users_ratings.groupby('unique_isbn')['book_rating'].count())\n",
    "average_ratings.sort_values('rating_count', ascending=False).head()\n",
    "average_ratings['greater1'] = (average_ratings.rating_count > 9)"
   ]
  },
  {
   "cell_type": "code",
   "execution_count": 32,
   "metadata": {},
   "outputs": [
    {
     "data": {
      "text/html": [
       "<div>\n",
       "<style scoped>\n",
       "    .dataframe tbody tr th:only-of-type {\n",
       "        vertical-align: middle;\n",
       "    }\n",
       "\n",
       "    .dataframe tbody tr th {\n",
       "        vertical-align: top;\n",
       "    }\n",
       "\n",
       "    .dataframe thead th {\n",
       "        text-align: right;\n",
       "    }\n",
       "</style>\n",
       "<table border=\"1\" class=\"dataframe\">\n",
       "  <thead>\n",
       "    <tr style=\"text-align: right;\">\n",
       "      <th></th>\n",
       "      <th>book_rating</th>\n",
       "      <th>rating_count</th>\n",
       "      <th>greater1</th>\n",
       "    </tr>\n",
       "    <tr>\n",
       "      <th>unique_isbn</th>\n",
       "      <th></th>\n",
       "      <th></th>\n",
       "      <th></th>\n",
       "    </tr>\n",
       "  </thead>\n",
       "  <tbody>\n",
       "    <tr>\n",
       "      <th>0000913154</th>\n",
       "      <td>8.0</td>\n",
       "      <td>1</td>\n",
       "      <td>False</td>\n",
       "    </tr>\n",
       "    <tr>\n",
       "      <th>000104687X</th>\n",
       "      <td>6.0</td>\n",
       "      <td>1</td>\n",
       "      <td>False</td>\n",
       "    </tr>\n",
       "    <tr>\n",
       "      <th>0001047213</th>\n",
       "      <td>9.0</td>\n",
       "      <td>1</td>\n",
       "      <td>False</td>\n",
       "    </tr>\n",
       "    <tr>\n",
       "      <th>000104799X</th>\n",
       "      <td>7.5</td>\n",
       "      <td>2</td>\n",
       "      <td>False</td>\n",
       "    </tr>\n",
       "    <tr>\n",
       "      <th>0001061127</th>\n",
       "      <td>8.0</td>\n",
       "      <td>1</td>\n",
       "      <td>False</td>\n",
       "    </tr>\n",
       "  </tbody>\n",
       "</table>\n",
       "</div>"
      ],
      "text/plain": [
       "             book_rating  rating_count  greater1\n",
       "unique_isbn                                     \n",
       "0000913154           8.0             1     False\n",
       "000104687X           6.0             1     False\n",
       "0001047213           9.0             1     False\n",
       "000104799X           7.5             2     False\n",
       "0001061127           8.0             1     False"
      ]
     },
     "execution_count": 32,
     "metadata": {},
     "output_type": "execute_result"
    }
   ],
   "source": [
    "average_ratings.head()"
   ]
  },
  {
   "cell_type": "code",
   "execution_count": 33,
   "metadata": {},
   "outputs": [],
   "source": [
    "books_users_ratings['dropornot'] = [average_ratings.greater1[x] == False for x in books_users_ratings.unique_isbn]"
   ]
  },
  {
   "cell_type": "code",
   "execution_count": 34,
   "metadata": {
    "scrolled": true
   },
   "outputs": [],
   "source": [
    "reduced_books_users_ratings = books_users_ratings[books_users_ratings.dropornot == False]"
   ]
  },
  {
   "cell_type": "code",
   "execution_count": 35,
   "metadata": {},
   "outputs": [
    {
     "name": "stderr",
     "output_type": "stream",
     "text": [
      "/Users/joshuagoldberg/anaconda3/lib/python3.6/site-packages/ipykernel_launcher.py:3: SettingWithCopyWarning: \n",
      "A value is trying to be set on a copy of a slice from a DataFrame.\n",
      "Try using .loc[row_indexer,col_indexer] = value instead\n",
      "\n",
      "See the caveats in the documentation: http://pandas.pydata.org/pandas-docs/stable/indexing.html#indexing-view-versus-copy\n",
      "  This is separate from the ipykernel package so we can avoid doing imports until\n"
     ]
    }
   ],
   "source": [
    "# dropping users with one review\n",
    "userdrop = reduced_books_users_ratings.groupby('user_id')['book_rating'].count() <= 2\n",
    "reduced_books_users_ratings['dropuser'] = [userdrop[x] for x in reduced_books_users_ratings['user_id']]"
   ]
  },
  {
   "cell_type": "code",
   "execution_count": 36,
   "metadata": {},
   "outputs": [
    {
     "data": {
      "text/html": [
       "<div>\n",
       "<style scoped>\n",
       "    .dataframe tbody tr th:only-of-type {\n",
       "        vertical-align: middle;\n",
       "    }\n",
       "\n",
       "    .dataframe tbody tr th {\n",
       "        vertical-align: top;\n",
       "    }\n",
       "\n",
       "    .dataframe thead th {\n",
       "        text-align: right;\n",
       "    }\n",
       "</style>\n",
       "<table border=\"1\" class=\"dataframe\">\n",
       "  <thead>\n",
       "    <tr style=\"text-align: right;\">\n",
       "      <th></th>\n",
       "      <th>user_id</th>\n",
       "      <th>isbn</th>\n",
       "      <th>book_rating</th>\n",
       "      <th>book_title</th>\n",
       "      <th>book_author</th>\n",
       "      <th>year_of_publication</th>\n",
       "      <th>unique_isbn</th>\n",
       "      <th>dropornot</th>\n",
       "      <th>dropuser</th>\n",
       "      <th>age</th>\n",
       "      <th>city</th>\n",
       "      <th>state</th>\n",
       "      <th>country</th>\n",
       "    </tr>\n",
       "  </thead>\n",
       "  <tbody>\n",
       "    <tr>\n",
       "      <th>0</th>\n",
       "      <td>276744</td>\n",
       "      <td>038550120X</td>\n",
       "      <td>7</td>\n",
       "      <td>a painted house</td>\n",
       "      <td>john grisham</td>\n",
       "      <td>2001</td>\n",
       "      <td>044023722X</td>\n",
       "      <td>False</td>\n",
       "      <td>True</td>\n",
       "      <td>34.786876</td>\n",
       "      <td>torrance</td>\n",
       "      <td>california</td>\n",
       "      <td>usa</td>\n",
       "    </tr>\n",
       "    <tr>\n",
       "      <th>1</th>\n",
       "      <td>11676</td>\n",
       "      <td>038550120X</td>\n",
       "      <td>10</td>\n",
       "      <td>a painted house</td>\n",
       "      <td>john grisham</td>\n",
       "      <td>2001</td>\n",
       "      <td>044023722X</td>\n",
       "      <td>False</td>\n",
       "      <td>False</td>\n",
       "      <td>34.786876</td>\n",
       "      <td>NaN</td>\n",
       "      <td>n/a</td>\n",
       "      <td>n/a</td>\n",
       "    </tr>\n",
       "    <tr>\n",
       "      <th>2</th>\n",
       "      <td>11676</td>\n",
       "      <td>044023722X</td>\n",
       "      <td>8</td>\n",
       "      <td>a painted house</td>\n",
       "      <td>john grisham</td>\n",
       "      <td>2001</td>\n",
       "      <td>044023722X</td>\n",
       "      <td>False</td>\n",
       "      <td>False</td>\n",
       "      <td>34.786876</td>\n",
       "      <td>NaN</td>\n",
       "      <td>n/a</td>\n",
       "      <td>n/a</td>\n",
       "    </tr>\n",
       "    <tr>\n",
       "      <th>3</th>\n",
       "      <td>11676</td>\n",
       "      <td>0671537458</td>\n",
       "      <td>8</td>\n",
       "      <td>waiting to exhale</td>\n",
       "      <td>terry mcmillan</td>\n",
       "      <td>1992</td>\n",
       "      <td>0671537458</td>\n",
       "      <td>False</td>\n",
       "      <td>False</td>\n",
       "      <td>34.786876</td>\n",
       "      <td>NaN</td>\n",
       "      <td>n/a</td>\n",
       "      <td>n/a</td>\n",
       "    </tr>\n",
       "    <tr>\n",
       "      <th>4</th>\n",
       "      <td>11676</td>\n",
       "      <td>0671864173</td>\n",
       "      <td>5</td>\n",
       "      <td>waiting to exhale</td>\n",
       "      <td>terry mcmillan</td>\n",
       "      <td>1993</td>\n",
       "      <td>0671537458</td>\n",
       "      <td>False</td>\n",
       "      <td>False</td>\n",
       "      <td>34.786876</td>\n",
       "      <td>NaN</td>\n",
       "      <td>n/a</td>\n",
       "      <td>n/a</td>\n",
       "    </tr>\n",
       "  </tbody>\n",
       "</table>\n",
       "</div>"
      ],
      "text/plain": [
       "   user_id        isbn  book_rating         book_title     book_author  \\\n",
       "0   276744  038550120X            7    a painted house    john grisham   \n",
       "1    11676  038550120X           10    a painted house    john grisham   \n",
       "2    11676  044023722X            8    a painted house    john grisham   \n",
       "3    11676  0671537458            8  waiting to exhale  terry mcmillan   \n",
       "4    11676  0671864173            5  waiting to exhale  terry mcmillan   \n",
       "\n",
       "   year_of_publication unique_isbn  dropornot  dropuser        age      city  \\\n",
       "0                 2001  044023722X      False      True  34.786876  torrance   \n",
       "1                 2001  044023722X      False     False  34.786876       NaN   \n",
       "2                 2001  044023722X      False     False  34.786876       NaN   \n",
       "3                 1992  0671537458      False     False  34.786876       NaN   \n",
       "4                 1993  0671537458      False     False  34.786876       NaN   \n",
       "\n",
       "         state country  \n",
       "0   california     usa  \n",
       "1          n/a     n/a  \n",
       "2          n/a     n/a  \n",
       "3          n/a     n/a  \n",
       "4          n/a     n/a  "
      ]
     },
     "execution_count": 36,
     "metadata": {},
     "output_type": "execute_result"
    }
   ],
   "source": [
    "reduced_books_users_ratings = pd.merge(reduced_books_users_ratings, users, on=\"user_id\")\n",
    "reduced_books_users_ratings.head()"
   ]
  },
  {
   "cell_type": "code",
   "execution_count": 37,
   "metadata": {},
   "outputs": [],
   "source": [
    "reduced_books_users_ratings = reduced_books_users_ratings[reduced_books_users_ratings.dropuser == False]"
   ]
  },
  {
   "cell_type": "code",
   "execution_count": 38,
   "metadata": {},
   "outputs": [],
   "source": [
    "reduced_books_users_ratings.to_csv(\"data/clean/reduced_books_users_ratings.csv\", index=False)"
   ]
  },
  {
   "cell_type": "code",
   "execution_count": 69,
   "metadata": {},
   "outputs": [
    {
     "data": {
      "text/plain": [
       "(110199, 13)"
      ]
     },
     "execution_count": 69,
     "metadata": {},
     "output_type": "execute_result"
    }
   ],
   "source": [
    "pd.read_csv(\"data/clean/reduced_books_users_ratings.csv\").shape"
   ]
  },
  {
   "cell_type": "code",
   "execution_count": 79,
   "metadata": {},
   "outputs": [
    {
     "data": {
      "text/plain": [
       "277332"
      ]
     },
     "execution_count": 79,
     "metadata": {},
     "output_type": "execute_result"
    }
   ],
   "source": [
    "len(users.user_id.unique())"
   ]
  },
  {
   "cell_type": "code",
   "execution_count": 39,
   "metadata": {},
   "outputs": [
    {
     "data": {
      "text/html": [
       "<div>\n",
       "<style scoped>\n",
       "    .dataframe tbody tr th:only-of-type {\n",
       "        vertical-align: middle;\n",
       "    }\n",
       "\n",
       "    .dataframe tbody tr th {\n",
       "        vertical-align: top;\n",
       "    }\n",
       "\n",
       "    .dataframe thead th {\n",
       "        text-align: right;\n",
       "    }\n",
       "</style>\n",
       "<table border=\"1\" class=\"dataframe\">\n",
       "  <thead>\n",
       "    <tr style=\"text-align: right;\">\n",
       "      <th></th>\n",
       "      <th>user_id</th>\n",
       "      <th>unique_isbn</th>\n",
       "      <th>book_rating</th>\n",
       "    </tr>\n",
       "  </thead>\n",
       "  <tbody>\n",
       "    <tr>\n",
       "      <th>1</th>\n",
       "      <td>11676</td>\n",
       "      <td>044023722X</td>\n",
       "      <td>10</td>\n",
       "    </tr>\n",
       "    <tr>\n",
       "      <th>2</th>\n",
       "      <td>11676</td>\n",
       "      <td>044023722X</td>\n",
       "      <td>8</td>\n",
       "    </tr>\n",
       "    <tr>\n",
       "      <th>3</th>\n",
       "      <td>11676</td>\n",
       "      <td>0671537458</td>\n",
       "      <td>8</td>\n",
       "    </tr>\n",
       "    <tr>\n",
       "      <th>4</th>\n",
       "      <td>11676</td>\n",
       "      <td>0671537458</td>\n",
       "      <td>5</td>\n",
       "    </tr>\n",
       "    <tr>\n",
       "      <th>5</th>\n",
       "      <td>11676</td>\n",
       "      <td>0679776818</td>\n",
       "      <td>8</td>\n",
       "    </tr>\n",
       "  </tbody>\n",
       "</table>\n",
       "</div>"
      ],
      "text/plain": [
       "   user_id unique_isbn  book_rating\n",
       "1    11676  044023722X           10\n",
       "2    11676  044023722X            8\n",
       "3    11676  0671537458            8\n",
       "4    11676  0671537458            5\n",
       "5    11676  0679776818            8"
      ]
     },
     "execution_count": 39,
     "metadata": {},
     "output_type": "execute_result"
    }
   ],
   "source": [
    "user_item_rating = reduced_books_users_ratings[['user_id', 'unique_isbn', 'book_rating']]\n",
    "user_item_rating.head()"
   ]
  },
  {
   "cell_type": "code",
   "execution_count": 40,
   "metadata": {
    "scrolled": true
   },
   "outputs": [],
   "source": [
    "# dividing into test and train\n",
    "from sklearn import model_selection\n",
    "train_data, test_data = model_selection.train_test_split(user_item_rating, test_size=0.40)"
   ]
  },
  {
   "cell_type": "code",
   "execution_count": 41,
   "metadata": {},
   "outputs": [],
   "source": [
    "train_users = len(train_data['user_id'].unique())\n",
    "train_books = len(train_data['unique_isbn'].unique()) "
   ]
  },
  {
   "cell_type": "code",
   "execution_count": 42,
   "metadata": {},
   "outputs": [
    {
     "data": {
      "text/plain": [
       "10265"
      ]
     },
     "execution_count": 42,
     "metadata": {},
     "output_type": "execute_result"
    }
   ],
   "source": [
    "train_users"
   ]
  },
  {
   "cell_type": "code",
   "execution_count": 43,
   "metadata": {},
   "outputs": [
    {
     "data": {
      "text/plain": [
       "5152"
      ]
     },
     "execution_count": 43,
     "metadata": {},
     "output_type": "execute_result"
    }
   ],
   "source": [
    "train_books"
   ]
  },
  {
   "cell_type": "code",
   "execution_count": 44,
   "metadata": {},
   "outputs": [],
   "source": [
    "test_users = len(test_data['user_id'].unique())\n",
    "test_books = len(test_data['unique_isbn'].unique())"
   ]
  },
  {
   "cell_type": "code",
   "execution_count": 45,
   "metadata": {},
   "outputs": [
    {
     "data": {
      "text/plain": [
       "9546"
      ]
     },
     "execution_count": 45,
     "metadata": {},
     "output_type": "execute_result"
    }
   ],
   "source": [
    "test_users"
   ]
  },
  {
   "cell_type": "code",
   "execution_count": 46,
   "metadata": {},
   "outputs": [
    {
     "data": {
      "text/plain": [
       "5101"
      ]
     },
     "execution_count": 46,
     "metadata": {},
     "output_type": "execute_result"
    }
   ],
   "source": [
    "test_books"
   ]
  },
  {
   "cell_type": "code",
   "execution_count": 47,
   "metadata": {
    "scrolled": true
   },
   "outputs": [],
   "source": [
    "#creating a user-item matrix to calculate similarity between users\n"
   ]
  },
  {
   "cell_type": "code",
   "execution_count": 48,
   "metadata": {},
   "outputs": [],
   "source": [
    "train_matrix = np.zeros((train_users,train_books))"
   ]
  },
  {
   "cell_type": "code",
   "execution_count": 49,
   "metadata": {},
   "outputs": [],
   "source": [
    "#Map the user_id and unique_isbn fields to sequential integers for matrix processing\n",
    "u_unique_train = train_data.user_id.unique()  # create a 'set' (i.e. all unique) list of vals\n",
    "train_data_user2idx = {o:i for i, o in enumerate(u_unique_train)}\n",
    "# Get int mapping for unique_isbn\n",
    "b_unique_train = train_data.unique_isbn.unique()  # create a 'set' (i.e. all unique) list of vals\n",
    "train_data_book2idx= {o:i for i, o in enumerate(b_unique_train)}\n",
    "\n",
    "### TESTING SET\n",
    "# Get int mapping for user_id\n",
    "u_unique_test = test_data.user_id.unique()  # create a 'set' (i.e. all unique) list of vals\n",
    "test_data_user2idx = {o:i for i, o in enumerate(u_unique_test)}\n",
    "# Get int mapping for unique_isbn\n",
    "b_unique_test = test_data.unique_isbn.unique()  # create a 'set' (i.e. all unique) list of vals\n",
    "test_data_book2idx = {o:i for i, o in enumerate(b_unique_test)}"
   ]
  },
  {
   "cell_type": "code",
   "execution_count": 50,
   "metadata": {
    "scrolled": true
   },
   "outputs": [
    {
     "name": "stderr",
     "output_type": "stream",
     "text": [
      "/Users/joshuagoldberg/anaconda3/lib/python3.6/site-packages/ipykernel_launcher.py:1: SettingWithCopyWarning: \n",
      "A value is trying to be set on a copy of a slice from a DataFrame.\n",
      "Try using .loc[row_indexer,col_indexer] = value instead\n",
      "\n",
      "See the caveats in the documentation: http://pandas.pydata.org/pandas-docs/stable/indexing.html#indexing-view-versus-copy\n",
      "  \"\"\"Entry point for launching an IPython kernel.\n",
      "/Users/joshuagoldberg/anaconda3/lib/python3.6/site-packages/ipykernel_launcher.py:2: SettingWithCopyWarning: \n",
      "A value is trying to be set on a copy of a slice from a DataFrame.\n",
      "Try using .loc[row_indexer,col_indexer] = value instead\n",
      "\n",
      "See the caveats in the documentation: http://pandas.pydata.org/pandas-docs/stable/indexing.html#indexing-view-versus-copy\n",
      "  \n",
      "/Users/joshuagoldberg/anaconda3/lib/python3.6/site-packages/ipykernel_launcher.py:5: SettingWithCopyWarning: \n",
      "A value is trying to be set on a copy of a slice from a DataFrame.\n",
      "Try using .loc[row_indexer,col_indexer] = value instead\n",
      "\n",
      "See the caveats in the documentation: http://pandas.pydata.org/pandas-docs/stable/indexing.html#indexing-view-versus-copy\n",
      "  \"\"\"\n",
      "/Users/joshuagoldberg/anaconda3/lib/python3.6/site-packages/ipykernel_launcher.py:6: SettingWithCopyWarning: \n",
      "A value is trying to be set on a copy of a slice from a DataFrame.\n",
      "Try using .loc[row_indexer,col_indexer] = value instead\n",
      "\n",
      "See the caveats in the documentation: http://pandas.pydata.org/pandas-docs/stable/indexing.html#indexing-view-versus-copy\n",
      "  \n"
     ]
    }
   ],
   "source": [
    "train_data['u_unique'] = train_data['user_id'].map(train_data_user2idx)\n",
    "train_data['b_unique'] = train_data['unique_isbn'].map(train_data_book2idx)\n",
    "\n",
    "### TESTING SET\n",
    "test_data['u_unique'] = test_data['user_id'].map(test_data_user2idx)\n",
    "test_data['b_unique'] = test_data['unique_isbn'].map(test_data_book2idx)\n",
    "\n"
   ]
  },
  {
   "cell_type": "code",
   "execution_count": 51,
   "metadata": {},
   "outputs": [],
   "source": [
    "### Convert back to 3-column df\n",
    "train_data_new = train_data[['u_unique', 'b_unique', 'book_rating']]\n",
    "test_data_new = test_data[['u_unique', 'b_unique', 'book_rating']]"
   ]
  },
  {
   "cell_type": "code",
   "execution_count": 52,
   "metadata": {},
   "outputs": [],
   "source": [
    "for entry in train_data_new.itertuples(): # entry[1] is the user-id, entry[2] is the book-isbn\n",
    "    train_matrix[entry[1]-1, entry[2]-1] = entry[3] # -1 is to counter 0-based indexing"
   ]
  },
  {
   "cell_type": "code",
   "execution_count": 53,
   "metadata": {},
   "outputs": [
    {
     "data": {
      "text/plain": [
       "array([[9., 0., 0., ..., 0., 0., 0.],\n",
       "       [0., 8., 0., ..., 0., 0., 0.],\n",
       "       [0., 0., 7., ..., 0., 0., 0.],\n",
       "       ...,\n",
       "       [0., 0., 0., ..., 0., 0., 0.],\n",
       "       [0., 0., 0., ..., 0., 0., 0.],\n",
       "       [0., 0., 0., ..., 0., 0., 7.]])"
      ]
     },
     "execution_count": 53,
     "metadata": {},
     "output_type": "execute_result"
    }
   ],
   "source": [
    "train_matrix"
   ]
  },
  {
   "cell_type": "code",
   "execution_count": 54,
   "metadata": {},
   "outputs": [],
   "source": [
    "#Calculating cosine similarity\n",
    "from sklearn.metrics.pairwise import pairwise_distances\n",
    "user_similarity = pairwise_distances(train_matrix, metric='cosine')\n",
    "item_similarity = pairwise_distances(train_matrix.T, metric='cosine') # .T transposes the matrix (NumPy)"
   ]
  },
  {
   "cell_type": "code",
   "execution_count": 55,
   "metadata": {},
   "outputs": [],
   "source": [
    "def predict(ratings, similarity, type='user'): # default type is 'user'\n",
    "    if type == 'user':\n",
    "        mean_user_rating = ratings.mean(axis=1)\n",
    "        # Use np.newaxis so that mean_user_rating has the same format as ratings\n",
    "        ratings_diff = (ratings - mean_user_rating[:, np.newaxis])\n",
    "        pred = mean_user_rating[:, np.newaxis] + similarity.dot(ratings_diff) / np.array([np.abs(similarity).sum(axis=1)]).T\n",
    "    elif type == 'item':\n",
    "        pred = ratings.dot(similarity) / np.array([np.abs(similarity).sum(axis=1)])\n",
    "    return pred"
   ]
  },
  {
   "cell_type": "code",
   "execution_count": 56,
   "metadata": {},
   "outputs": [],
   "source": [
    "#predicts ratings for every book and every user\n",
    "item_prediction = predict(train_matrix, item_similarity, type='item')\n",
    "user_prediction = predict(train_matrix, user_similarity, type='user')"
   ]
  },
  {
   "cell_type": "code",
   "execution_count": 57,
   "metadata": {},
   "outputs": [],
   "source": [
    "#function to get top ten recommendations for a given user id based on user similarity scores\n",
    "def predict_user(user_id, user_prediction, books_users_ratings):\n",
    "    uniqueuser = train_data_user2idx[user_id]\n",
    "    ranks = pd.DataFrame(user_prediction[uniqueuser])\n",
    "    ranks['uniquebook'] = [i for i,o in enumerate(ranks[0])]\n",
    "    ranks.columns = ['rating', 'uniquebook']\n",
    "    ranks= ranks.sort_values(by=['rating'],ascending=False)\n",
    "    isbn = []\n",
    "    for i,v in enumerate(ranks.uniquebook):\n",
    "        for key, value in train_data_book2idx.items():\n",
    "            if v == value:\n",
    "                isbn.append(key)\n",
    "    ranks['unique_isbn'] = isbn\n",
    "    ranks['rated'] = [1 if x in reduced_books_users_ratings[reduced_books_users_ratings.user_id == user_id].unique_isbn.tolist() else 0 for x in ranks.unique_isbn]\n",
    "    ranks = ranks[ranks.rated==0]\n",
    "    ranks=ranks.head(10)\n",
    "    recommendations = [books_users_ratings[books_users_ratings.unique_isbn==x].book_title.tolist()[1] for x in ranks.unique_isbn]\n",
    "    ranks['titles'] =recommendations\n",
    "    print(ranks)"
   ]
  },
  {
   "cell_type": "code",
   "execution_count": 58,
   "metadata": {},
   "outputs": [
    {
     "name": "stdout",
     "output_type": "stream",
     "text": [
      "       rating  uniquebook unique_isbn  rated  \\\n",
      "72   0.221426          72  0380750872      0   \n",
      "45   0.191304          45  0060507845      0   \n",
      "395  0.146723         395  0679876154      0   \n",
      "337  0.136522         337  0060932759      0   \n",
      "109  0.135965         109  0553102338      0   \n",
      "348  0.124843         348  0312990456      0   \n",
      "2    0.123481           2  0671034006      0   \n",
      "448  0.123304         448  0374525188      0   \n",
      "121  0.121687         121  0060930934      0   \n",
      "674  0.119397         674  0679737383      0   \n",
      "\n",
      "                                         titles  \n",
      "72                                  secret fire  \n",
      "45        a promising man (and about time, too)  \n",
      "395                            the tin princess  \n",
      "337                         daughter of fortune  \n",
      "109                          walking to mercury  \n",
      "348  one for the money (a stephanie plum novel)  \n",
      "2                                  heartbreaker  \n",
      "448                                housekeeping  \n",
      "121   wasted : a memoir of anorexia and bulimia  \n",
      "674                           anywhere but here  \n"
     ]
    }
   ],
   "source": [
    "#example prediction of ten books for a given user based on user similarity scores\n",
    "predict_user(161882,user_prediction,books_users_ratings)"
   ]
  },
  {
   "cell_type": "code",
   "execution_count": 65,
   "metadata": {},
   "outputs": [],
   "source": [
    "#function to get top ten recommendations for a given user id based on item similarity scores\n",
    "def predict_user(user_id, item_prediction, books_users_ratings):\n",
    "    uniqueuser = train_data_user2idx[user_id]\n",
    "    ranks = pd.DataFrame(item_prediction[uniqueuser])\n",
    "    ranks['uniquebook'] = [i for i,o in enumerate(ranks[0])]\n",
    "    ranks.columns = ['rating', 'uniquebook']\n",
    "    ranks= ranks.sort_values(by=['rating'],ascending=False)\n",
    "    isbn = []\n",
    "    for i,v in enumerate(ranks.uniquebook):\n",
    "        for key, value in train_data_book2idx.items():\n",
    "            if v == value:\n",
    "                isbn.append(key)\n",
    "    ranks['unique_isbn'] = isbn\n",
    "    ranks['rated'] = [1 if x in reduced_books_users_ratings[reduced_books_users_ratings.user_id == user_id].unique_isbn.tolist() else 0 for x in ranks.unique_isbn]\n",
    "    ranks = ranks[ranks.rated==0]\n",
    "    ranks=ranks.head(10)\n",
    "    recommendations = [books_users_ratings[books_users_ratings.unique_isbn==x].book_title.tolist()[1] for x in ranks.unique_isbn]\n",
    "    ranks['titles'] =recommendations\n",
    "    return(ranks)"
   ]
  },
  {
   "cell_type": "code",
   "execution_count": 66,
   "metadata": {},
   "outputs": [
    {
     "data": {
      "text/html": [
       "<div>\n",
       "<style scoped>\n",
       "    .dataframe tbody tr th:only-of-type {\n",
       "        vertical-align: middle;\n",
       "    }\n",
       "\n",
       "    .dataframe tbody tr th {\n",
       "        vertical-align: top;\n",
       "    }\n",
       "\n",
       "    .dataframe thead th {\n",
       "        text-align: right;\n",
       "    }\n",
       "</style>\n",
       "<table border=\"1\" class=\"dataframe\">\n",
       "  <thead>\n",
       "    <tr style=\"text-align: right;\">\n",
       "      <th></th>\n",
       "      <th>rating</th>\n",
       "      <th>uniquebook</th>\n",
       "      <th>unique_isbn</th>\n",
       "      <th>rated</th>\n",
       "      <th>titles</th>\n",
       "    </tr>\n",
       "  </thead>\n",
       "  <tbody>\n",
       "    <tr>\n",
       "      <th>4996</th>\n",
       "      <td>0.013782</td>\n",
       "      <td>4996</td>\n",
       "      <td>0446600709</td>\n",
       "      <td>0</td>\n",
       "      <td>assumed identity</td>\n",
       "    </tr>\n",
       "    <tr>\n",
       "      <th>4955</th>\n",
       "      <td>0.013782</td>\n",
       "      <td>4955</td>\n",
       "      <td>0449002985</td>\n",
       "      <td>0</td>\n",
       "      <td>your oasis on flame lake (ballantine reader's ...</td>\n",
       "    </tr>\n",
       "    <tr>\n",
       "      <th>5143</th>\n",
       "      <td>0.013782</td>\n",
       "      <td>5143</td>\n",
       "      <td>0449148246</td>\n",
       "      <td>0</td>\n",
       "      <td>day of atonement (peter decker &amp;amp; rina laza...</td>\n",
       "    </tr>\n",
       "    <tr>\n",
       "      <th>5036</th>\n",
       "      <td>0.013782</td>\n",
       "      <td>5036</td>\n",
       "      <td>0380698439</td>\n",
       "      <td>0</td>\n",
       "      <td>behind the attic wall (avon camelot books (pap...</td>\n",
       "    </tr>\n",
       "    <tr>\n",
       "      <th>4016</th>\n",
       "      <td>0.013782</td>\n",
       "      <td>4016</td>\n",
       "      <td>0440237424</td>\n",
       "      <td>0</td>\n",
       "      <td>the best revenge</td>\n",
       "    </tr>\n",
       "    <tr>\n",
       "      <th>5089</th>\n",
       "      <td>0.013782</td>\n",
       "      <td>5089</td>\n",
       "      <td>038549744X</td>\n",
       "      <td>0</td>\n",
       "      <td>english passengers</td>\n",
       "    </tr>\n",
       "    <tr>\n",
       "      <th>4950</th>\n",
       "      <td>0.013632</td>\n",
       "      <td>4950</td>\n",
       "      <td>0963270702</td>\n",
       "      <td>0</td>\n",
       "      <td>the satanic verses</td>\n",
       "    </tr>\n",
       "    <tr>\n",
       "      <th>4406</th>\n",
       "      <td>0.013603</td>\n",
       "      <td>4406</td>\n",
       "      <td>0345334302</td>\n",
       "      <td>0</td>\n",
       "      <td>ringworld engineers</td>\n",
       "    </tr>\n",
       "    <tr>\n",
       "      <th>5043</th>\n",
       "      <td>0.013595</td>\n",
       "      <td>5043</td>\n",
       "      <td>0553278398</td>\n",
       "      <td>0</td>\n",
       "      <td>prelude to foundation (foundation novels (pape...</td>\n",
       "    </tr>\n",
       "    <tr>\n",
       "      <th>793</th>\n",
       "      <td>0.013582</td>\n",
       "      <td>793</td>\n",
       "      <td>0786863218</td>\n",
       "      <td>0</td>\n",
       "      <td>don't worry, make money: spiritual and practic...</td>\n",
       "    </tr>\n",
       "  </tbody>\n",
       "</table>\n",
       "</div>"
      ],
      "text/plain": [
       "        rating  uniquebook unique_isbn  rated  \\\n",
       "4996  0.013782        4996  0446600709      0   \n",
       "4955  0.013782        4955  0449002985      0   \n",
       "5143  0.013782        5143  0449148246      0   \n",
       "5036  0.013782        5036  0380698439      0   \n",
       "4016  0.013782        4016  0440237424      0   \n",
       "5089  0.013782        5089  038549744X      0   \n",
       "4950  0.013632        4950  0963270702      0   \n",
       "4406  0.013603        4406  0345334302      0   \n",
       "5043  0.013595        5043  0553278398      0   \n",
       "793   0.013582         793  0786863218      0   \n",
       "\n",
       "                                                 titles  \n",
       "4996                                   assumed identity  \n",
       "4955  your oasis on flame lake (ballantine reader's ...  \n",
       "5143  day of atonement (peter decker &amp; rina laza...  \n",
       "5036  behind the attic wall (avon camelot books (pap...  \n",
       "4016                                   the best revenge  \n",
       "5089                                 english passengers  \n",
       "4950                                 the satanic verses  \n",
       "4406                                ringworld engineers  \n",
       "5043  prelude to foundation (foundation novels (pape...  \n",
       "793   don't worry, make money: spiritual and practic...  "
      ]
     },
     "execution_count": 66,
     "metadata": {},
     "output_type": "execute_result"
    }
   ],
   "source": [
    "#example prediction of ten books for a given user based on item similarity scores\n",
    "predict_user(161882,item_prediction,books_users_ratings)"
   ]
  },
  {
   "cell_type": "code",
   "execution_count": 61,
   "metadata": {},
   "outputs": [],
   "source": [
    "### Testing the prediction methods bases on rmse\n",
    "# Create user-item matrices\n",
    "n_users = test_data['u_unique'].nunique()\n",
    "n_books = test_data['b_unique'].nunique()\n",
    "\n",
    "# First, create an empty matrix of size USERS x BOOKS (this speeds up the later steps)\n",
    "test_matrix = np.zeros((n_users, n_books))\n"
   ]
  },
  {
   "cell_type": "code",
   "execution_count": 62,
   "metadata": {},
   "outputs": [
    {
     "data": {
      "text/html": [
       "<div>\n",
       "<style scoped>\n",
       "    .dataframe tbody tr th:only-of-type {\n",
       "        vertical-align: middle;\n",
       "    }\n",
       "\n",
       "    .dataframe tbody tr th {\n",
       "        vertical-align: top;\n",
       "    }\n",
       "\n",
       "    .dataframe thead th {\n",
       "        text-align: right;\n",
       "    }\n",
       "</style>\n",
       "<table border=\"1\" class=\"dataframe\">\n",
       "  <thead>\n",
       "    <tr style=\"text-align: right;\">\n",
       "      <th></th>\n",
       "      <th>user_id</th>\n",
       "      <th>unique_isbn</th>\n",
       "      <th>book_rating</th>\n",
       "      <th>u_unique</th>\n",
       "      <th>b_unique</th>\n",
       "    </tr>\n",
       "  </thead>\n",
       "  <tbody>\n",
       "    <tr>\n",
       "      <th>122598</th>\n",
       "      <td>80375</td>\n",
       "      <td>0312978367</td>\n",
       "      <td>8</td>\n",
       "      <td>0</td>\n",
       "      <td>0</td>\n",
       "    </tr>\n",
       "    <tr>\n",
       "      <th>75414</th>\n",
       "      <td>93046</td>\n",
       "      <td>0345392825</td>\n",
       "      <td>10</td>\n",
       "      <td>1</td>\n",
       "      <td>1</td>\n",
       "    </tr>\n",
       "    <tr>\n",
       "      <th>5210</th>\n",
       "      <td>64310</td>\n",
       "      <td>0451191706</td>\n",
       "      <td>9</td>\n",
       "      <td>2</td>\n",
       "      <td>2</td>\n",
       "    </tr>\n",
       "    <tr>\n",
       "      <th>94819</th>\n",
       "      <td>274466</td>\n",
       "      <td>0140186409</td>\n",
       "      <td>10</td>\n",
       "      <td>3</td>\n",
       "      <td>3</td>\n",
       "    </tr>\n",
       "    <tr>\n",
       "      <th>49026</th>\n",
       "      <td>105374</td>\n",
       "      <td>0679721037</td>\n",
       "      <td>8</td>\n",
       "      <td>4</td>\n",
       "      <td>4</td>\n",
       "    </tr>\n",
       "  </tbody>\n",
       "</table>\n",
       "</div>"
      ],
      "text/plain": [
       "        user_id unique_isbn  book_rating  u_unique  b_unique\n",
       "122598    80375  0312978367            8         0         0\n",
       "75414     93046  0345392825           10         1         1\n",
       "5210      64310  0451191706            9         2         2\n",
       "94819    274466  0140186409           10         3         3\n",
       "49026    105374  0679721037            8         4         4"
      ]
     },
     "execution_count": 62,
     "metadata": {},
     "output_type": "execute_result"
    }
   ],
   "source": [
    "test_data.head()"
   ]
  },
  {
   "cell_type": "code",
   "execution_count": 63,
   "metadata": {},
   "outputs": [],
   "source": [
    "\n",
    "# Then, add the appropriate vals to the matrix by extracting them from the df with itertuples\n",
    "for entry in test_data_new.itertuples(): # entry[1] is the user-id, entry[2] is the book-isbn\n",
    "    test_matrix[entry[1]-1, entry[2]-1] = entry[3] # -1 is to counter 0-based indexing"
   ]
  },
  {
   "cell_type": "code",
   "execution_count": 64,
   "metadata": {},
   "outputs": [
    {
     "name": "stdout",
     "output_type": "stream",
     "text": [
      "User-based CF RMSE: 7.978908822282232\n",
      "Item-based CF RMSE: 7.981911499040296\n"
     ]
    }
   ],
   "source": [
    "from sklearn.metrics import mean_squared_error\n",
    "from math import sqrt\n",
    "\n",
    "def rmse(prediction, test_matrix):\n",
    "    prediction = prediction[test_matrix.nonzero()].flatten()\n",
    "    test_matrix = test_matrix[test_matrix.nonzero()].flatten()\n",
    "    return sqrt(mean_squared_error(prediction, test_matrix))\n",
    "\n",
    "# Call on test set to get error from each approach ('user' or 'item')\n",
    "print(f'User-based CF RMSE: {rmse(user_prediction, test_matrix)}')\n",
    "print(f'Item-based CF RMSE: {rmse(item_prediction, test_matrix)}')"
   ]
  },
  {
   "cell_type": "code",
   "execution_count": null,
   "metadata": {},
   "outputs": [],
   "source": []
  }
 ],
 "metadata": {
  "kernelspec": {
   "display_name": "Python 3",
   "language": "python",
   "name": "python3"
  },
  "language_info": {
   "codemirror_mode": {
    "name": "ipython",
    "version": 3
   },
   "file_extension": ".py",
   "mimetype": "text/x-python",
   "name": "python",
   "nbconvert_exporter": "python",
   "pygments_lexer": "ipython3",
   "version": "3.6.7"
  },
  "latex_envs": {
   "LaTeX_envs_menu_present": true,
   "autoclose": false,
   "autocomplete": true,
   "bibliofile": "biblio.bib",
   "cite_by": "apalike",
   "current_citInitial": 1,
   "eqLabelWithNumbers": true,
   "eqNumInitial": 1,
   "hotkeys": {
    "equation": "Ctrl-E",
    "itemize": "Ctrl-I"
   },
   "labels_anchors": false,
   "latex_user_defs": false,
   "report_style_numbering": false,
   "user_envs_cfg": false
  },
  "varInspector": {
   "cols": {
    "lenName": 16,
    "lenType": 16,
    "lenVar": 40
   },
   "kernels_config": {
    "python": {
     "delete_cmd_postfix": "",
     "delete_cmd_prefix": "del ",
     "library": "var_list.py",
     "varRefreshCmd": "print(var_dic_list())"
    },
    "r": {
     "delete_cmd_postfix": ") ",
     "delete_cmd_prefix": "rm(",
     "library": "var_list.r",
     "varRefreshCmd": "cat(var_dic_list()) "
    }
   },
   "oldHeight": 115.99999487400055,
   "position": {
    "height": "40px",
    "left": "725px",
    "right": "45px",
    "top": "105px",
    "width": "350px"
   },
   "types_to_exclude": [
    "module",
    "function",
    "builtin_function_or_method",
    "instance",
    "_Feature"
   ],
   "varInspector_section_display": "none",
   "window_display": true
  }
 },
 "nbformat": 4,
 "nbformat_minor": 2
}
