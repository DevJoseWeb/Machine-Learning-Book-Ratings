{
 "cells": [
  {
   "cell_type": "code",
   "execution_count": 2,
   "metadata": {},
   "outputs": [
    {
     "data": {
      "text/html": [
       "<div>\n",
       "<style scoped>\n",
       "    .dataframe tbody tr th:only-of-type {\n",
       "        vertical-align: middle;\n",
       "    }\n",
       "\n",
       "    .dataframe tbody tr th {\n",
       "        vertical-align: top;\n",
       "    }\n",
       "\n",
       "    .dataframe thead th {\n",
       "        text-align: right;\n",
       "    }\n",
       "</style>\n",
       "<table border=\"1\" class=\"dataframe\">\n",
       "  <thead>\n",
       "    <tr style=\"text-align: right;\">\n",
       "      <th></th>\n",
       "      <th>isbn</th>\n",
       "      <th>book_rating</th>\n",
       "      <th>book_title</th>\n",
       "      <th>book_author</th>\n",
       "      <th>year_of_publication</th>\n",
       "      <th>publisher</th>\n",
       "      <th>unique_isbn</th>\n",
       "      <th>age</th>\n",
       "      <th>city</th>\n",
       "      <th>state</th>\n",
       "      <th>country</th>\n",
       "      <th>dropornot</th>\n",
       "      <th>dropuser</th>\n",
       "    </tr>\n",
       "    <tr>\n",
       "      <th>user_id</th>\n",
       "      <th></th>\n",
       "      <th></th>\n",
       "      <th></th>\n",
       "      <th></th>\n",
       "      <th></th>\n",
       "      <th></th>\n",
       "      <th></th>\n",
       "      <th></th>\n",
       "      <th></th>\n",
       "      <th></th>\n",
       "      <th></th>\n",
       "      <th></th>\n",
       "      <th></th>\n",
       "    </tr>\n",
       "  </thead>\n",
       "  <tbody>\n",
       "    <tr>\n",
       "      <th>11676</th>\n",
       "      <td>038550120X</td>\n",
       "      <td>10</td>\n",
       "      <td>A Painted House</td>\n",
       "      <td>JOHN GRISHAM</td>\n",
       "      <td>2001.0</td>\n",
       "      <td>Doubleday</td>\n",
       "      <td>038550120X</td>\n",
       "      <td>34.786876</td>\n",
       "      <td>NaN</td>\n",
       "      <td>n/a</td>\n",
       "      <td>n/a</td>\n",
       "      <td>False</td>\n",
       "      <td>False</td>\n",
       "    </tr>\n",
       "    <tr>\n",
       "      <th>11676</th>\n",
       "      <td>0671537458</td>\n",
       "      <td>8</td>\n",
       "      <td>Waiting to Exhale</td>\n",
       "      <td>Terry McMillan</td>\n",
       "      <td>1995.0</td>\n",
       "      <td>Pocket</td>\n",
       "      <td>0671537458</td>\n",
       "      <td>34.786876</td>\n",
       "      <td>NaN</td>\n",
       "      <td>n/a</td>\n",
       "      <td>n/a</td>\n",
       "      <td>False</td>\n",
       "      <td>False</td>\n",
       "    </tr>\n",
       "  </tbody>\n",
       "</table>\n",
       "</div>"
      ],
      "text/plain": [
       "               isbn  book_rating         book_title     book_author  \\\n",
       "user_id                                                               \n",
       "11676    038550120X           10    A Painted House    JOHN GRISHAM   \n",
       "11676    0671537458            8  Waiting to Exhale  Terry McMillan   \n",
       "\n",
       "         year_of_publication  publisher unique_isbn        age city state  \\\n",
       "user_id                                                                     \n",
       "11676                 2001.0  Doubleday  038550120X  34.786876  NaN   n/a   \n",
       "11676                 1995.0     Pocket  0671537458  34.786876  NaN   n/a   \n",
       "\n",
       "        country  dropornot  dropuser  \n",
       "user_id                               \n",
       "11676       n/a      False     False  \n",
       "11676       n/a      False     False  "
      ]
     },
     "execution_count": 2,
     "metadata": {},
     "output_type": "execute_result"
    }
   ],
   "source": [
    "# Import the datasets\n",
    "import pandas as pd\n",
    "import numpy as np\n",
    "import matplotlib.pyplot as plt\n",
    "from matplotlib.colors import ListedColormap\n",
    "\n",
    "url = 'https://raw.githubusercontent.com/GoldbergData/Machine-Learning-Book-Ratings/master/data/clean/reduced_books_users_ratings.csv'\n",
    "reduced = pd.read_csv(url,index_col=0,parse_dates=[0])\n",
    "reduced = pd.DataFrame(reduced)\n",
    "reduced.head(2)"
   ]
  },
  {
   "cell_type": "code",
   "execution_count": 3,
   "metadata": {},
   "outputs": [
    {
     "ename": "KeyError",
     "evalue": "\"['Unnamed: 0.1'] not found in axis\"",
     "output_type": "error",
     "traceback": [
      "\u001b[0;31m---------------------------------------------------------------------------\u001b[0m",
      "\u001b[0;31mKeyError\u001b[0m                                  Traceback (most recent call last)",
      "\u001b[0;32m<ipython-input-3-7509c855fe76>\u001b[0m in \u001b[0;36m<module>\u001b[0;34m()\u001b[0m\n\u001b[1;32m      1\u001b[0m \u001b[0;31m# Clean the data\u001b[0m\u001b[0;34m\u001b[0m\u001b[0;34m\u001b[0m\u001b[0m\n\u001b[0;32m----> 2\u001b[0;31m \u001b[0mreduced\u001b[0m \u001b[0;34m=\u001b[0m \u001b[0mreduced\u001b[0m\u001b[0;34m.\u001b[0m\u001b[0mdrop\u001b[0m\u001b[0;34m(\u001b[0m\u001b[0mcolumns\u001b[0m \u001b[0;34m=\u001b[0m\u001b[0;34m[\u001b[0m\u001b[0;34m'Unnamed: 0.1'\u001b[0m\u001b[0;34m]\u001b[0m\u001b[0;34m)\u001b[0m\u001b[0;34m\u001b[0m\u001b[0m\n\u001b[0m\u001b[1;32m      3\u001b[0m \u001b[0mreduced\u001b[0m \u001b[0;34m=\u001b[0m \u001b[0mreduced\u001b[0m\u001b[0;34m.\u001b[0m\u001b[0mdrop\u001b[0m\u001b[0;34m(\u001b[0m\u001b[0mcolumns\u001b[0m \u001b[0;34m=\u001b[0m\u001b[0;34m[\u001b[0m\u001b[0;34m'Unnamed: 0.1.1'\u001b[0m\u001b[0;34m]\u001b[0m\u001b[0;34m)\u001b[0m\u001b[0;34m\u001b[0m\u001b[0m\n\u001b[1;32m      4\u001b[0m \u001b[0mreduced\u001b[0m\u001b[0;34m.\u001b[0m\u001b[0mhead\u001b[0m\u001b[0;34m(\u001b[0m\u001b[0;36m2\u001b[0m\u001b[0;34m)\u001b[0m\u001b[0;34m\u001b[0m\u001b[0m\n",
      "\u001b[0;32m/anaconda/lib/python3.6/site-packages/pandas/core/frame.py\u001b[0m in \u001b[0;36mdrop\u001b[0;34m(self, labels, axis, index, columns, level, inplace, errors)\u001b[0m\n\u001b[1;32m   3695\u001b[0m                                            \u001b[0mindex\u001b[0m\u001b[0;34m=\u001b[0m\u001b[0mindex\u001b[0m\u001b[0;34m,\u001b[0m \u001b[0mcolumns\u001b[0m\u001b[0;34m=\u001b[0m\u001b[0mcolumns\u001b[0m\u001b[0;34m,\u001b[0m\u001b[0;34m\u001b[0m\u001b[0m\n\u001b[1;32m   3696\u001b[0m                                            \u001b[0mlevel\u001b[0m\u001b[0;34m=\u001b[0m\u001b[0mlevel\u001b[0m\u001b[0;34m,\u001b[0m \u001b[0minplace\u001b[0m\u001b[0;34m=\u001b[0m\u001b[0minplace\u001b[0m\u001b[0;34m,\u001b[0m\u001b[0;34m\u001b[0m\u001b[0m\n\u001b[0;32m-> 3697\u001b[0;31m                                            errors=errors)\n\u001b[0m\u001b[1;32m   3698\u001b[0m \u001b[0;34m\u001b[0m\u001b[0m\n\u001b[1;32m   3699\u001b[0m     @rewrite_axis_style_signature('mapper', [('copy', True),\n",
      "\u001b[0;32m/anaconda/lib/python3.6/site-packages/pandas/core/generic.py\u001b[0m in \u001b[0;36mdrop\u001b[0;34m(self, labels, axis, index, columns, level, inplace, errors)\u001b[0m\n\u001b[1;32m   3109\u001b[0m         \u001b[0;32mfor\u001b[0m \u001b[0maxis\u001b[0m\u001b[0;34m,\u001b[0m \u001b[0mlabels\u001b[0m \u001b[0;32min\u001b[0m \u001b[0maxes\u001b[0m\u001b[0;34m.\u001b[0m\u001b[0mitems\u001b[0m\u001b[0;34m(\u001b[0m\u001b[0;34m)\u001b[0m\u001b[0;34m:\u001b[0m\u001b[0;34m\u001b[0m\u001b[0m\n\u001b[1;32m   3110\u001b[0m             \u001b[0;32mif\u001b[0m \u001b[0mlabels\u001b[0m \u001b[0;32mis\u001b[0m \u001b[0;32mnot\u001b[0m \u001b[0;32mNone\u001b[0m\u001b[0;34m:\u001b[0m\u001b[0;34m\u001b[0m\u001b[0m\n\u001b[0;32m-> 3111\u001b[0;31m                 \u001b[0mobj\u001b[0m \u001b[0;34m=\u001b[0m \u001b[0mobj\u001b[0m\u001b[0;34m.\u001b[0m\u001b[0m_drop_axis\u001b[0m\u001b[0;34m(\u001b[0m\u001b[0mlabels\u001b[0m\u001b[0;34m,\u001b[0m \u001b[0maxis\u001b[0m\u001b[0;34m,\u001b[0m \u001b[0mlevel\u001b[0m\u001b[0;34m=\u001b[0m\u001b[0mlevel\u001b[0m\u001b[0;34m,\u001b[0m \u001b[0merrors\u001b[0m\u001b[0;34m=\u001b[0m\u001b[0merrors\u001b[0m\u001b[0;34m)\u001b[0m\u001b[0;34m\u001b[0m\u001b[0m\n\u001b[0m\u001b[1;32m   3112\u001b[0m \u001b[0;34m\u001b[0m\u001b[0m\n\u001b[1;32m   3113\u001b[0m         \u001b[0;32mif\u001b[0m \u001b[0minplace\u001b[0m\u001b[0;34m:\u001b[0m\u001b[0;34m\u001b[0m\u001b[0m\n",
      "\u001b[0;32m/anaconda/lib/python3.6/site-packages/pandas/core/generic.py\u001b[0m in \u001b[0;36m_drop_axis\u001b[0;34m(self, labels, axis, level, errors)\u001b[0m\n\u001b[1;32m   3141\u001b[0m                 \u001b[0mnew_axis\u001b[0m \u001b[0;34m=\u001b[0m \u001b[0maxis\u001b[0m\u001b[0;34m.\u001b[0m\u001b[0mdrop\u001b[0m\u001b[0;34m(\u001b[0m\u001b[0mlabels\u001b[0m\u001b[0;34m,\u001b[0m \u001b[0mlevel\u001b[0m\u001b[0;34m=\u001b[0m\u001b[0mlevel\u001b[0m\u001b[0;34m,\u001b[0m \u001b[0merrors\u001b[0m\u001b[0;34m=\u001b[0m\u001b[0merrors\u001b[0m\u001b[0;34m)\u001b[0m\u001b[0;34m\u001b[0m\u001b[0m\n\u001b[1;32m   3142\u001b[0m             \u001b[0;32melse\u001b[0m\u001b[0;34m:\u001b[0m\u001b[0;34m\u001b[0m\u001b[0m\n\u001b[0;32m-> 3143\u001b[0;31m                 \u001b[0mnew_axis\u001b[0m \u001b[0;34m=\u001b[0m \u001b[0maxis\u001b[0m\u001b[0;34m.\u001b[0m\u001b[0mdrop\u001b[0m\u001b[0;34m(\u001b[0m\u001b[0mlabels\u001b[0m\u001b[0;34m,\u001b[0m \u001b[0merrors\u001b[0m\u001b[0;34m=\u001b[0m\u001b[0merrors\u001b[0m\u001b[0;34m)\u001b[0m\u001b[0;34m\u001b[0m\u001b[0m\n\u001b[0m\u001b[1;32m   3144\u001b[0m             \u001b[0mresult\u001b[0m \u001b[0;34m=\u001b[0m \u001b[0mself\u001b[0m\u001b[0;34m.\u001b[0m\u001b[0mreindex\u001b[0m\u001b[0;34m(\u001b[0m\u001b[0;34m**\u001b[0m\u001b[0;34m{\u001b[0m\u001b[0maxis_name\u001b[0m\u001b[0;34m:\u001b[0m \u001b[0mnew_axis\u001b[0m\u001b[0;34m}\u001b[0m\u001b[0;34m)\u001b[0m\u001b[0;34m\u001b[0m\u001b[0m\n\u001b[1;32m   3145\u001b[0m \u001b[0;34m\u001b[0m\u001b[0m\n",
      "\u001b[0;32m/anaconda/lib/python3.6/site-packages/pandas/core/indexes/base.py\u001b[0m in \u001b[0;36mdrop\u001b[0;34m(self, labels, errors)\u001b[0m\n\u001b[1;32m   4402\u001b[0m             \u001b[0;32mif\u001b[0m \u001b[0merrors\u001b[0m \u001b[0;34m!=\u001b[0m \u001b[0;34m'ignore'\u001b[0m\u001b[0;34m:\u001b[0m\u001b[0;34m\u001b[0m\u001b[0m\n\u001b[1;32m   4403\u001b[0m                 raise KeyError(\n\u001b[0;32m-> 4404\u001b[0;31m                     '{} not found in axis'.format(labels[mask]))\n\u001b[0m\u001b[1;32m   4405\u001b[0m             \u001b[0mindexer\u001b[0m \u001b[0;34m=\u001b[0m \u001b[0mindexer\u001b[0m\u001b[0;34m[\u001b[0m\u001b[0;34m~\u001b[0m\u001b[0mmask\u001b[0m\u001b[0;34m]\u001b[0m\u001b[0;34m\u001b[0m\u001b[0m\n\u001b[1;32m   4406\u001b[0m         \u001b[0;32mreturn\u001b[0m \u001b[0mself\u001b[0m\u001b[0;34m.\u001b[0m\u001b[0mdelete\u001b[0m\u001b[0;34m(\u001b[0m\u001b[0mindexer\u001b[0m\u001b[0;34m)\u001b[0m\u001b[0;34m\u001b[0m\u001b[0m\n",
      "\u001b[0;31mKeyError\u001b[0m: \"['Unnamed: 0.1'] not found in axis\""
     ]
    }
   ],
   "source": [
    "# Clean the data\n",
    "reduced = reduced.drop(columns =['Unnamed: 0.1'])\n",
    "reduced = reduced.drop(columns =['Unnamed: 0.1.1'])\n",
    "reduced.head(2)"
   ]
  },
  {
   "cell_type": "code",
   "execution_count": null,
   "metadata": {},
   "outputs": [],
   "source": [
    "# Map unique IBSNs onto book titles\n",
    "predct = dict(zip(reduced.unique_isbn.unique(), reduced.book_title.unique()))   "
   ]
  },
  {
   "cell_type": "markdown",
   "metadata": {},
   "source": [
    "#### Basic EDA"
   ]
  },
  {
   "cell_type": "code",
   "execution_count": null,
   "metadata": {},
   "outputs": [],
   "source": [
    "# Check how many entries per book title\n",
    "\n",
    "#reduced['book_title'].value_counts()"
   ]
  },
  {
   "cell_type": "code",
   "execution_count": 6,
   "metadata": {},
   "outputs": [
    {
     "data": {
      "image/png": "[encoded data removed]",
      "text/plain": [
       "<Figure size 432x288 with 1 Axes>"
      ]
     },
     "metadata": {},
     "output_type": "display_data"
    }
   ],
   "source": [
    "plt.scatter(reduced['year_of_publication'], reduced['publisher'])\n",
    "plt.show()\n",
    "# Most books are from 1990s"
   ]
  },
  {
   "cell_type": "code",
   "execution_count": 7,
   "metadata": {},
   "outputs": [
    {
     "data": {
      "image/png": "[encoded data removed]",
      "text/plain": [
       "<Figure size 432x288 with 1 Axes>"
      ]
     },
     "metadata": {},
     "output_type": "display_data"
    }
   ],
   "source": [
    "plt.scatter(reduced['age'], reduced['book_rating'])\n",
    "plt.show()"
   ]
  },
  {
   "cell_type": "code",
   "execution_count": 4,
   "metadata": {},
   "outputs": [
    {
     "data": {
      "text/html": [
       "<div>\n",
       "<style scoped>\n",
       "    .dataframe tbody tr th:only-of-type {\n",
       "        vertical-align: middle;\n",
       "    }\n",
       "\n",
       "    .dataframe tbody tr th {\n",
       "        vertical-align: top;\n",
       "    }\n",
       "\n",
       "    .dataframe thead th {\n",
       "        text-align: right;\n",
       "    }\n",
       "</style>\n",
       "<table border=\"1\" class=\"dataframe\">\n",
       "  <thead>\n",
       "    <tr style=\"text-align: right;\">\n",
       "      <th></th>\n",
       "      <th>book_title</th>\n",
       "      <th>total_rating_count</th>\n",
       "    </tr>\n",
       "  </thead>\n",
       "  <tbody>\n",
       "    <tr>\n",
       "      <th>0</th>\n",
       "      <td>'Salem's Lot</td>\n",
       "      <td>19</td>\n",
       "    </tr>\n",
       "    <tr>\n",
       "      <th>1</th>\n",
       "      <td>10 Lb. Penalty</td>\n",
       "      <td>15</td>\n",
       "    </tr>\n",
       "    <tr>\n",
       "      <th>2</th>\n",
       "      <td>100 Selected Poems by E. E. Cummings</td>\n",
       "      <td>6</td>\n",
       "    </tr>\n",
       "    <tr>\n",
       "      <th>3</th>\n",
       "      <td>101 Dalmatians</td>\n",
       "      <td>9</td>\n",
       "    </tr>\n",
       "    <tr>\n",
       "      <th>4</th>\n",
       "      <td>14,000 Things to Be Happy About</td>\n",
       "      <td>14</td>\n",
       "    </tr>\n",
       "  </tbody>\n",
       "</table>\n",
       "</div>"
      ],
      "text/plain": [
       "                             book_title  total_rating_count\n",
       "0                          'Salem's Lot                  19\n",
       "1                        10 Lb. Penalty                  15\n",
       "2  100 Selected Poems by E. E. Cummings                   6\n",
       "3                        101 Dalmatians                   9\n",
       "4       14,000 Things to Be Happy About                  14"
      ]
     },
     "execution_count": 4,
     "metadata": {},
     "output_type": "execute_result"
    }
   ],
   "source": [
    "# Group by book_title\n",
    "# Group by book titles and create a new column for total ratings count\n",
    "reduced_count = (reduced.groupby(by = ['book_title'])['book_rating'].count().reset_index().rename(columns = {'book_rating':'total_rating_count'})[['book_title','total_rating_count']])\n",
    "reduced_count.head()"
   ]
  },
  {
   "cell_type": "code",
   "execution_count": 5,
   "metadata": {},
   "outputs": [
    {
     "data": {
      "text/html": [
       "<div>\n",
       "<style scoped>\n",
       "    .dataframe tbody tr th:only-of-type {\n",
       "        vertical-align: middle;\n",
       "    }\n",
       "\n",
       "    .dataframe tbody tr th {\n",
       "        vertical-align: top;\n",
       "    }\n",
       "\n",
       "    .dataframe thead th {\n",
       "        text-align: right;\n",
       "    }\n",
       "</style>\n",
       "<table border=\"1\" class=\"dataframe\">\n",
       "  <thead>\n",
       "    <tr style=\"text-align: right;\">\n",
       "      <th></th>\n",
       "      <th>user_id</th>\n",
       "      <th>isbn</th>\n",
       "      <th>book_rating</th>\n",
       "      <th>book_title</th>\n",
       "      <th>book_author</th>\n",
       "      <th>year_of_publication</th>\n",
       "      <th>publisher</th>\n",
       "      <th>unique_isbn</th>\n",
       "      <th>age</th>\n",
       "      <th>city</th>\n",
       "      <th>state</th>\n",
       "      <th>country</th>\n",
       "      <th>dropornot</th>\n",
       "      <th>dropuser</th>\n",
       "      <th>total_rating_count</th>\n",
       "    </tr>\n",
       "  </thead>\n",
       "  <tbody>\n",
       "    <tr>\n",
       "      <th>0</th>\n",
       "      <td>11676</td>\n",
       "      <td>038550120X</td>\n",
       "      <td>10</td>\n",
       "      <td>A Painted House</td>\n",
       "      <td>JOHN GRISHAM</td>\n",
       "      <td>2001.0</td>\n",
       "      <td>Doubleday</td>\n",
       "      <td>038550120X</td>\n",
       "      <td>34.786876</td>\n",
       "      <td>NaN</td>\n",
       "      <td>n/a</td>\n",
       "      <td>n/a</td>\n",
       "      <td>False</td>\n",
       "      <td>False</td>\n",
       "      <td>242</td>\n",
       "    </tr>\n",
       "    <tr>\n",
       "      <th>1</th>\n",
       "      <td>11676</td>\n",
       "      <td>0671537458</td>\n",
       "      <td>8</td>\n",
       "      <td>Waiting to Exhale</td>\n",
       "      <td>Terry McMillan</td>\n",
       "      <td>1995.0</td>\n",
       "      <td>Pocket</td>\n",
       "      <td>0671537458</td>\n",
       "      <td>34.786876</td>\n",
       "      <td>NaN</td>\n",
       "      <td>n/a</td>\n",
       "      <td>n/a</td>\n",
       "      <td>False</td>\n",
       "      <td>False</td>\n",
       "      <td>25</td>\n",
       "    </tr>\n",
       "    <tr>\n",
       "      <th>2</th>\n",
       "      <td>11676</td>\n",
       "      <td>0679776818</td>\n",
       "      <td>8</td>\n",
       "      <td>Birdsong: A Novel of Love and War</td>\n",
       "      <td>Sebastian Faulks</td>\n",
       "      <td>1997.0</td>\n",
       "      <td>Vintage Books USA</td>\n",
       "      <td>0679776818</td>\n",
       "      <td>34.786876</td>\n",
       "      <td>NaN</td>\n",
       "      <td>n/a</td>\n",
       "      <td>n/a</td>\n",
       "      <td>False</td>\n",
       "      <td>False</td>\n",
       "      <td>15</td>\n",
       "    </tr>\n",
       "    <tr>\n",
       "      <th>3</th>\n",
       "      <td>11676</td>\n",
       "      <td>0684867621</td>\n",
       "      <td>3</td>\n",
       "      <td>The Girl Who Loved Tom Gordon : A Novel</td>\n",
       "      <td>Stephen King</td>\n",
       "      <td>1999.0</td>\n",
       "      <td>Scribner</td>\n",
       "      <td>0684867621</td>\n",
       "      <td>34.786876</td>\n",
       "      <td>NaN</td>\n",
       "      <td>n/a</td>\n",
       "      <td>n/a</td>\n",
       "      <td>False</td>\n",
       "      <td>False</td>\n",
       "      <td>46</td>\n",
       "    </tr>\n",
       "    <tr>\n",
       "      <th>4</th>\n",
       "      <td>11676</td>\n",
       "      <td>8437606322</td>\n",
       "      <td>8</td>\n",
       "      <td>Anna Karenina</td>\n",
       "      <td>Leo Tolstoy</td>\n",
       "      <td>1999.0</td>\n",
       "      <td>Ediciones Catedra S.A.</td>\n",
       "      <td>8437606322</td>\n",
       "      <td>34.786876</td>\n",
       "      <td>NaN</td>\n",
       "      <td>n/a</td>\n",
       "      <td>n/a</td>\n",
       "      <td>False</td>\n",
       "      <td>False</td>\n",
       "      <td>12</td>\n",
       "    </tr>\n",
       "  </tbody>\n",
       "</table>\n",
       "</div>"
      ],
      "text/plain": [
       "   user_id        isbn  book_rating                               book_title  \\\n",
       "0    11676  038550120X           10                          A Painted House   \n",
       "1    11676  0671537458            8                        Waiting to Exhale   \n",
       "2    11676  0679776818            8        Birdsong: A Novel of Love and War   \n",
       "3    11676  0684867621            3  The Girl Who Loved Tom Gordon : A Novel   \n",
       "4    11676  8437606322            8                            Anna Karenina   \n",
       "\n",
       "        book_author  year_of_publication               publisher unique_isbn  \\\n",
       "0      JOHN GRISHAM               2001.0               Doubleday  038550120X   \n",
       "1    Terry McMillan               1995.0                  Pocket  0671537458   \n",
       "2  Sebastian Faulks               1997.0       Vintage Books USA  0679776818   \n",
       "3      Stephen King               1999.0                Scribner  0684867621   \n",
       "4       Leo Tolstoy               1999.0  Ediciones Catedra S.A.  8437606322   \n",
       "\n",
       "         age city state country  dropornot  dropuser  total_rating_count  \n",
       "0  34.786876  NaN   n/a     n/a      False     False                 242  \n",
       "1  34.786876  NaN   n/a     n/a      False     False                  25  \n",
       "2  34.786876  NaN   n/a     n/a      False     False                  15  \n",
       "3  34.786876  NaN   n/a     n/a      False     False                  46  \n",
       "4  34.786876  NaN   n/a     n/a      False     False                  12  "
      ]
     },
     "execution_count": 5,
     "metadata": {},
     "output_type": "execute_result"
    }
   ],
   "source": [
    "# Merge the columns\n",
    "reduced_with_count = reduced.merge(reduced_count, left_on = 'book_title', right_on = 'book_title', how = 'left')\n",
    "reduced_with_count.head(5)"
   ]
  },
  {
   "cell_type": "code",
   "execution_count": 6,
   "metadata": {},
   "outputs": [
    {
     "data": {
      "text/html": [
       "<div>\n",
       "<style scoped>\n",
       "    .dataframe tbody tr th:only-of-type {\n",
       "        vertical-align: middle;\n",
       "    }\n",
       "\n",
       "    .dataframe tbody tr th {\n",
       "        vertical-align: top;\n",
       "    }\n",
       "\n",
       "    .dataframe thead th {\n",
       "        text-align: right;\n",
       "    }\n",
       "</style>\n",
       "<table border=\"1\" class=\"dataframe\">\n",
       "  <thead>\n",
       "    <tr style=\"text-align: right;\">\n",
       "      <th></th>\n",
       "      <th>user_id</th>\n",
       "      <th>book_rating</th>\n",
       "      <th>year_of_publication</th>\n",
       "      <th>unique_isbn</th>\n",
       "      <th>total_rating_count</th>\n",
       "    </tr>\n",
       "  </thead>\n",
       "  <tbody>\n",
       "    <tr>\n",
       "      <th>0</th>\n",
       "      <td>11676</td>\n",
       "      <td>10</td>\n",
       "      <td>2001.0</td>\n",
       "      <td>038550120X</td>\n",
       "      <td>242</td>\n",
       "    </tr>\n",
       "    <tr>\n",
       "      <th>1</th>\n",
       "      <td>11676</td>\n",
       "      <td>8</td>\n",
       "      <td>1995.0</td>\n",
       "      <td>0671537458</td>\n",
       "      <td>25</td>\n",
       "    </tr>\n",
       "    <tr>\n",
       "      <th>2</th>\n",
       "      <td>11676</td>\n",
       "      <td>8</td>\n",
       "      <td>1997.0</td>\n",
       "      <td>0679776818</td>\n",
       "      <td>15</td>\n",
       "    </tr>\n",
       "    <tr>\n",
       "      <th>3</th>\n",
       "      <td>11676</td>\n",
       "      <td>3</td>\n",
       "      <td>1999.0</td>\n",
       "      <td>0684867621</td>\n",
       "      <td>46</td>\n",
       "    </tr>\n",
       "    <tr>\n",
       "      <th>4</th>\n",
       "      <td>11676</td>\n",
       "      <td>8</td>\n",
       "      <td>1999.0</td>\n",
       "      <td>8437606322</td>\n",
       "      <td>12</td>\n",
       "    </tr>\n",
       "  </tbody>\n",
       "</table>\n",
       "</div>"
      ],
      "text/plain": [
       "   user_id  book_rating  year_of_publication unique_isbn  total_rating_count\n",
       "0    11676           10               2001.0  038550120X                 242\n",
       "1    11676            8               1995.0  0671537458                  25\n",
       "2    11676            8               1997.0  0679776818                  15\n",
       "3    11676            3               1999.0  0684867621                  46\n",
       "4    11676            8               1999.0  8437606322                  12"
      ]
     },
     "execution_count": 6,
     "metadata": {},
     "output_type": "execute_result"
    }
   ],
   "source": [
    "# Drop variables non-numeric variables\n",
    "reduced_with_count = reduced_with_count.drop(['isbn','book_author','book_title','publisher','age','city','state','country','dropornot','dropuser'], axis = 1)\n",
    "reduced_with_count.head(5)"
   ]
  },
  {
   "cell_type": "markdown",
   "metadata": {},
   "source": [
    "#### Trying the matrix way without splitting"
   ]
  },
  {
   "cell_type": "code",
   "execution_count": 51,
   "metadata": {},
   "outputs": [
    {
     "data": {
      "text/plain": [
       "<5584x11104 sparse matrix of type '<class 'numpy.float64'>'\n",
       "\twith 119226 stored elements in Compressed Sparse Row format>"
      ]
     },
     "execution_count": 51,
     "metadata": {},
     "output_type": "execute_result"
    }
   ],
   "source": [
    "from scipy.sparse import csr_matrix\n",
    "# Drop duplicates\n",
    "reduced_with_count = reduced_with_count.drop_duplicates(['user_id','book_title'])\n",
    "\n",
    "# Run pivot\n",
    "reduced_pivot = reduced_with_count.pivot(index = 'book_title', columns = 'user_id', values = 'book_rating').fillna(0)\n",
    "\n",
    "# Create a mtrix of pivot values\n",
    "reduced_matrix = csr_matrix(reduced_pivot.values)\n",
    "reduced_matrix"
   ]
  },
  {
   "cell_type": "markdown",
   "metadata": {},
   "source": [
    "#### Remove 9000+  isbn's that contain a letter"
   ]
  },
  {
   "cell_type": "code",
   "execution_count": 7,
   "metadata": {},
   "outputs": [
    {
     "name": "stdout",
     "output_type": "stream",
     "text": [
      "0\n"
     ]
    }
   ],
   "source": [
    "# Check for unqiue_isbn that have characters\n",
    "\n",
    "#reduced_with_count.loc[reduced_with_count['unique_isbn'].str.endswith('X')]\n",
    "reduced_with_count[reduced_with_count['unique_isbn'].str.endswith('X')]\n",
    "reduced_with_count =reduced_with_count[~(reduced_with_count['unique_isbn'].str.endswith('X'))]\n",
    "\n",
    "print(sum(reduced_with_count['unique_isbn'].str.endswith('X')))\n",
    "\n",
    "#iris.ix[iris['sepal length (cm)'] >= 5]\n",
    "#iris.ix[~(iris['sepal length (cm)'] < 5)]"
   ]
  },
  {
   "cell_type": "code",
   "execution_count": 8,
   "metadata": {},
   "outputs": [
    {
     "name": "stdout",
     "output_type": "stream",
     "text": [
      "0\n"
     ]
    }
   ],
   "source": [
    "reduced_with_count[reduced_with_count['unique_isbn'].str.endswith('x')]\n",
    "reduced_with_count =reduced_with_count[~(reduced_with_count['unique_isbn'].str.endswith('x'))]\n",
    "print(sum(reduced_with_count['unique_isbn'].str.endswith('x')))"
   ]
  },
  {
   "cell_type": "code",
   "execution_count": 9,
   "metadata": {},
   "outputs": [
    {
     "data": {
      "text/plain": [
       "{'0671537458': 8,\n",
       " '0679776818': 3,\n",
       " '0684867621': 9,\n",
       " '8437606322': 10,\n",
       " '3548603203': 1,\n",
       " '0440498058': 5,\n",
       " '0440225825': 7,\n",
       " '0380005239': 6,\n",
       " '3551551677': 4,\n",
       " '0836220889': 2}"
      ]
     },
     "execution_count": 9,
     "metadata": {},
     "output_type": "execute_result"
    }
   ],
   "source": [
    "predct = dict(zip(reduced_with_count.unique_isbn.unique(), reduced_with_count.book_rating.unique()))   \n",
    "predct"
   ]
  },
  {
   "cell_type": "markdown",
   "metadata": {},
   "source": [
    "#### Split the daset and declare variables"
   ]
  },
  {
   "cell_type": "code",
   "execution_count": 10,
   "metadata": {},
   "outputs": [
    {
     "name": "stdout",
     "output_type": "stream",
     "text": [
      "(110522, 4)\n",
      "0\n"
     ]
    }
   ],
   "source": [
    "# Split the data into train and test\n",
    "from sklearn.model_selection import train_test_split\n",
    "from sklearn.neighbors import KNeighborsClassifier\n",
    "\n",
    "X = reduced_with_count.drop(['book_rating'],axis = 1)\n",
    "print(X.shape)\n",
    "\n",
    "y = reduced_with_count['book_rating']\n",
    "X_train,X_test,y_train,y_test=train_test_split(X,y,test_size=0.30,random_state=0)\n",
    "\n",
    "print(sum(X['unique_isbn'].str.endswith('X')))\n"
   ]
  },
  {
   "cell_type": "code",
   "execution_count": 11,
   "metadata": {},
   "outputs": [
    {
     "name": "stdout",
     "output_type": "stream",
     "text": [
      "(77365, 4)\n",
      "(33157, 4)\n",
      "(77365,)\n",
      "(33157,)\n"
     ]
    }
   ],
   "source": [
    "# Look at the distribution of X_train and X_test\n",
    "print(X_train.shape)\n",
    "print(X_test.shape)\n",
    "print(y_train.shape)\n",
    "print(y_test.shape)"
   ]
  },
  {
   "cell_type": "code",
   "execution_count": 12,
   "metadata": {},
   "outputs": [
    {
     "data": {
      "text/html": [
       "<div>\n",
       "<style scoped>\n",
       "    .dataframe tbody tr th:only-of-type {\n",
       "        vertical-align: middle;\n",
       "    }\n",
       "\n",
       "    .dataframe tbody tr th {\n",
       "        vertical-align: top;\n",
       "    }\n",
       "\n",
       "    .dataframe thead th {\n",
       "        text-align: right;\n",
       "    }\n",
       "</style>\n",
       "<table border=\"1\" class=\"dataframe\">\n",
       "  <thead>\n",
       "    <tr style=\"text-align: right;\">\n",
       "      <th></th>\n",
       "      <th>user_id</th>\n",
       "      <th>year_of_publication</th>\n",
       "      <th>unique_isbn</th>\n",
       "      <th>total_rating_count</th>\n",
       "    </tr>\n",
       "  </thead>\n",
       "  <tbody>\n",
       "    <tr>\n",
       "      <th>100319</th>\n",
       "      <td>122716</td>\n",
       "      <td>1993.0</td>\n",
       "      <td>0451523385</td>\n",
       "      <td>13</td>\n",
       "    </tr>\n",
       "    <tr>\n",
       "      <th>50231</th>\n",
       "      <td>129851</td>\n",
       "      <td>1993.0</td>\n",
       "      <td>0345384466</td>\n",
       "      <td>97</td>\n",
       "    </tr>\n",
       "  </tbody>\n",
       "</table>\n",
       "</div>"
      ],
      "text/plain": [
       "        user_id  year_of_publication unique_isbn  total_rating_count\n",
       "100319   122716               1993.0  0451523385                  13\n",
       "50231    129851               1993.0  0345384466                  97"
      ]
     },
     "execution_count": 12,
     "metadata": {},
     "output_type": "execute_result"
    }
   ],
   "source": [
    "X_train.head(2)"
   ]
  },
  {
   "cell_type": "markdown",
   "metadata": {},
   "source": [
    "#### Use kNN Classifier to predict a new rating \n",
    "https://www.ritchieng.com/machine-learning-efficiently-search-tuning-param/"
   ]
  },
  {
   "cell_type": "code",
   "execution_count": 14,
   "metadata": {},
   "outputs": [
    {
     "name": "stdout",
     "output_type": "stream",
     "text": [
      "[1, 2, 3, 4, 5, 6, 7, 8, 9, 10, 11, 12, 13, 14, 15, 16, 17, 18, 19, 20, 21, 22, 23, 24, 25, 26, 27, 28, 29, 30, 31, 32, 33, 34, 35, 36, 37, 38, 39, 40, 41, 42, 43, 44, 45, 46, 47, 48, 49]\n",
      "{'n_neighbors': [1, 2, 3, 4, 5, 6, 7, 8, 9, 10, 11, 12, 13, 14, 15, 16, 17, 18, 19, 20, 21, 22, 23, 24, 25, 26, 27, 28, 29, 30, 31, 32, 33, 34, 35, 36, 37, 38, 39, 40, 41, 42, 43, 44, 45, 46, 47, 48, 49]}\n"
     ]
    }
   ],
   "source": [
    "# Run default kNN algorithm\n",
    "from sklearn.model_selection import GridSearchCV\n",
    "\n",
    "# Base model\n",
    "# metric = 'cosine', algorithm = 'brute'\n",
    "\n",
    "# Define parameters\n",
    "#param_grid = {'n_neighbors':[5, 10, 20],\n",
    "#              'metric': ['cosine'],\n",
    "#              'algorithm':['brute']}\n",
    "\n",
    "knn_clf = KNeighborsClassifier()\n",
    "k_range = list(range(1, 50))\n",
    "print(k_range)\n",
    "\n",
    "#predct = dict(zip(reduced.unique_isbn.unique(), reduced_with_count.book_title.unique()))   \n",
    "#predct\n",
    "\n",
    "param_grid = dict(n_neighbors=k_range)\n",
    "print(param_grid)"
   ]
  },
  {
   "cell_type": "code",
   "execution_count": 15,
   "metadata": {
    "collapsed": true
   },
   "outputs": [],
   "source": [
    "grid = GridSearchCV(knn_clf, param_grid, cv=10, scoring='accuracy')"
   ]
  },
  {
   "cell_type": "code",
   "execution_count": 16,
   "metadata": {},
   "outputs": [
    {
     "data": {
      "text/plain": [
       "GridSearchCV(cv=10, error_score='raise-deprecating',\n",
       "       estimator=KNeighborsClassifier(algorithm='auto', leaf_size=30, metric='minkowski',\n",
       "           metric_params=None, n_jobs=None, n_neighbors=5, p=2,\n",
       "           weights='uniform'),\n",
       "       fit_params=None, iid='warn', n_jobs=None,\n",
       "       param_grid={'n_neighbors': [1, 2, 3, 4, 5, 6, 7, 8, 9, 10, 11, 12, 13, 14, 15, 16, 17, 18, 19, 20, 21, 22, 23, 24, 25, 26, 27, 28, 29, 30, 31, 32, 33, 34, 35, 36, 37, 38, 39, 40, 41, 42, 43, 44, 45, 46, 47, 48, 49]},\n",
       "       pre_dispatch='2*n_jobs', refit=True, return_train_score='warn',\n",
       "       scoring='accuracy', verbose=0)"
      ]
     },
     "execution_count": 16,
     "metadata": {},
     "output_type": "execute_result"
    }
   ],
   "source": [
    "# fit the grid with data\n",
    "grid.fit(X_train, y_train)"
   ]
  },
  {
   "cell_type": "code",
   "execution_count": 17,
   "metadata": {},
   "outputs": [
    {
     "name": "stdout",
     "output_type": "stream",
     "text": [
      "{'n_neighbors': 47}\n",
      "KNeighborsClassifier(algorithm='auto', leaf_size=30, metric='minkowski',\n",
      "           metric_params=None, n_jobs=None, n_neighbors=47, p=2,\n",
      "           weights='uniform')\n"
     ]
    }
   ],
   "source": [
    "# view the complete results (list of named tuples)\n",
    "print(grid.best_params_)\n",
    "print(grid.best_estimator_) # best model"
   ]
  },
  {
   "cell_type": "code",
   "execution_count": 18,
   "metadata": {},
   "outputs": [
    {
     "name": "stdout",
     "output_type": "stream",
     "text": [
      "Parameters\n",
      "<bound method BaseEstimator.get_params of GridSearchCV(cv=10, error_score='raise-deprecating',\n",
      "       estimator=KNeighborsClassifier(algorithm='auto', leaf_size=30, metric='minkowski',\n",
      "           metric_params=None, n_jobs=None, n_neighbors=5, p=2,\n",
      "           weights='uniform'),\n",
      "       fit_params=None, iid='warn', n_jobs=None,\n",
      "       param_grid={'n_neighbors': [1, 2, 3, 4, 5, 6, 7, 8, 9, 10, 11, 12, 13, 14, 15, 16, 17, 18, 19, 20, 21, 22, 23, 24, 25, 26, 27, 28, 29, 30, 31, 32, 33, 34, 35, 36, 37, 38, 39, 40, 41, 42, 43, 44, 45, 46, 47, 48, 49]},\n",
      "       pre_dispatch='2*n_jobs', refit=True, return_train_score='warn',\n",
      "       scoring='accuracy', verbose=0)>\n",
      "\n",
      "CV Validation Score\n",
      "{'mean_fit_time': array([0.08686225, 0.08343081, 0.07644794, 0.07700782, 0.07768118,\n",
      "       0.07604599, 0.07554038, 0.07690408, 0.07710061, 0.07849185,\n",
      "       0.07682438, 0.07483931, 0.07609038, 0.07584369, 0.07638197,\n",
      "       0.07602274, 0.07623045, 0.0767019 , 0.07624729, 0.07547824,\n",
      "       0.07528725, 0.07561755, 0.07570906, 0.07542243, 0.07589512,\n",
      "       0.07496126, 0.07561996, 0.07567139, 0.07462234, 0.07472537,\n",
      "       0.07519379, 0.07607574, 0.07550619, 0.07584703, 0.07553067,\n",
      "       0.07573001, 0.0750315 , 0.08361731, 0.07753644, 0.07673845,\n",
      "       0.08511915, 0.07626462, 0.08910959, 0.08836281, 0.08647418,\n",
      "       0.08355143, 0.08863151, 0.0889329 , 0.07893083]), 'std_fit_time': array([0.01461854, 0.01115471, 0.00239556, 0.00210636, 0.0020238 ,\n",
      "       0.00208146, 0.00174946, 0.00241513, 0.00232605, 0.00598221,\n",
      "       0.00420414, 0.00175142, 0.00203467, 0.00147502, 0.00223964,\n",
      "       0.00197281, 0.00187777, 0.00216226, 0.00227783, 0.00205695,\n",
      "       0.00194499, 0.00198037, 0.00227437, 0.00196862, 0.00188941,\n",
      "       0.00166961, 0.00160484, 0.00161398, 0.0011889 , 0.00207704,\n",
      "       0.00171228, 0.00141697, 0.00146422, 0.00241517, 0.00130441,\n",
      "       0.00156526, 0.0017511 , 0.02084044, 0.0064452 , 0.00313345,\n",
      "       0.0114872 , 0.00424535, 0.00625043, 0.00603458, 0.00244292,\n",
      "       0.00591426, 0.01766617, 0.01508581, 0.00401959]), 'mean_score_time': array([0.03692944, 0.03686891, 0.03860817, 0.04146216, 0.04299068,\n",
      "       0.04452925, 0.04637437, 0.04821322, 0.05068824, 0.0531055 ,\n",
      "       0.05496397, 0.05675116, 0.0593539 , 0.06120124, 0.06262791,\n",
      "       0.0645438 , 0.06620827, 0.0713398 , 0.07285101, 0.07353816,\n",
      "       0.07559421, 0.07947721, 0.07940121, 0.08108869, 0.08436949,\n",
      "       0.08609912, 0.08758461, 0.09134591, 0.09098678, 0.09374304,\n",
      "       0.09646189, 0.0977828 , 0.10043945, 0.10319562, 0.10667245,\n",
      "       0.10796938, 0.1096647 , 0.12012284, 0.11376772, 0.11718237,\n",
      "       0.13441722, 0.12261362, 0.1492511 , 0.14898343, 0.15121791,\n",
      "       0.1439182 , 0.15598712, 0.14914534, 0.14124155]), 'std_score_time': array([0.00622501, 0.00219728, 0.0007037 , 0.00076111, 0.00199492,\n",
      "       0.00087805, 0.000743  , 0.00126427, 0.00085878, 0.00110686,\n",
      "       0.00113893, 0.00134926, 0.00159279, 0.00174379, 0.00150749,\n",
      "       0.00209112, 0.00102108, 0.00149019, 0.00147044, 0.00184434,\n",
      "       0.00053715, 0.00462068, 0.00142456, 0.00139581, 0.00104493,\n",
      "       0.00151033, 0.00149448, 0.00190576, 0.00176942, 0.00154011,\n",
      "       0.00145534, 0.00144719, 0.00117827, 0.00184377, 0.00127124,\n",
      "       0.00157319, 0.00123258, 0.02194683, 0.00244109, 0.00221628,\n",
      "       0.01998685, 0.00258031, 0.00618321, 0.00456575, 0.00197227,\n",
      "       0.01285257, 0.02808463, 0.01249811, 0.00689098]), 'param_n_neighbors': masked_array(data=[1, 2, 3, 4, 5, 6, 7, 8, 9, 10, 11, 12, 13, 14, 15, 16,\n",
      "                   17, 18, 19, 20, 21, 22, 23, 24, 25, 26, 27, 28, 29, 30,\n",
      "                   31, 32, 33, 34, 35, 36, 37, 38, 39, 40, 41, 42, 43, 44,\n",
      "                   45, 46, 47, 48, 49],\n",
      "             mask=[False, False, False, False, False, False, False, False,\n",
      "                   False, False, False, False, False, False, False, False,\n",
      "                   False, False, False, False, False, False, False, False,\n",
      "                   False, False, False, False, False, False, False, False,\n",
      "                   False, False, False, False, False, False, False, False,\n",
      "                   False, False, False, False, False, False, False, False,\n",
      "                   False],\n",
      "       fill_value='?',\n",
      "            dtype=object), 'params': [{'n_neighbors': 1}, {'n_neighbors': 2}, {'n_neighbors': 3}, {'n_neighbors': 4}, {'n_neighbors': 5}, {'n_neighbors': 6}, {'n_neighbors': 7}, {'n_neighbors': 8}, {'n_neighbors': 9}, {'n_neighbors': 10}, {'n_neighbors': 11}, {'n_neighbors': 12}, {'n_neighbors': 13}, {'n_neighbors': 14}, {'n_neighbors': 15}, {'n_neighbors': 16}, {'n_neighbors': 17}, {'n_neighbors': 18}, {'n_neighbors': 19}, {'n_neighbors': 20}, {'n_neighbors': 21}, {'n_neighbors': 22}, {'n_neighbors': 23}, {'n_neighbors': 24}, {'n_neighbors': 25}, {'n_neighbors': 26}, {'n_neighbors': 27}, {'n_neighbors': 28}, {'n_neighbors': 29}, {'n_neighbors': 30}, {'n_neighbors': 31}, {'n_neighbors': 32}, {'n_neighbors': 33}, {'n_neighbors': 34}, {'n_neighbors': 35}, {'n_neighbors': 36}, {'n_neighbors': 37}, {'n_neighbors': 38}, {'n_neighbors': 39}, {'n_neighbors': 40}, {'n_neighbors': 41}, {'n_neighbors': 42}, {'n_neighbors': 43}, {'n_neighbors': 44}, {'n_neighbors': 45}, {'n_neighbors': 46}, {'n_neighbors': 47}, {'n_neighbors': 48}, {'n_neighbors': 49}], 'split0_test_score': array([0.21989664, 0.18229974, 0.18875969, 0.20193798, 0.2126615 ,\n",
      "       0.21886305, 0.21757106, 0.21705426, 0.2126615 , 0.21666667,\n",
      "       0.22105943, 0.22015504, 0.2250646 , 0.2251938 , 0.22609819,\n",
      "       0.22945736, 0.22842377, 0.23462532, 0.23565891, 0.23863049,\n",
      "       0.23824289, 0.2378553 , 0.23914729, 0.23901809, 0.24031008,\n",
      "       0.24379845, 0.24405685, 0.24521964, 0.24573643, 0.24418605,\n",
      "       0.24302326, 0.24392765, 0.24005168, 0.24237726, 0.24573643,\n",
      "       0.24560724, 0.24043928, 0.24160207, 0.24224806, 0.24483204,\n",
      "       0.24844961, 0.24664083, 0.24689922, 0.24702842, 0.25090439,\n",
      "       0.25478036, 0.25503876, 0.25219638, 0.2505168 ]), 'split1_test_score': array([0.22059964, 0.19035927, 0.18855001, 0.20444559, 0.21000258,\n",
      "       0.21866115, 0.22473507, 0.22072887, 0.22137503, 0.22680279,\n",
      "       0.23391057, 0.23520289, 0.2300336 , 0.23145516, 0.23416904,\n",
      "       0.23546136, 0.23597829, 0.23675368, 0.23675368, 0.23727061,\n",
      "       0.23895063, 0.23778754, 0.23752908, 0.23933833, 0.2439907 ,\n",
      "       0.24256914, 0.24437839, 0.2439907 , 0.24554148, 0.24411993,\n",
      "       0.24696304, 0.24502455, 0.2479969 , 0.24864306, 0.24411993,\n",
      "       0.24747997, 0.24812613, 0.24231067, 0.24179375, 0.24515379,\n",
      "       0.24334453, 0.2428276 , 0.24179375, 0.24192298, 0.24101835,\n",
      "       0.24101835, 0.24295684, 0.24179375, 0.24450762]), 'split2_test_score': array([0.21866115, 0.18777462, 0.18338072, 0.194107  , 0.20638408,\n",
      "       0.21400879, 0.21969501, 0.22202119, 0.22215043, 0.22809512,\n",
      "       0.22925821, 0.23223055, 0.23080899, 0.23145516, 0.23184285,\n",
      "       0.22925821, 0.23326441, 0.23520289, 0.23391057, 0.23571982,\n",
      "       0.2388214 , 0.24037219, 0.24075989, 0.24192298, 0.24088912,\n",
      "       0.24166451, 0.24166451, 0.24127682, 0.24037219, 0.24114758,\n",
      "       0.24218144, 0.24192298, 0.24127682, 0.23985526, 0.23907987,\n",
      "       0.2432153 , 0.24502455, 0.2432153 , 0.24437839, 0.24373223,\n",
      "       0.24463686, 0.24554148, 0.24618765, 0.24709227, 0.24709227,\n",
      "       0.24528302, 0.24579995, 0.24786767, 0.24864306]), 'split3_test_score': array([0.21856017, 0.18327517, 0.18934988, 0.20072379, 0.21662143,\n",
      "       0.21687993, 0.22153289, 0.21662143, 0.22308388, 0.22385938,\n",
      "       0.23096808, 0.22993408, 0.2278661 , 0.22644436, 0.22851234,\n",
      "       0.23148507, 0.23368231, 0.23549179, 0.2341993 , 0.2344578 ,\n",
      "       0.23562104, 0.23678428, 0.23523329, 0.23355306, 0.23587954,\n",
      "       0.23717203, 0.23898152, 0.23859377, 0.24040326, 0.24014476,\n",
      "       0.23911077, 0.24117875, 0.23820602, 0.24027401, 0.23833527,\n",
      "       0.23678428, 0.23743053, 0.24001551, 0.23872302, 0.24040326,\n",
      "       0.23872302, 0.24208349, 0.24234199, 0.24027401, 0.23691353,\n",
      "       0.23833527, 0.23820602, 0.23794752, 0.24040326]), 'split4_test_score': array([0.21959416, 0.18534316, 0.18909138, 0.20343803, 0.21287321,\n",
      "       0.21610443, 0.21675068, 0.21856017, 0.2202404 , 0.22140364,\n",
      "       0.2281246 , 0.22928784, 0.22385938, 0.22450562, 0.2276076 ,\n",
      "       0.22838309, 0.23148507, 0.23200207, 0.23122657, 0.23213132,\n",
      "       0.23432855, 0.2347163 , 0.23575029, 0.23820602, 0.23743053,\n",
      "       0.23820602, 0.23949851, 0.241308  , 0.23833527, 0.23743053,\n",
      "       0.23743053, 0.24143725, 0.24389298, 0.23781828, 0.23962776,\n",
      "       0.24208349, 0.24272974, 0.23730128, 0.23988626, 0.24195425,\n",
      "       0.24169575, 0.24143725, 0.241825  , 0.241825  , 0.24298824,\n",
      "       0.24014476, 0.241825  , 0.24324674, 0.24466848]), 'split5_test_score': array([0.22078594, 0.18368666, 0.18885729, 0.19945708, 0.20966908,\n",
      "       0.21471044, 0.21315926, 0.21845915, 0.2205274 , 0.22983454,\n",
      "       0.23720269, 0.23552223, 0.2360393 , 0.23759049, 0.23888314,\n",
      "       0.23901241, 0.23927094, 0.23940021, 0.2401758 , 0.23991727,\n",
      "       0.23681489, 0.23940021, 0.23927094, 0.23991727, 0.23875388,\n",
      "       0.24133919, 0.24276112, 0.24172699, 0.23914168, 0.24069286,\n",
      "       0.24289038, 0.23901241, 0.24159772, 0.2409514 , 0.24198552,\n",
      "       0.24133919, 0.24120993, 0.24250259, 0.24185626, 0.24405377,\n",
      "       0.24599276, 0.24418304, 0.2454757 , 0.24431231, 0.2450879 ,\n",
      "       0.24534643, 0.24625129, 0.24676836, 0.24495863]), 'split6_test_score': array([0.21664943, 0.19415719, 0.18536711, 0.19997415, 0.21432265,\n",
      "       0.22272492, 0.22350052, 0.22065667, 0.22065667, 0.22375905,\n",
      "       0.2254395 , 0.22401758, 0.22686143, 0.22466391, 0.22595657,\n",
      "       0.2262151 , 0.22608583, 0.22867115, 0.23216132, 0.23655636,\n",
      "       0.23681489, 0.23384178, 0.23448811, 0.23629783, 0.23384178,\n",
      "       0.23668563, 0.23836608, 0.23940021, 0.24211479, 0.24495863,\n",
      "       0.24237332, 0.24379524, 0.24146846, 0.24159772, 0.24185626,\n",
      "       0.24534643, 0.24599276, 0.24146846, 0.24133919, 0.24457084,\n",
      "       0.24120993, 0.23823681, 0.24030507, 0.2409514 , 0.24340745,\n",
      "       0.24495863, 0.24663909, 0.24405377, 0.24418304]), 'split7_test_score': array([0.21587384, 0.18536711, 0.18497932, 0.19919855, 0.2160031 ,\n",
      "       0.2209152 , 0.22362978, 0.22414685, 0.22996381, 0.22944674,\n",
      "       0.23125646, 0.22892968, 0.23216132, 0.23086867, 0.23410031,\n",
      "       0.23267839, 0.23306618, 0.23410031, 0.23655636, 0.2352637 ,\n",
      "       0.23319545, 0.23629783, 0.23435884, 0.23720269, 0.23552223,\n",
      "       0.23539297, 0.23229059, 0.23552223, 0.23500517, 0.23241986,\n",
      "       0.23332472, 0.23655636, 0.23784902, 0.23552223, 0.23707342,\n",
      "       0.23707342, 0.23810755, 0.2352637 , 0.2360393 , 0.23836608,\n",
      "       0.23836608, 0.23888314, 0.23940021, 0.24043433, 0.23940021,\n",
      "       0.23965874, 0.24263185, 0.2401758 , 0.2405636 ]), 'split8_test_score': array([0.21890354, 0.18683734, 0.18683734, 0.20222395, 0.21205069,\n",
      "       0.21761055, 0.22317042, 0.2261443 , 0.22885958, 0.23597104,\n",
      "       0.22769589, 0.23105767, 0.22937678, 0.23054047, 0.22989397,\n",
      "       0.23054047, 0.23015257, 0.23429015, 0.23196276, 0.23403155,\n",
      "       0.23222136, 0.23364365, 0.23441945, 0.23558314, 0.23700543,\n",
      "       0.23545384, 0.23351435, 0.23467804, 0.23519524, 0.23803982,\n",
      "       0.23997931, 0.23829842, 0.24075511, 0.23985001, 0.2423067 ,\n",
      "       0.2412723 , 0.24010861, 0.23816912, 0.23868632, 0.2412723 ,\n",
      "       0.23855702, 0.23713473, 0.23920352, 0.23881562, 0.23959141,\n",
      "       0.24036721, 0.24075511, 0.2419188 , 0.2415309 ]), 'split9_test_score': array([0.21311263, 0.18595629, 0.18996508, 0.19099961, 0.20612957,\n",
      "       0.21970775, 0.22552696, 0.22682012, 0.23263934, 0.22953576,\n",
      "       0.23031165, 0.23354455, 0.23406181, 0.23186344, 0.23095823,\n",
      "       0.23651882, 0.23470839, 0.23457908, 0.23690676, 0.23444976,\n",
      "       0.23819992, 0.24117419, 0.24039829, 0.24052761, 0.24117419,\n",
      "       0.24156214, 0.24104487, 0.24557093, 0.24647614, 0.24712272,\n",
      "       0.24789862, 0.24815725, 0.25035562, 0.24815725, 0.24841588,\n",
      "       0.25216604, 0.25449373, 0.25281262, 0.25009699, 0.24983836,\n",
      "       0.24983836, 0.24841588, 0.24945041, 0.24841588, 0.24906246,\n",
      "       0.24621751, 0.24828656, 0.24983836, 0.24712272]), 'mean_test_score': array([0.21826407, 0.18650553, 0.18751373, 0.199651  , 0.21167194,\n",
      "       0.21801848, 0.22092678, 0.22112066, 0.22321463, 0.22653655,\n",
      "       0.22952239, 0.22998772, 0.22961287, 0.22945777, 0.23080204,\n",
      "       0.23190073, 0.23261165, 0.23451173, 0.23495121, 0.23584308,\n",
      "       0.23632133, 0.23718736, 0.23713566, 0.23815679, 0.23847993,\n",
      "       0.23938473, 0.23965618, 0.24072901, 0.24083242, 0.2410263 ,\n",
      "       0.24151748, 0.24193111, 0.24234473, 0.24150456, 0.24185355,\n",
      "       0.24323661, 0.24336586, 0.24146578, 0.24150456, 0.24341757,\n",
      "       0.2430815 , 0.24253862, 0.24328831, 0.24310735, 0.24354682,\n",
      "       0.24361145, 0.2448394 , 0.24458088, 0.24471014]), 'std_test_score': array([0.00227487, 0.00337855, 0.00211831, 0.00395269, 0.00343974,\n",
      "       0.00258202, 0.003815  , 0.00344183, 0.00552044, 0.00508435,\n",
      "       0.00421479, 0.00458945, 0.00365596, 0.00397291, 0.00387957,\n",
      "       0.00380596, 0.00359579, 0.0026647 , 0.00263964, 0.00219516,\n",
      "       0.00227841, 0.00250084, 0.00245302, 0.00239224, 0.00295224,\n",
      "       0.0029722 , 0.00389079, 0.00354847, 0.00393617, 0.00411082,\n",
      "       0.0040947 , 0.00327395, 0.00382216, 0.00390679, 0.00333714,\n",
      "       0.0044293 , 0.00493149, 0.00449819, 0.00361951, 0.00299003,\n",
      "       0.00390572, 0.00354468, 0.003319  , 0.00319633, 0.00427875,\n",
      "       0.00460367, 0.0044754 , 0.00426099, 0.003182  ]), 'rank_test_score': array([44, 49, 48, 47, 46, 45, 43, 42, 41, 40, 38, 36, 37, 39, 35, 34, 33,\n",
      "       32, 31, 30, 29, 27, 28, 26, 25, 24, 23, 22, 21, 20, 16, 14, 13, 17,\n",
      "       15,  9,  7, 19, 17,  6, 11, 12,  8, 10,  5,  4,  1,  3,  2],\n",
      "      dtype=int32), 'split0_train_score': array([0.99979892, 0.61183483, 0.52340395, 0.48731059, 0.46000718,\n",
      "       0.43596409, 0.41745063, 0.40347576, 0.39312029, 0.38260682,\n",
      "       0.3763447 , 0.37005386, 0.36297307, 0.35530341, 0.34878276,\n",
      "       0.34611131, 0.34092639, 0.34017953, 0.33500898, 0.33197846,\n",
      "       0.32927828, 0.32637702, 0.32548654, 0.32347576, 0.32277199,\n",
      "       0.31971275, 0.31742908, 0.31636625, 0.31517415, 0.31373788,\n",
      "       0.31169838, 0.31052065, 0.30991741, 0.3087684 , 0.30852424,\n",
      "       0.3054219 , 0.30503411, 0.30461759, 0.30299461, 0.30148654,\n",
      "       0.29977738, 0.29959066, 0.29857092, 0.2979246 , 0.2971921 ,\n",
      "       0.2963447 , 0.2962298 , 0.29628725, 0.2952675 ]), 'split1_train_score': array([0.99975584, 0.61148692, 0.52347509, 0.48959455, 0.46115731,\n",
      "       0.4356356 , 0.41751045, 0.40334928, 0.39404254, 0.3837879 ,\n",
      "       0.37428009, 0.36775963, 0.36076522, 0.3547618 , 0.3497781 ,\n",
      "       0.34509601, 0.34159162, 0.33854683, 0.3354015 , 0.33254341,\n",
      "       0.32938372, 0.32699958, 0.32405532, 0.3223893 , 0.32037859,\n",
      "       0.31925833, 0.31624226, 0.31668749, 0.31596938, 0.31404484,\n",
      "       0.31303948, 0.31153145, 0.31056918, 0.30913295, 0.30804142,\n",
      "       0.30641849, 0.30501099, 0.30248323, 0.30199492, 0.30061614,\n",
      "       0.29959642, 0.29920864, 0.2985767 , 0.29794476, 0.29711175,\n",
      "       0.29627874, 0.2957617 , 0.29561808, 0.29535956]), 'split2_train_score': array([0.99975584, 0.61131458, 0.52394904, 0.49104514, 0.45982162,\n",
      "       0.43631063, 0.41845836, 0.40375142, 0.39353986, 0.38493688,\n",
      "       0.37538599, 0.36844902, 0.36174185, 0.35471872, 0.34930415,\n",
      "       0.34489494, 0.34143364, 0.3372255 , 0.33522915, 0.33257213,\n",
      "       0.33017364, 0.32757407, 0.32586497, 0.32406969, 0.32171428,\n",
      "       0.32010571, 0.31852586, 0.31651514, 0.31527999, 0.31403048,\n",
      "       0.31374323, 0.31107185, 0.30844356, 0.30739512, 0.30630359,\n",
      "       0.30628923, 0.30470938, 0.30399127, 0.30308645, 0.30185129,\n",
      "       0.30152096, 0.30094647, 0.30071668, 0.29961078, 0.2986916 ,\n",
      "       0.29760007, 0.29741336, 0.29600586, 0.29579043]), 'split3_train_score': array([0.99972712, 0.61103292, 0.52303671, 0.48859654, 0.45892457,\n",
      "       0.43696501, 0.41687252, 0.40243867, 0.3927443 , 0.38365313,\n",
      "       0.3747343 , 0.36860171, 0.36111909, 0.35546045, 0.35000287,\n",
      "       0.34618257, 0.34427242, 0.34140001, 0.33799621, 0.33419027,\n",
      "       0.33177745, 0.32812949, 0.32685127, 0.32484058, 0.32244212,\n",
      "       0.32076176, 0.31944045, 0.31659677, 0.31638134, 0.31319297,\n",
      "       0.31325042, 0.31218763, 0.31033492, 0.30842477, 0.30787901,\n",
      "       0.30680186, 0.30582524, 0.30506405, 0.30400126, 0.30272304,\n",
      "       0.30222037, 0.30102832, 0.2994485 , 0.2994485 , 0.29857241,\n",
      "       0.29775378, 0.29755271, 0.29646119, 0.2956282 ]), 'split4_train_score': array([0.99979893, 0.61223933, 0.52256276, 0.48786408, 0.45914   ,\n",
      "       0.43521285, 0.41971621, 0.40454989, 0.39261504, 0.38368185,\n",
      "       0.37575401, 0.36865916, 0.36136324, 0.35626472, 0.35166887,\n",
      "       0.34774803, 0.34170161, 0.33831217, 0.33664618, 0.33364451,\n",
      "       0.33108807, 0.32837364, 0.32672201, 0.32488367, 0.32268628,\n",
      "       0.32020164, 0.3186649 , 0.31732924, 0.31702763, 0.31559143,\n",
      "       0.31409778, 0.31280519, 0.31190038, 0.30955937, 0.30851094,\n",
      "       0.3073907 , 0.3069024 , 0.30454702, 0.3033837 , 0.30375711,\n",
      "       0.30362785, 0.30289539, 0.30193313, 0.30066927, 0.30107141,\n",
      "       0.30019532, 0.29855805, 0.29756707, 0.29749526]), 'split5_train_score': array([0.99972713, 0.61102414, 0.52192334, 0.48811558, 0.45792701,\n",
      "       0.43522096, 0.41667983, 0.4026196 , 0.39405995, 0.38550029,\n",
      "       0.37573425, 0.3678496 , 0.36026656, 0.35443565, 0.35074466,\n",
      "       0.34581855, 0.34248661, 0.33846529, 0.33533442, 0.33168651,\n",
      "       0.3303365 , 0.32742105, 0.32553965, 0.32324175, 0.32120237,\n",
      "       0.3195364 , 0.31824384, 0.31670712, 0.31527094, 0.31442359,\n",
      "       0.31235548, 0.31129271, 0.30995706, 0.3080613 , 0.30771661,\n",
      "       0.30560542, 0.30452829, 0.3036953 , 0.30237401, 0.30291976,\n",
      "       0.30129687, 0.29998995, 0.29994686, 0.29866866, 0.29862557,\n",
      "       0.29806546, 0.29650002, 0.29519309, 0.29425958]), 'split6_train_score': array([0.99977021, 0.61230235, 0.52267015, 0.48860389, 0.45877436,\n",
      "       0.43549383, 0.41781442, 0.40319407, 0.39316951, 0.38351836,\n",
      "       0.37619383, 0.36891238, 0.36243519, 0.35644631, 0.35177871,\n",
      "       0.34712548, 0.34146692, 0.33873817, 0.33635411, 0.33365408,\n",
      "       0.33019288, 0.32941734, 0.32640136, 0.32381623, 0.3222077 ,\n",
      "       0.31978055, 0.31942151, 0.31741085, 0.31515604, 0.31446667,\n",
      "       0.31192463, 0.31104856, 0.308248  , 0.30842034, 0.30702724,\n",
      "       0.30573468, 0.30435594, 0.30294848, 0.30156975, 0.30144049,\n",
      "       0.2996309 , 0.29928622, 0.29996122, 0.29904207, 0.29779259,\n",
      "       0.29713194, 0.29516437, 0.29533671, 0.29392925]), 'split7_train_score': array([0.99972713, 0.61208692, 0.52327335, 0.48883368, 0.46032544,\n",
      "       0.43526404, 0.41591865, 0.40216002, 0.39174769, 0.38165132,\n",
      "       0.37415445, 0.36896983, 0.36048198, 0.35485214, 0.3498255 ,\n",
      "       0.34571802, 0.34252969, 0.33959988, 0.33547803, 0.33147108,\n",
      "       0.33125565, 0.32879978, 0.32710509, 0.3239024 , 0.32279654,\n",
      "       0.32134599, 0.32031194, 0.31861724, 0.31725287, 0.31505551,\n",
      "       0.31259964, 0.31126398, 0.31037355, 0.30896609, 0.3080613 ,\n",
      "       0.30583521, 0.30518893, 0.30484425, 0.30313519, 0.30266125,\n",
      "       0.30256071, 0.30095219, 0.29997558, 0.29954473, 0.2985394 ,\n",
      "       0.29764897, 0.29764897, 0.29681598, 0.29622715]), 'split8_train_score': array([0.99972713, 0.61238529, 0.52199451, 0.48718243, 0.45940745,\n",
      "       0.43493559, 0.41817581, 0.40302451, 0.39350289, 0.38349298,\n",
      "       0.37566601, 0.36693427, 0.36113225, 0.35538769, 0.3496862 ,\n",
      "       0.34527725, 0.34195976, 0.3391162 , 0.33697635, 0.33324238,\n",
      "       0.33057115, 0.32877598, 0.32801482, 0.32568827, 0.32252876,\n",
      "       0.32097773, 0.31695653, 0.31664058, 0.31388318, 0.31333745,\n",
      "       0.31236087, 0.31040772, 0.30852637, 0.30743491, 0.30743491,\n",
      "       0.30608493, 0.30450518, 0.30428976, 0.30339935, 0.30237969,\n",
      "       0.30087174, 0.30035473, 0.30008186, 0.29897603, 0.29797073,\n",
      "       0.29709468, 0.2964197 , 0.29656331, 0.29557237]), 'split9_train_score': array([0.9997415 , 0.61441579, 0.52326517, 0.48917165, 0.46016199,\n",
      "       0.43485754, 0.41834214, 0.40261661, 0.39328182, 0.38353056,\n",
      "       0.37527286, 0.36582318, 0.35880055, 0.35317096, 0.34810145,\n",
      "       0.34439625, 0.34071978, 0.33757468, 0.33431468, 0.33191636,\n",
      "       0.3293457 , 0.32684685, 0.32470703, 0.32262466, 0.32121726,\n",
      "       0.31936466, 0.31728228, 0.31600414, 0.31489832, 0.31336167,\n",
      "       0.31140855, 0.30888097, 0.30806239, 0.3066119 , 0.30552045,\n",
      "       0.30493164, 0.30371094, 0.30269129, 0.3018009 , 0.30144187,\n",
      "       0.30035041, 0.30030733, 0.2992446 , 0.29842601, 0.29762178,\n",
      "       0.29716222, 0.29740636, 0.2961713 , 0.29516602]), 'mean_train_score': array([0.99975298, 0.61201231, 0.52295541, 0.48863181, 0.45956469,\n",
      "       0.43558601, 0.4176939 , 0.40311798, 0.39318239, 0.38363601,\n",
      "       0.37535205, 0.36820126, 0.3611079 , 0.35508018, 0.34996733,\n",
      "       0.34583684, 0.34190884, 0.33891583, 0.33587396, 0.33268992,\n",
      "       0.3303403 , 0.32787148, 0.3260748 , 0.32389323, 0.32199459,\n",
      "       0.32010455, 0.31825187, 0.31688748, 0.31562938, 0.31412425,\n",
      "       0.31264785, 0.31110107, 0.30963328, 0.30827752, 0.30750197,\n",
      "       0.30605141, 0.30497714, 0.30391722, 0.30277401, 0.30212772,\n",
      "       0.30114536, 0.30045599, 0.29984561, 0.29902554, 0.29831893,\n",
      "       0.29752759, 0.2968655 , 0.29620199, 0.29546953]), 'std_train_score': array([2.70944074e-05, 9.37394311e-04, 6.23397500e-04, 1.08570008e-03,\n",
      "       8.74940275e-04, 6.25341844e-04, 1.01431870e-03, 6.72796468e-04,\n",
      "       6.57765495e-04, 1.01177584e-03, 7.12218160e-04, 1.11978289e-03,\n",
      "       1.10676549e-03, 8.88988966e-04, 1.10640515e-03, 9.66798648e-04,\n",
      "       9.61879009e-04, 1.16906722e-03, 1.03982993e-03, 8.96070053e-04,\n",
      "       8.12244177e-04, 9.33975208e-04, 1.12156769e-03, 9.80180750e-04,\n",
      "       7.86055270e-04, 6.77478128e-04, 1.20846618e-03, 6.97836168e-04,\n",
      "       9.76593882e-04, 7.38847495e-04, 8.33616958e-04, 1.00415092e-03,\n",
      "       1.19452543e-03, 8.62655651e-04, 9.19105181e-04, 6.74198837e-04,\n",
      "       8.34278237e-04, 8.80509352e-04, 7.55634379e-04, 8.77488853e-04,\n",
      "       1.29447485e-03, 1.03380833e-03, 9.46927045e-04, 7.97652390e-04,\n",
      "       1.07392853e-03, 1.04467849e-03, 9.69129946e-04, 6.77670701e-04,\n",
      "       9.37963907e-04])}\n",
      "\n",
      "Mean Validation Score\n"
     ]
    },
    {
     "ename": "AttributeError",
     "evalue": "'GridSearchCV' object has no attribute 'grid_scores_'",
     "output_type": "error",
     "traceback": [
      "\u001b[0;31m---------------------------------------------------------------------------\u001b[0m",
      "\u001b[0;31mAttributeError\u001b[0m                            Traceback (most recent call last)",
      "\u001b[0;32m<ipython-input-18-bc7f24a545b0>\u001b[0m in \u001b[0;36m<module>\u001b[0;34m()\u001b[0m\n\u001b[1;32m     10\u001b[0m \u001b[0mprint\u001b[0m\u001b[0;34m(\u001b[0m\u001b[0;34m''\u001b[0m\u001b[0;34m)\u001b[0m\u001b[0;34m\u001b[0m\u001b[0m\n\u001b[1;32m     11\u001b[0m \u001b[0mprint\u001b[0m\u001b[0;34m(\u001b[0m\u001b[0;34m'Mean Validation Score'\u001b[0m\u001b[0;34m)\u001b[0m\u001b[0;34m\u001b[0m\u001b[0m\n\u001b[0;32m---> 12\u001b[0;31m \u001b[0mprint\u001b[0m\u001b[0;34m(\u001b[0m\u001b[0mgrid\u001b[0m\u001b[0;34m.\u001b[0m\u001b[0mgrid_scores_\u001b[0m\u001b[0;34m[\u001b[0m\u001b[0;36m0\u001b[0m\u001b[0;34m]\u001b[0m\u001b[0;34m.\u001b[0m\u001b[0mmean_validation_score\u001b[0m\u001b[0;34m)\u001b[0m\u001b[0;34m\u001b[0m\u001b[0m\n\u001b[0m",
      "\u001b[0;31mAttributeError\u001b[0m: 'GridSearchCV' object has no attribute 'grid_scores_'"
     ]
    }
   ],
   "source": [
    "print('Parameters')\n",
    "print(grid.get_params)\n",
    "\n",
    "# Array of 10 accuracy scores during 10-fold cv using the parameters\n",
    "print('')\n",
    "print('CV Validation Score')\n",
    "print(grid.cv_results_ )\n",
    "\n",
    "# Mean of the 10 scores\n",
    "print('')\n",
    "print('Mean Validation Score')\n",
    "print(grid.grid_scores_[0].mean_validation_score)"
   ]
  },
  {
   "cell_type": "code",
   "execution_count": 26,
   "metadata": {},
   "outputs": [
    {
     "data": {
      "text/plain": [
       "KNeighborsClassifier(algorithm='auto', leaf_size=30, metric='minkowski',\n",
       "           metric_params=None, n_jobs=None, n_neighbors=47, p=2,\n",
       "           weights='uniform')"
      ]
     },
     "execution_count": 26,
     "metadata": {},
     "output_type": "execute_result"
    }
   ],
   "source": [
    "# KNN BEST\n",
    "knn_best = KNeighborsClassifier(algorithm='auto', leaf_size=30, metric='minkowski',\n",
    "           metric_params=None, n_jobs=None, n_neighbors=47, p=2,\n",
    "           weights='uniform')\n",
    "knn_best.fit(X_train, y_train)"
   ]
  },
  {
   "cell_type": "code",
   "execution_count": 27,
   "metadata": {},
   "outputs": [
    {
     "name": "stdout",
     "output_type": "stream",
     "text": [
      "0.24408118949241486\n"
     ]
    }
   ],
   "source": [
    "from sklearn.metrics import accuracy_score\n",
    "knn_best_probs = knn_best.predict_proba(X_test)[:,1]\n",
    "knn_best_preds = knn_best.predict(X_test)\n",
    "print(accuracy_score(y_test, knn_best_preds))"
   ]
  },
  {
   "cell_type": "code",
   "execution_count": 28,
   "metadata": {},
   "outputs": [
    {
     "data": {
      "text/html": [
       "<div>\n",
       "<style scoped>\n",
       "    .dataframe tbody tr th:only-of-type {\n",
       "        vertical-align: middle;\n",
       "    }\n",
       "\n",
       "    .dataframe tbody tr th {\n",
       "        vertical-align: top;\n",
       "    }\n",
       "\n",
       "    .dataframe thead th {\n",
       "        text-align: right;\n",
       "    }\n",
       "</style>\n",
       "<table border=\"1\" class=\"dataframe\">\n",
       "  <thead>\n",
       "    <tr style=\"text-align: right;\">\n",
       "      <th></th>\n",
       "      <th>user_id</th>\n",
       "      <th>year_of_publication</th>\n",
       "      <th>unique_isbn</th>\n",
       "      <th>total_rating_count</th>\n",
       "    </tr>\n",
       "  </thead>\n",
       "  <tbody>\n",
       "    <tr>\n",
       "      <th>100319</th>\n",
       "      <td>122716</td>\n",
       "      <td>1993.0</td>\n",
       "      <td>0451523385</td>\n",
       "      <td>13</td>\n",
       "    </tr>\n",
       "    <tr>\n",
       "      <th>50231</th>\n",
       "      <td>129851</td>\n",
       "      <td>1993.0</td>\n",
       "      <td>0345384466</td>\n",
       "      <td>97</td>\n",
       "    </tr>\n",
       "  </tbody>\n",
       "</table>\n",
       "</div>"
      ],
      "text/plain": [
       "        user_id  year_of_publication unique_isbn  total_rating_count\n",
       "100319   122716               1993.0  0451523385                  13\n",
       "50231    129851               1993.0  0345384466                  97"
      ]
     },
     "execution_count": 28,
     "metadata": {},
     "output_type": "execute_result"
    }
   ],
   "source": [
    "X_train.head(2)"
   ]
  },
  {
   "cell_type": "markdown",
   "metadata": {},
   "source": [
    "#### Cross - Validation\n",
    "https://kevinzakka.github.io/2016/07/13/k-nearest-neighbor/"
   ]
  },
  {
   "cell_type": "code",
   "execution_count": 29,
   "metadata": {
    "collapsed": true
   },
   "outputs": [],
   "source": [
    "from sklearn.model_selection import cross_val_score\n",
    "# creating odd list of K for KNN\n",
    "myList = list(range(1,50))\n",
    "\n",
    "# subsetting just the odd ones\n",
    "neighbors = list(filter(lambda x: x % 2 != 0, myList))\n",
    "\n",
    "# empty list that will hold cv scores\n",
    "cv_scores = []\n",
    "\n",
    "# perform 10-fold cross validation\n",
    "for k in neighbors:\n",
    "    knn_clf2 = KNeighborsClassifier(n_neighbors=k)\n",
    "    scores = cross_val_score(knn_clf2, X_train, y_train, cv=10, scoring='accuracy')\n",
    "    cv_scores.append(scores.mean())"
   ]
  },
  {
   "cell_type": "code",
   "execution_count": 163,
   "metadata": {},
   "outputs": [
    {
     "name": "stdout",
     "output_type": "stream",
     "text": [
      "The optimal number of neighbors is 47\n"
     ]
    },
    {
     "data": {
      "image/png": "[encoded data removed]",
      "text/plain": [
       "<Figure size 432x288 with 1 Axes>"
      ]
     },
     "metadata": {},
     "output_type": "display_data"
    }
   ],
   "source": [
    "# changing to misclassification error\n",
    "MSE = [1 - x for x in cv_scores]\n",
    "\n",
    "# determining best k\n",
    "optimal_k = neighbors[MSE.index(min(MSE))]\n",
    "print(\"The optimal number of neighbors is %d\" % optimal_k)\n",
    "\n",
    "# plot misclassification error vs k\n",
    "plt.plot(neighbors, MSE)\n",
    "plt.xlabel('Number of Neighbors K')\n",
    "plt.ylabel('Misclassification Error')\n",
    "plt.show()"
   ]
  },
  {
   "cell_type": "markdown",
   "metadata": {},
   "source": [
    "#### ! Code below does not work -- crashes kernel"
   ]
  },
  {
   "cell_type": "code",
   "execution_count": null,
   "metadata": {
    "collapsed": true
   },
   "outputs": [],
   "source": [
    "from matplotlib.colors import ListedColormap\n",
    "from sklearn.neighbors import KNeighborsClassifier\n",
    "import numpy as np\n",
    "import matplotlib.pyplot as plt\n",
    "import pylab as pl\n",
    "\n",
    "h = .05 # step size in the mesh\n",
    "\n",
    "# Initialize the best classfier \n",
    "knn_best = KNeighborsClassifier(algorithm='auto', leaf_size=30, metric='minkowski',\n",
    "           metric_params=None, n_jobs=None, n_neighbors=19, p=2,\n",
    "           weights='uniform')\n",
    "# Fit the data\n",
    "knn_best.fit(X_train, y_train)\n",
    "\n",
    "x_min, x_max = X_train.iloc[:, 0].min() - 0.5, X_train.iloc[:, 0].max() + 0.5\n",
    "y_min, y_max = X_train.iloc[:, 1].min() - 0.5, X_train.iloc[:, 1].max() + 0.5\n",
    "xx, yy = np.meshgrid(np.arange(x_min, x_max, h),np.arange(y_min, y_max, h))\n",
    "Z = knn_best.predict(np.c_[xx.ravel(), yy.ravel()])\n",
    "\n",
    "# Put the result into a color plot\n",
    "Z = Z.reshape(xx.shape)\n",
    "pl.figure(1, figsize=(4, 3))\n",
    "pl.set_cmap(pl.cm.Paired)\n",
    "pl.pcolormesh(xx, yy, Z)\n",
    "\n",
    "# Plot also the training points\n",
    "pl.scatter(X_train.iloc[:,0], X_train.iloc[:,1],c=Y )\n",
    "pl.xlabel('User ID')\n",
    "pl.ylabel('Year of Publication')\n",
    "\n",
    "pl.xlim(xx.min(), xx.max())\n",
    "pl.ylim(yy.min(), yy.max())\n",
    "pl.xticks(())\n",
    "pl.yticks(())\n",
    "\n",
    "pl.show()"
   ]
  },
  {
   "cell_type": "code",
   "execution_count": null,
   "metadata": {
    "collapsed": true
   },
   "outputs": [],
   "source": []
  },
  {
   "cell_type": "code",
   "execution_count": null,
   "metadata": {
    "collapsed": true
   },
   "outputs": [],
   "source": []
  }
 ],
 "metadata": {
  "kernelspec": {
   "display_name": "Python 3",
   "language": "python",
   "name": "python3"
  },
  "language_info": {
   "codemirror_mode": {
    "name": "ipython",
    "version": 3
   },
   "file_extension": ".py",
   "mimetype": "text/x-python",
   "name": "python",
   "nbconvert_exporter": "python",
   "pygments_lexer": "ipython3",
   "version": "3.6.5"
  }
 },
 "nbformat": 4,
 "nbformat_minor": 2
}
